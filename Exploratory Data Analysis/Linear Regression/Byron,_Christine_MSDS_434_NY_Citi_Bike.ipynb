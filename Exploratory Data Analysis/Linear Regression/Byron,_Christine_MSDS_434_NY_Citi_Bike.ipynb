{
  "nbformat": 4,
  "nbformat_minor": 0,
  "metadata": {
    "colab": {
      "name": "Byron, Christine_MSDS 434_NY Citi Bike.ipynb",
      "provenance": []
    },
    "kernelspec": {
      "name": "python3",
      "display_name": "Python 3"
    }
  },
  "cells": [
    {
      "cell_type": "markdown",
      "metadata": {
        "id": "MVpp30FQh_Nv",
        "colab_type": "text"
      },
      "source": [
        "#Final Assignment - NYC Citi Bike Trips"
      ]
    },
    {
      "cell_type": "markdown",
      "metadata": {
        "id": "uZgDE555ivms",
        "colab_type": "text"
      },
      "source": [
        "**Overview**\n",
        "\n",
        "\n",
        "Citi Bike is the nation's largest bike share program, with 10,000 bikes and 600 stations across Manhattan, Brooklyn, Queens, and Jersey City. This dataset includes Citi Bike trips since Citi Bike launched in September 2013 and is updated daily. The data has been processed by Citi Bike to remove trips that are taken by staff to service and inspect the system, as well as any trips below 60 seconds in length, which are considered false starts.\n",
        "\n",
        "This public dataset is hosted in Google BigQuery and is included in BigQuery's 1TB/mo of free tier processing. This means that each user receives 1TB of free BigQuery processing every month, which can be used to run queries on this public dataset. Watch this short video to learn how to get started quickly using BigQuery to access public datasets."
      ]
    },
    {
      "cell_type": "markdown",
      "metadata": {
        "id": "LPc43hArjDk_",
        "colab_type": "text"
      },
      "source": [
        "###Notebook Setup"
      ]
    },
    {
      "cell_type": "code",
      "metadata": {
        "id": "DQn-13ZCd4Kc",
        "colab_type": "code",
        "colab": {
          "base_uri": "https://localhost:8080/",
          "height": 34
        },
        "outputId": "33c1cfb9-de3c-42be-cef2-e4c52c41b5c2"
      },
      "source": [
        "from google.colab import auth\n",
        "auth.authenticate_user()\n",
        "print('Authenticated')"
      ],
      "execution_count": 1,
      "outputs": [
        {
          "output_type": "stream",
          "text": [
            "Authenticated\n"
          ],
          "name": "stdout"
        }
      ]
    },
    {
      "cell_type": "code",
      "metadata": {
        "id": "2YUZSPNXh-di",
        "colab_type": "code",
        "colab": {}
      },
      "source": [
        "#Import Libraries\n",
        "import numpy as np\n",
        "import matplotlib.pyplot as plt\n",
        "import pandas as pd\n",
        "from pandas import *\n",
        "import seaborn as sns\n",
        "from matplotlib import rcParams\n",
        "import datetime as dt\n",
        "import geopy.geocoders\n",
        "from geopy.geocoders import Nominatim\n",
        "from geopy.distance import geodesic\n",
        "from geopy.distance import vincenty\n",
        "from geopy import distance\n",
        "from sklearn.model_selection import train_test_split\n",
        "from sklearn.linear_model import LinearRegression\n",
        "import statsmodels.api as sm\n",
        "from sklearn.preprocessing import StandardScaler"
      ],
      "execution_count": 0,
      "outputs": []
    },
    {
      "cell_type": "markdown",
      "metadata": {
        "id": "C-kUGp0QjfC5",
        "colab_type": "text"
      },
      "source": [
        "###Analyze BigQuery Dataset"
      ]
    },
    {
      "cell_type": "markdown",
      "metadata": {
        "id": "Js9QTIkSkB6a",
        "colab_type": "text"
      },
      "source": [
        "**What are the most popular Citi Bike stations?**"
      ]
    },
    {
      "cell_type": "code",
      "metadata": {
        "id": "lG2M8Gejd_qS",
        "colab_type": "code",
        "colab": {
          "base_uri": "https://localhost:8080/",
          "height": 346
        },
        "outputId": "5f5d7250-e646-4ab9-e56c-61b34a9e2d6b"
      },
      "source": [
        "%%bigquery --project msds434-cohort-analysis-mvp\n",
        "SELECT\n",
        "  start_station_name,\n",
        "  start_station_latitude,\n",
        "  start_station_longitude,\n",
        "  COUNT(*) AS num_trips\n",
        "FROM\n",
        "  `bigquery-public-data.new_york.citibike_trips`\n",
        "GROUP BY\n",
        "  1,\n",
        "  2,\n",
        "  3\n",
        "ORDER BY\n",
        "  num_trips DESC\n",
        "LIMIT\n",
        "  10"
      ],
      "execution_count": 2,
      "outputs": [
        {
          "output_type": "execute_result",
          "data": {
            "text/html": [
              "<div>\n",
              "<style scoped>\n",
              "    .dataframe tbody tr th:only-of-type {\n",
              "        vertical-align: middle;\n",
              "    }\n",
              "\n",
              "    .dataframe tbody tr th {\n",
              "        vertical-align: top;\n",
              "    }\n",
              "\n",
              "    .dataframe thead th {\n",
              "        text-align: right;\n",
              "    }\n",
              "</style>\n",
              "<table border=\"1\" class=\"dataframe\">\n",
              "  <thead>\n",
              "    <tr style=\"text-align: right;\">\n",
              "      <th></th>\n",
              "      <th>start_station_name</th>\n",
              "      <th>start_station_latitude</th>\n",
              "      <th>start_station_longitude</th>\n",
              "      <th>num_trips</th>\n",
              "    </tr>\n",
              "  </thead>\n",
              "  <tbody>\n",
              "    <tr>\n",
              "      <th>0</th>\n",
              "      <td>E 17 St &amp; Broadway</td>\n",
              "      <td>40.737050</td>\n",
              "      <td>-73.990093</td>\n",
              "      <td>291615</td>\n",
              "    </tr>\n",
              "    <tr>\n",
              "      <th>1</th>\n",
              "      <td>Lafayette St &amp; E 8 St</td>\n",
              "      <td>40.730287</td>\n",
              "      <td>-73.990765</td>\n",
              "      <td>277060</td>\n",
              "    </tr>\n",
              "    <tr>\n",
              "      <th>2</th>\n",
              "      <td>W 21 St &amp; 6 Ave</td>\n",
              "      <td>40.741740</td>\n",
              "      <td>-73.994156</td>\n",
              "      <td>275348</td>\n",
              "    </tr>\n",
              "    <tr>\n",
              "      <th>3</th>\n",
              "      <td>West St &amp; Chambers St</td>\n",
              "      <td>40.717548</td>\n",
              "      <td>-74.013221</td>\n",
              "      <td>260911</td>\n",
              "    </tr>\n",
              "    <tr>\n",
              "      <th>4</th>\n",
              "      <td>Pershing Square North</td>\n",
              "      <td>40.751873</td>\n",
              "      <td>-73.977706</td>\n",
              "      <td>246181</td>\n",
              "    </tr>\n",
              "    <tr>\n",
              "      <th>5</th>\n",
              "      <td>Broadway &amp; E 14 St</td>\n",
              "      <td>40.734546</td>\n",
              "      <td>-73.990741</td>\n",
              "      <td>244420</td>\n",
              "    </tr>\n",
              "    <tr>\n",
              "      <th>6</th>\n",
              "      <td>Broadway &amp; E 22 St</td>\n",
              "      <td>40.740343</td>\n",
              "      <td>-73.989551</td>\n",
              "      <td>237394</td>\n",
              "    </tr>\n",
              "    <tr>\n",
              "      <th>7</th>\n",
              "      <td>8 Ave &amp; W 33 St</td>\n",
              "      <td>40.751551</td>\n",
              "      <td>-73.993934</td>\n",
              "      <td>223970</td>\n",
              "    </tr>\n",
              "    <tr>\n",
              "      <th>8</th>\n",
              "      <td>W 20 St &amp; 11 Ave</td>\n",
              "      <td>40.746745</td>\n",
              "      <td>-74.007756</td>\n",
              "      <td>211840</td>\n",
              "    </tr>\n",
              "    <tr>\n",
              "      <th>9</th>\n",
              "      <td>Broadway &amp; W 24 St</td>\n",
              "      <td>40.742354</td>\n",
              "      <td>-73.989151</td>\n",
              "      <td>211713</td>\n",
              "    </tr>\n",
              "  </tbody>\n",
              "</table>\n",
              "</div>"
            ],
            "text/plain": [
              "      start_station_name  ...  num_trips\n",
              "0     E 17 St & Broadway  ...     291615\n",
              "1  Lafayette St & E 8 St  ...     277060\n",
              "2        W 21 St & 6 Ave  ...     275348\n",
              "3  West St & Chambers St  ...     260911\n",
              "4  Pershing Square North  ...     246181\n",
              "5     Broadway & E 14 St  ...     244420\n",
              "6     Broadway & E 22 St  ...     237394\n",
              "7        8 Ave & W 33 St  ...     223970\n",
              "8       W 20 St & 11 Ave  ...     211840\n",
              "9     Broadway & W 24 St  ...     211713\n",
              "\n",
              "[10 rows x 4 columns]"
            ]
          },
          "metadata": {
            "tags": []
          },
          "execution_count": 2
        }
      ]
    },
    {
      "cell_type": "markdown",
      "metadata": {
        "id": "9uAW6oznpLwZ",
        "colab_type": "text"
      },
      "source": [
        "In reviewing the 2013-2015 dataset, we can better visualize the New York Citi bike stations that are most popular. The results above categorize this interest by look to the station in which the user started their ride."
      ]
    },
    {
      "cell_type": "markdown",
      "metadata": {
        "id": "kdMFx_idj85l",
        "colab_type": "text"
      },
      "source": [
        "**What are the most popular routes by subscriber type?**"
      ]
    },
    {
      "cell_type": "code",
      "metadata": {
        "id": "5oQ5OQuMjrNW",
        "colab_type": "code",
        "colab": {
          "base_uri": "https://localhost:8080/",
          "height": 346
        },
        "outputId": "2eff5b15-06e4-441c-b40a-36519401fe3a"
      },
      "source": [
        "%%bigquery --project msds434-cohort-analysis-mvp\n",
        "SELECT\n",
        "  usertype, \n",
        "  CONCAT(start_station_name, \" to \", end_station_name) as route, \n",
        "  COUNT(*) as num_trips,\n",
        "  ROUND(AVG(cast(tripduration as int64) / 60),2) as duration\n",
        "FROM \n",
        "  `bigquery-public-data.new_york.citibike_trips`\n",
        "GROUP BY\n",
        "  start_station_name, end_station_name, usertype\n",
        "ORDER BY \n",
        "  num_trips DESC\n",
        "LIMIT 10"
      ],
      "execution_count": 33,
      "outputs": [
        {
          "output_type": "execute_result",
          "data": {
            "text/html": [
              "<div>\n",
              "<style scoped>\n",
              "    .dataframe tbody tr th:only-of-type {\n",
              "        vertical-align: middle;\n",
              "    }\n",
              "\n",
              "    .dataframe tbody tr th {\n",
              "        vertical-align: top;\n",
              "    }\n",
              "\n",
              "    .dataframe thead th {\n",
              "        text-align: right;\n",
              "    }\n",
              "</style>\n",
              "<table border=\"1\" class=\"dataframe\">\n",
              "  <thead>\n",
              "    <tr style=\"text-align: right;\">\n",
              "      <th></th>\n",
              "      <th>usertype</th>\n",
              "      <th>route</th>\n",
              "      <th>num_trips</th>\n",
              "      <th>duration</th>\n",
              "    </tr>\n",
              "  </thead>\n",
              "  <tbody>\n",
              "    <tr>\n",
              "      <th>0</th>\n",
              "      <td>Customer</td>\n",
              "      <td>Central Park S &amp; 6 Ave to Central Park S &amp; 6 Ave</td>\n",
              "      <td>40009</td>\n",
              "      <td>50.89</td>\n",
              "    </tr>\n",
              "    <tr>\n",
              "      <th>1</th>\n",
              "      <td>Customer</td>\n",
              "      <td>Grand Army Plaza &amp; Central Park S to Grand Arm...</td>\n",
              "      <td>15234</td>\n",
              "      <td>52.99</td>\n",
              "    </tr>\n",
              "    <tr>\n",
              "      <th>2</th>\n",
              "      <td>Customer</td>\n",
              "      <td>Centre St &amp; Chambers St to Centre St &amp; Chamber...</td>\n",
              "      <td>12466</td>\n",
              "      <td>35.65</td>\n",
              "    </tr>\n",
              "    <tr>\n",
              "      <th>3</th>\n",
              "      <td>Subscriber</td>\n",
              "      <td>W 21 St &amp; 6 Ave to 9 Ave &amp; W 22 St</td>\n",
              "      <td>11594</td>\n",
              "      <td>5.35</td>\n",
              "    </tr>\n",
              "    <tr>\n",
              "      <th>4</th>\n",
              "      <td>Customer</td>\n",
              "      <td>Broadway &amp; W 60 St to Broadway &amp; W 60 St</td>\n",
              "      <td>10816</td>\n",
              "      <td>52.36</td>\n",
              "    </tr>\n",
              "    <tr>\n",
              "      <th>5</th>\n",
              "      <td>Subscriber</td>\n",
              "      <td>W 21 St &amp; 6 Ave to W 22 St &amp; 10 Ave</td>\n",
              "      <td>10451</td>\n",
              "      <td>6.95</td>\n",
              "    </tr>\n",
              "    <tr>\n",
              "      <th>6</th>\n",
              "      <td>Subscriber</td>\n",
              "      <td>E 7 St &amp; Avenue A to Lafayette St &amp; E 8 St</td>\n",
              "      <td>9639</td>\n",
              "      <td>5.59</td>\n",
              "    </tr>\n",
              "    <tr>\n",
              "      <th>7</th>\n",
              "      <td>Subscriber</td>\n",
              "      <td>West Thames St to Vesey Pl &amp; River Terrace</td>\n",
              "      <td>9218</td>\n",
              "      <td>6.67</td>\n",
              "    </tr>\n",
              "    <tr>\n",
              "      <th>8</th>\n",
              "      <td>Subscriber</td>\n",
              "      <td>W 17 St &amp; 8 Ave to 8 Ave &amp; W 31 St</td>\n",
              "      <td>8760</td>\n",
              "      <td>6.43</td>\n",
              "    </tr>\n",
              "    <tr>\n",
              "      <th>9</th>\n",
              "      <td>Subscriber</td>\n",
              "      <td>E 43 St &amp; Vanderbilt Ave to W 41 St &amp; 8 Ave</td>\n",
              "      <td>8743</td>\n",
              "      <td>7.04</td>\n",
              "    </tr>\n",
              "  </tbody>\n",
              "</table>\n",
              "</div>"
            ],
            "text/plain": [
              "     usertype  ... duration\n",
              "0    Customer  ...    50.89\n",
              "1    Customer  ...    52.99\n",
              "2    Customer  ...    35.65\n",
              "3  Subscriber  ...     5.35\n",
              "4    Customer  ...    52.36\n",
              "5  Subscriber  ...     6.95\n",
              "6  Subscriber  ...     5.59\n",
              "7  Subscriber  ...     6.67\n",
              "8  Subscriber  ...     6.43\n",
              "9  Subscriber  ...     7.04\n",
              "\n",
              "[10 rows x 4 columns]"
            ]
          },
          "metadata": {
            "tags": []
          },
          "execution_count": 33
        }
      ]
    },
    {
      "cell_type": "markdown",
      "metadata": {
        "id": "ryMxWHZCqaWa",
        "colab_type": "text"
      },
      "source": [
        "We also wanted to understand frequent patterns from our Citi bike subscribers. The results above aim to describe the most popular routes by subscriber type. Within this dataset, “Subscribers” are Citibike members while “Customers” are one-off users. The table above shows the tops bike route habits for each member type. "
      ]
    },
    {
      "cell_type": "markdown",
      "metadata": {
        "id": "wnivsclhkD2h",
        "colab_type": "text"
      },
      "source": [
        "**What are the top routes by gender?**"
      ]
    },
    {
      "cell_type": "code",
      "metadata": {
        "id": "5HEHJSKfkEF6",
        "colab_type": "code",
        "colab": {
          "base_uri": "https://localhost:8080/",
          "height": 197
        },
        "outputId": "0fdd031a-d65c-46f6-9636-fe5cd6ee12be"
      },
      "source": [
        "%%bigquery --project msds434-cohort-analysis-mvp\n",
        "SELECT\n",
        "  CONCAT(start_station_name, \" to \", end_station_name) AS route,\n",
        "  COUNT(*) AS num_trips\n",
        "FROM\n",
        "  `bigquery-public-data.new_york.citibike_trips`\n",
        "WHERE\n",
        "  gender = \"female\"\n",
        "  AND CAST(starttime AS string) LIKE '2016%'\n",
        "GROUP BY\n",
        "  start_station_name,\n",
        "  end_station_name\n",
        "ORDER BY\n",
        "  num_trips DESC\n",
        "LIMIT\n",
        "  5"
      ],
      "execution_count": 35,
      "outputs": [
        {
          "output_type": "execute_result",
          "data": {
            "text/html": [
              "<div>\n",
              "<style scoped>\n",
              "    .dataframe tbody tr th:only-of-type {\n",
              "        vertical-align: middle;\n",
              "    }\n",
              "\n",
              "    .dataframe tbody tr th {\n",
              "        vertical-align: top;\n",
              "    }\n",
              "\n",
              "    .dataframe thead th {\n",
              "        text-align: right;\n",
              "    }\n",
              "</style>\n",
              "<table border=\"1\" class=\"dataframe\">\n",
              "  <thead>\n",
              "    <tr style=\"text-align: right;\">\n",
              "      <th></th>\n",
              "      <th>route</th>\n",
              "      <th>num_trips</th>\n",
              "    </tr>\n",
              "  </thead>\n",
              "  <tbody>\n",
              "    <tr>\n",
              "      <th>0</th>\n",
              "      <td>W 21 St &amp; 6 Ave to W 22 St &amp; 10 Ave</td>\n",
              "      <td>942</td>\n",
              "    </tr>\n",
              "    <tr>\n",
              "      <th>1</th>\n",
              "      <td>N 6 St &amp; Bedford Ave to Wythe Ave &amp; Metropolit...</td>\n",
              "      <td>905</td>\n",
              "    </tr>\n",
              "    <tr>\n",
              "      <th>2</th>\n",
              "      <td>W 21 St &amp; 6 Ave to 9 Ave &amp; W 22 St</td>\n",
              "      <td>809</td>\n",
              "    </tr>\n",
              "    <tr>\n",
              "      <th>3</th>\n",
              "      <td>Wythe Ave &amp; Metropolitan Ave to N 6 St &amp; Bedfo...</td>\n",
              "      <td>769</td>\n",
              "    </tr>\n",
              "    <tr>\n",
              "      <th>4</th>\n",
              "      <td>W 22 St &amp; 10 Ave to W 21 St &amp; 6 Ave</td>\n",
              "      <td>765</td>\n",
              "    </tr>\n",
              "  </tbody>\n",
              "</table>\n",
              "</div>"
            ],
            "text/plain": [
              "                                               route  num_trips\n",
              "0                W 21 St & 6 Ave to W 22 St & 10 Ave        942\n",
              "1  N 6 St & Bedford Ave to Wythe Ave & Metropolit...        905\n",
              "2                 W 21 St & 6 Ave to 9 Ave & W 22 St        809\n",
              "3  Wythe Ave & Metropolitan Ave to N 6 St & Bedfo...        769\n",
              "4                W 22 St & 10 Ave to W 21 St & 6 Ave        765"
            ]
          },
          "metadata": {
            "tags": []
          },
          "execution_count": 35
        }
      ]
    },
    {
      "cell_type": "markdown",
      "metadata": {
        "id": "6PW8q2jyq_p7",
        "colab_type": "text"
      },
      "source": [
        "After understanding frequent routes by member type, it was also suggested that this be evaluated by gender. The table above shows the popular routes taken by both male and female Citibike users. "
      ]
    },
    {
      "cell_type": "markdown",
      "metadata": {
        "id": "H3cyNZMNrYbY",
        "colab_type": "text"
      },
      "source": [
        "###Analyze 2016 Citi Bike Data"
      ]
    },
    {
      "cell_type": "markdown",
      "metadata": {
        "id": "JfSesqvrksWv",
        "colab_type": "text"
      },
      "source": [
        "With the full Citi Bike dataset being larger, a subset of 2016 was generated for further exploratory research. The details below show the how the sample count of around 1,000,000 records was created. "
      ]
    },
    {
      "cell_type": "code",
      "metadata": {
        "id": "qkdYH11feb1j",
        "colab_type": "code",
        "colab": {}
      },
      "source": [
        "project_id = 'msds434-cohort-analysis-mvp'"
      ],
      "execution_count": 0,
      "outputs": []
    },
    {
      "cell_type": "code",
      "metadata": {
        "id": "UPKqp_sBeg9f",
        "colab_type": "code",
        "colab": {
          "base_uri": "https://localhost:8080/",
          "height": 51
        },
        "outputId": "9791e992-fea5-4d7d-ef64-20016e6d7b25"
      },
      "source": [
        "from google.cloud import bigquery\n",
        "\n",
        "client = bigquery.Client(project='msds434-cohort-analysis-mvp')\n",
        "\n",
        "sample_count = 1000000\n",
        "row_count = client.query('''\n",
        "  SELECT \n",
        "    COUNT(*) as total\n",
        "  FROM `msds434-cohort-analysis-mvp.citibikenyc_analysis.citibikenyc_2016`''').to_dataframe().total[0]\n",
        "\n",
        "df = client.query('''\n",
        "  SELECT\n",
        "    *\n",
        "  FROM\n",
        "    `msds434-cohort-analysis-mvp.citibikenyc_analysis.citibikenyc_2016`\n",
        "  WHERE RAND() < %d/%d\n",
        "''' % (sample_count, row_count)).to_dataframe()\n",
        "\n",
        "print('Full dataset has %d rows' % row_count)"
      ],
      "execution_count": 44,
      "outputs": [
        {
          "output_type": "stream",
          "text": [
            "WARNING:google.auth._default:No project ID could be determined. Consider running `gcloud config set project` or setting the GOOGLE_CLOUD_PROJECT environment variable\n"
          ],
          "name": "stderr"
        },
        {
          "output_type": "stream",
          "text": [
            "Full dataset has 10262758 rows\n"
          ],
          "name": "stdout"
        }
      ]
    },
    {
      "cell_type": "code",
      "metadata": {
        "id": "EfqT2W2yft2u",
        "colab_type": "code",
        "colab": {
          "base_uri": "https://localhost:8080/",
          "height": 286
        },
        "outputId": "df90c350-e14d-4fba-c1f2-49bbc5bb54fe"
      },
      "source": [
        "df.describe()"
      ],
      "execution_count": 45,
      "outputs": [
        {
          "output_type": "execute_result",
          "data": {
            "text/html": [
              "<div>\n",
              "<style scoped>\n",
              "    .dataframe tbody tr th:only-of-type {\n",
              "        vertical-align: middle;\n",
              "    }\n",
              "\n",
              "    .dataframe tbody tr th {\n",
              "        vertical-align: top;\n",
              "    }\n",
              "\n",
              "    .dataframe thead th {\n",
              "        text-align: right;\n",
              "    }\n",
              "</style>\n",
              "<table border=\"1\" class=\"dataframe\">\n",
              "  <thead>\n",
              "    <tr style=\"text-align: right;\">\n",
              "      <th></th>\n",
              "      <th>tripduration</th>\n",
              "      <th>start_station_id</th>\n",
              "      <th>start_station_latitude</th>\n",
              "      <th>start_station_longitude</th>\n",
              "      <th>end_station_id</th>\n",
              "      <th>end_station_latitude</th>\n",
              "      <th>end_station_longitude</th>\n",
              "      <th>bikeid</th>\n",
              "      <th>birth_year</th>\n",
              "    </tr>\n",
              "  </thead>\n",
              "  <tbody>\n",
              "    <tr>\n",
              "      <th>count</th>\n",
              "      <td>1.000309e+06</td>\n",
              "      <td>1.000309e+06</td>\n",
              "      <td>1.000309e+06</td>\n",
              "      <td>1.000309e+06</td>\n",
              "      <td>1.000309e+06</td>\n",
              "      <td>1.000309e+06</td>\n",
              "      <td>1.000309e+06</td>\n",
              "      <td>1.000309e+06</td>\n",
              "      <td>875245.000000</td>\n",
              "    </tr>\n",
              "    <tr>\n",
              "      <th>mean</th>\n",
              "      <td>9.983013e+02</td>\n",
              "      <td>9.975767e+02</td>\n",
              "      <td>4.073762e+01</td>\n",
              "      <td>-7.398665e+01</td>\n",
              "      <td>9.842912e+02</td>\n",
              "      <td>4.073698e+01</td>\n",
              "      <td>-7.398630e+01</td>\n",
              "      <td>2.064772e+04</td>\n",
              "      <td>1977.651332</td>\n",
              "    </tr>\n",
              "    <tr>\n",
              "      <th>std</th>\n",
              "      <td>9.825605e+03</td>\n",
              "      <td>1.135670e+03</td>\n",
              "      <td>2.352822e-02</td>\n",
              "      <td>1.628141e-02</td>\n",
              "      <td>1.126608e+03</td>\n",
              "      <td>1.102889e-01</td>\n",
              "      <td>1.964002e-01</td>\n",
              "      <td>3.489891e+03</td>\n",
              "      <td>11.662016</td>\n",
              "    </tr>\n",
              "    <tr>\n",
              "      <th>min</th>\n",
              "      <td>6.100000e+01</td>\n",
              "      <td>7.200000e+01</td>\n",
              "      <td>4.064668e+01</td>\n",
              "      <td>-7.401713e+01</td>\n",
              "      <td>7.200000e+01</td>\n",
              "      <td>0.000000e+00</td>\n",
              "      <td>-7.405757e+01</td>\n",
              "      <td>1.452900e+04</td>\n",
              "      <td>1885.000000</td>\n",
              "    </tr>\n",
              "    <tr>\n",
              "      <th>25%</th>\n",
              "      <td>3.870000e+02</td>\n",
              "      <td>3.340000e+02</td>\n",
              "      <td>4.072087e+01</td>\n",
              "      <td>-7.399810e+01</td>\n",
              "      <td>3.300000e+02</td>\n",
              "      <td>4.072066e+01</td>\n",
              "      <td>-7.399852e+01</td>\n",
              "      <td>1.760400e+04</td>\n",
              "      <td>1970.000000</td>\n",
              "    </tr>\n",
              "    <tr>\n",
              "      <th>50%</th>\n",
              "      <td>6.430000e+02</td>\n",
              "      <td>4.580000e+02</td>\n",
              "      <td>4.073902e+01</td>\n",
              "      <td>-7.398860e+01</td>\n",
              "      <td>4.570000e+02</td>\n",
              "      <td>4.073818e+01</td>\n",
              "      <td>-7.398889e+01</td>\n",
              "      <td>2.077800e+04</td>\n",
              "      <td>1980.000000</td>\n",
              "    </tr>\n",
              "    <tr>\n",
              "      <th>75%</th>\n",
              "      <td>1.095000e+03</td>\n",
              "      <td>5.360000e+02</td>\n",
              "      <td>4.075467e+01</td>\n",
              "      <td>-7.397769e+01</td>\n",
              "      <td>5.330000e+02</td>\n",
              "      <td>4.075323e+01</td>\n",
              "      <td>-7.397771e+01</td>\n",
              "      <td>2.359400e+04</td>\n",
              "      <td>1987.000000</td>\n",
              "    </tr>\n",
              "    <tr>\n",
              "      <th>max</th>\n",
              "      <td>4.504481e+06</td>\n",
              "      <td>3.436000e+03</td>\n",
              "      <td>4.080421e+01</td>\n",
              "      <td>-7.392989e+01</td>\n",
              "      <td>3.435000e+03</td>\n",
              "      <td>4.080421e+01</td>\n",
              "      <td>0.000000e+00</td>\n",
              "      <td>2.731600e+04</td>\n",
              "      <td>2000.000000</td>\n",
              "    </tr>\n",
              "  </tbody>\n",
              "</table>\n",
              "</div>"
            ],
            "text/plain": [
              "       tripduration  start_station_id  ...        bikeid     birth_year\n",
              "count  1.000309e+06      1.000309e+06  ...  1.000309e+06  875245.000000\n",
              "mean   9.983013e+02      9.975767e+02  ...  2.064772e+04    1977.651332\n",
              "std    9.825605e+03      1.135670e+03  ...  3.489891e+03      11.662016\n",
              "min    6.100000e+01      7.200000e+01  ...  1.452900e+04    1885.000000\n",
              "25%    3.870000e+02      3.340000e+02  ...  1.760400e+04    1970.000000\n",
              "50%    6.430000e+02      4.580000e+02  ...  2.077800e+04    1980.000000\n",
              "75%    1.095000e+03      5.360000e+02  ...  2.359400e+04    1987.000000\n",
              "max    4.504481e+06      3.436000e+03  ...  2.731600e+04    2000.000000\n",
              "\n",
              "[8 rows x 9 columns]"
            ]
          },
          "metadata": {
            "tags": []
          },
          "execution_count": 45
        }
      ]
    },
    {
      "cell_type": "markdown",
      "metadata": {
        "id": "M4p9YhHZ0xT2",
        "colab_type": "text"
      },
      "source": [
        "####Data Clean Up"
      ]
    },
    {
      "cell_type": "markdown",
      "metadata": {
        "id": "OuW8RmK3xYRA",
        "colab_type": "text"
      },
      "source": [
        "**Missing Data**: From the data sample, it is important too understand which fields may have missing information."
      ]
    },
    {
      "cell_type": "code",
      "metadata": {
        "id": "MCQ-QHSiw6HG",
        "colab_type": "code",
        "colab": {
          "base_uri": "https://localhost:8080/",
          "height": 496
        },
        "outputId": "c711a4d1-8c1b-4596-f06f-040771bf26cc"
      },
      "source": [
        "sample_df = df\n",
        "#Percentage of missing data.\n",
        "def missing_data(sample_df):\n",
        "    total = sample_df.isnull().sum().sort_values(ascending=False)\n",
        "    percent = (sample_df.isnull().sum()/sample_df.isnull().count()*100).sort_values(ascending=False)\n",
        "    missing_data = pd.concat([total, percent], axis=1, keys=['Total', 'Percent'])\n",
        "    return missing_data\n",
        "missing_data(sample_df)"
      ],
      "execution_count": 48,
      "outputs": [
        {
          "output_type": "execute_result",
          "data": {
            "text/html": [
              "<div>\n",
              "<style scoped>\n",
              "    .dataframe tbody tr th:only-of-type {\n",
              "        vertical-align: middle;\n",
              "    }\n",
              "\n",
              "    .dataframe tbody tr th {\n",
              "        vertical-align: top;\n",
              "    }\n",
              "\n",
              "    .dataframe thead th {\n",
              "        text-align: right;\n",
              "    }\n",
              "</style>\n",
              "<table border=\"1\" class=\"dataframe\">\n",
              "  <thead>\n",
              "    <tr style=\"text-align: right;\">\n",
              "      <th></th>\n",
              "      <th>Total</th>\n",
              "      <th>Percent</th>\n",
              "    </tr>\n",
              "  </thead>\n",
              "  <tbody>\n",
              "    <tr>\n",
              "      <th>birth_year</th>\n",
              "      <td>125064</td>\n",
              "      <td>12.502537</td>\n",
              "    </tr>\n",
              "    <tr>\n",
              "      <th>gender</th>\n",
              "      <td>0</td>\n",
              "      <td>0.000000</td>\n",
              "    </tr>\n",
              "    <tr>\n",
              "      <th>usertype</th>\n",
              "      <td>0</td>\n",
              "      <td>0.000000</td>\n",
              "    </tr>\n",
              "    <tr>\n",
              "      <th>bikeid</th>\n",
              "      <td>0</td>\n",
              "      <td>0.000000</td>\n",
              "    </tr>\n",
              "    <tr>\n",
              "      <th>end_station_longitude</th>\n",
              "      <td>0</td>\n",
              "      <td>0.000000</td>\n",
              "    </tr>\n",
              "    <tr>\n",
              "      <th>end_station_latitude</th>\n",
              "      <td>0</td>\n",
              "      <td>0.000000</td>\n",
              "    </tr>\n",
              "    <tr>\n",
              "      <th>end_station_name</th>\n",
              "      <td>0</td>\n",
              "      <td>0.000000</td>\n",
              "    </tr>\n",
              "    <tr>\n",
              "      <th>end_station_id</th>\n",
              "      <td>0</td>\n",
              "      <td>0.000000</td>\n",
              "    </tr>\n",
              "    <tr>\n",
              "      <th>start_station_longitude</th>\n",
              "      <td>0</td>\n",
              "      <td>0.000000</td>\n",
              "    </tr>\n",
              "    <tr>\n",
              "      <th>start_station_latitude</th>\n",
              "      <td>0</td>\n",
              "      <td>0.000000</td>\n",
              "    </tr>\n",
              "    <tr>\n",
              "      <th>start_station_name</th>\n",
              "      <td>0</td>\n",
              "      <td>0.000000</td>\n",
              "    </tr>\n",
              "    <tr>\n",
              "      <th>start_station_id</th>\n",
              "      <td>0</td>\n",
              "      <td>0.000000</td>\n",
              "    </tr>\n",
              "    <tr>\n",
              "      <th>stoptime</th>\n",
              "      <td>0</td>\n",
              "      <td>0.000000</td>\n",
              "    </tr>\n",
              "    <tr>\n",
              "      <th>starttime</th>\n",
              "      <td>0</td>\n",
              "      <td>0.000000</td>\n",
              "    </tr>\n",
              "    <tr>\n",
              "      <th>tripduration</th>\n",
              "      <td>0</td>\n",
              "      <td>0.000000</td>\n",
              "    </tr>\n",
              "  </tbody>\n",
              "</table>\n",
              "</div>"
            ],
            "text/plain": [
              "                          Total    Percent\n",
              "birth_year               125064  12.502537\n",
              "gender                        0   0.000000\n",
              "usertype                      0   0.000000\n",
              "bikeid                        0   0.000000\n",
              "end_station_longitude         0   0.000000\n",
              "end_station_latitude          0   0.000000\n",
              "end_station_name              0   0.000000\n",
              "end_station_id                0   0.000000\n",
              "start_station_longitude       0   0.000000\n",
              "start_station_latitude        0   0.000000\n",
              "start_station_name            0   0.000000\n",
              "start_station_id              0   0.000000\n",
              "stoptime                      0   0.000000\n",
              "starttime                     0   0.000000\n",
              "tripduration                  0   0.000000"
            ]
          },
          "metadata": {
            "tags": []
          },
          "execution_count": 48
        }
      ]
    },
    {
      "cell_type": "markdown",
      "metadata": {
        "id": "8UE6ZEFNxqS7",
        "colab_type": "text"
      },
      "source": [
        "As we use the available informaton to establish a model that predicts how long a trip will take given a starting point and destination, it will be important to remember that not ever user provides their age. "
      ]
    },
    {
      "cell_type": "markdown",
      "metadata": {
        "id": "TEgwHqdQyaBT",
        "colab_type": "text"
      },
      "source": [
        "**Data Formatting:** In continuing to prep our Citi Bike data, establish formats will especially help will visualizaton needs. "
      ]
    },
    {
      "cell_type": "code",
      "metadata": {
        "id": "SlIZCWN-xoyL",
        "colab_type": "code",
        "colab": {
          "base_uri": "https://localhost:8080/",
          "height": 286
        },
        "outputId": "d3f53dd0-59f2-4972-fed8-ca56c84b89f3"
      },
      "source": [
        "#Ensure data is formatted correctly to avoid errors in the visuals\n",
        "sample_df['starttime'] = to_datetime(sample_df['starttime'])\n",
        "sample_df['stoptime'] = to_datetime(sample_df['stoptime'])\n",
        "sample_df['start_station_name'] = sample_df['start_station_name'].astype('category')\n",
        "sample_df['end_station_name'] = sample_df['end_station_name'].astype('category')\n",
        "sample_df['usertype'] = sample_df['usertype'].astype('category')\n",
        "sample_df['gender'] = sample_df['gender'].astype('category')\n",
        "round(sample_df.describe(),2)"
      ],
      "execution_count": 51,
      "outputs": [
        {
          "output_type": "execute_result",
          "data": {
            "text/html": [
              "<div>\n",
              "<style scoped>\n",
              "    .dataframe tbody tr th:only-of-type {\n",
              "        vertical-align: middle;\n",
              "    }\n",
              "\n",
              "    .dataframe tbody tr th {\n",
              "        vertical-align: top;\n",
              "    }\n",
              "\n",
              "    .dataframe thead th {\n",
              "        text-align: right;\n",
              "    }\n",
              "</style>\n",
              "<table border=\"1\" class=\"dataframe\">\n",
              "  <thead>\n",
              "    <tr style=\"text-align: right;\">\n",
              "      <th></th>\n",
              "      <th>tripduration</th>\n",
              "      <th>start_station_id</th>\n",
              "      <th>start_station_latitude</th>\n",
              "      <th>start_station_longitude</th>\n",
              "      <th>end_station_id</th>\n",
              "      <th>end_station_latitude</th>\n",
              "      <th>end_station_longitude</th>\n",
              "      <th>bikeid</th>\n",
              "      <th>birth_year</th>\n",
              "    </tr>\n",
              "  </thead>\n",
              "  <tbody>\n",
              "    <tr>\n",
              "      <th>count</th>\n",
              "      <td>1000309.0</td>\n",
              "      <td>1000309.00</td>\n",
              "      <td>1000309.00</td>\n",
              "      <td>1000309.00</td>\n",
              "      <td>1000309.00</td>\n",
              "      <td>1000309.00</td>\n",
              "      <td>1000309.00</td>\n",
              "      <td>1000309.00</td>\n",
              "      <td>875245.00</td>\n",
              "    </tr>\n",
              "    <tr>\n",
              "      <th>mean</th>\n",
              "      <td>998.3</td>\n",
              "      <td>997.58</td>\n",
              "      <td>40.74</td>\n",
              "      <td>-73.99</td>\n",
              "      <td>984.29</td>\n",
              "      <td>40.74</td>\n",
              "      <td>-73.99</td>\n",
              "      <td>20647.72</td>\n",
              "      <td>1977.65</td>\n",
              "    </tr>\n",
              "    <tr>\n",
              "      <th>std</th>\n",
              "      <td>9825.6</td>\n",
              "      <td>1135.67</td>\n",
              "      <td>0.02</td>\n",
              "      <td>0.02</td>\n",
              "      <td>1126.61</td>\n",
              "      <td>0.11</td>\n",
              "      <td>0.20</td>\n",
              "      <td>3489.89</td>\n",
              "      <td>11.66</td>\n",
              "    </tr>\n",
              "    <tr>\n",
              "      <th>min</th>\n",
              "      <td>61.0</td>\n",
              "      <td>72.00</td>\n",
              "      <td>40.65</td>\n",
              "      <td>-74.02</td>\n",
              "      <td>72.00</td>\n",
              "      <td>0.00</td>\n",
              "      <td>-74.06</td>\n",
              "      <td>14529.00</td>\n",
              "      <td>1885.00</td>\n",
              "    </tr>\n",
              "    <tr>\n",
              "      <th>25%</th>\n",
              "      <td>387.0</td>\n",
              "      <td>334.00</td>\n",
              "      <td>40.72</td>\n",
              "      <td>-74.00</td>\n",
              "      <td>330.00</td>\n",
              "      <td>40.72</td>\n",
              "      <td>-74.00</td>\n",
              "      <td>17604.00</td>\n",
              "      <td>1970.00</td>\n",
              "    </tr>\n",
              "    <tr>\n",
              "      <th>50%</th>\n",
              "      <td>643.0</td>\n",
              "      <td>458.00</td>\n",
              "      <td>40.74</td>\n",
              "      <td>-73.99</td>\n",
              "      <td>457.00</td>\n",
              "      <td>40.74</td>\n",
              "      <td>-73.99</td>\n",
              "      <td>20778.00</td>\n",
              "      <td>1980.00</td>\n",
              "    </tr>\n",
              "    <tr>\n",
              "      <th>75%</th>\n",
              "      <td>1095.0</td>\n",
              "      <td>536.00</td>\n",
              "      <td>40.75</td>\n",
              "      <td>-73.98</td>\n",
              "      <td>533.00</td>\n",
              "      <td>40.75</td>\n",
              "      <td>-73.98</td>\n",
              "      <td>23594.00</td>\n",
              "      <td>1987.00</td>\n",
              "    </tr>\n",
              "    <tr>\n",
              "      <th>max</th>\n",
              "      <td>4504481.0</td>\n",
              "      <td>3436.00</td>\n",
              "      <td>40.80</td>\n",
              "      <td>-73.93</td>\n",
              "      <td>3435.00</td>\n",
              "      <td>40.80</td>\n",
              "      <td>0.00</td>\n",
              "      <td>27316.00</td>\n",
              "      <td>2000.00</td>\n",
              "    </tr>\n",
              "  </tbody>\n",
              "</table>\n",
              "</div>"
            ],
            "text/plain": [
              "       tripduration  start_station_id  ...      bikeid  birth_year\n",
              "count     1000309.0        1000309.00  ...  1000309.00   875245.00\n",
              "mean          998.3            997.58  ...    20647.72     1977.65\n",
              "std          9825.6           1135.67  ...     3489.89       11.66\n",
              "min            61.0             72.00  ...    14529.00     1885.00\n",
              "25%           387.0            334.00  ...    17604.00     1970.00\n",
              "50%           643.0            458.00  ...    20778.00     1980.00\n",
              "75%          1095.0            536.00  ...    23594.00     1987.00\n",
              "max       4504481.0           3436.00  ...    27316.00     2000.00\n",
              "\n",
              "[8 rows x 9 columns]"
            ]
          },
          "metadata": {
            "tags": []
          },
          "execution_count": 51
        }
      ]
    },
    {
      "cell_type": "markdown",
      "metadata": {
        "id": "SG7kwxM7zmyS",
        "colab_type": "text"
      },
      "source": [
        "**Disqualified Rides**: Because some rider may have experienced issues with their first bike, it would be wise to eliminate any rides that are under a minute and a half because they were not completed. In this scenario, typically users will redock and checkout a new bike."
      ]
    },
    {
      "cell_type": "code",
      "metadata": {
        "id": "kzz7tdx8zng_",
        "colab_type": "code",
        "colab": {
          "base_uri": "https://localhost:8080/",
          "height": 197
        },
        "outputId": "8f9948fe-7518-4bf6-b55e-ef3c35154530"
      },
      "source": [
        "#Confirm Hypothesis \n",
        "df_bikenum = pd.DataFrame()\n",
        "df_bikenum['first_bike'] = sample_df[sample_df['tripduration'] < 90]['start_station_name'] \n",
        "df_bikenum['second_bike'] = sample_df[sample_df['tripduration'] < 90]['end_station_name']\n",
        "df_bikenum.head()"
      ],
      "execution_count": 57,
      "outputs": [
        {
          "output_type": "execute_result",
          "data": {
            "text/html": [
              "<div>\n",
              "<style scoped>\n",
              "    .dataframe tbody tr th:only-of-type {\n",
              "        vertical-align: middle;\n",
              "    }\n",
              "\n",
              "    .dataframe tbody tr th {\n",
              "        vertical-align: top;\n",
              "    }\n",
              "\n",
              "    .dataframe thead th {\n",
              "        text-align: right;\n",
              "    }\n",
              "</style>\n",
              "<table border=\"1\" class=\"dataframe\">\n",
              "  <thead>\n",
              "    <tr style=\"text-align: right;\">\n",
              "      <th></th>\n",
              "      <th>first_bike</th>\n",
              "      <th>second_bike</th>\n",
              "    </tr>\n",
              "  </thead>\n",
              "  <tbody>\n",
              "    <tr>\n",
              "      <th>373</th>\n",
              "      <td>1 Ave &amp; E 15 St</td>\n",
              "      <td>1 Ave &amp; E 18 St</td>\n",
              "    </tr>\n",
              "    <tr>\n",
              "      <th>576</th>\n",
              "      <td>Lorimer St &amp; Broadway</td>\n",
              "      <td>Leonard St &amp; Boerum St</td>\n",
              "    </tr>\n",
              "    <tr>\n",
              "      <th>647</th>\n",
              "      <td>Leonard St &amp; Boerum St</td>\n",
              "      <td>Lorimer St &amp; Broadway</td>\n",
              "    </tr>\n",
              "    <tr>\n",
              "      <th>698</th>\n",
              "      <td>Franklin St &amp; W Broadway</td>\n",
              "      <td>Leonard St &amp; Church St</td>\n",
              "    </tr>\n",
              "    <tr>\n",
              "      <th>1108</th>\n",
              "      <td>Water - Whitehall Plaza</td>\n",
              "      <td>Old Slip &amp; Front St</td>\n",
              "    </tr>\n",
              "  </tbody>\n",
              "</table>\n",
              "</div>"
            ],
            "text/plain": [
              "                    first_bike             second_bike\n",
              "373            1 Ave & E 15 St         1 Ave & E 18 St\n",
              "576      Lorimer St & Broadway  Leonard St & Boerum St\n",
              "647     Leonard St & Boerum St   Lorimer St & Broadway\n",
              "698   Franklin St & W Broadway  Leonard St & Church St\n",
              "1108   Water - Whitehall Plaza     Old Slip & Front St"
            ]
          },
          "metadata": {
            "tags": []
          },
          "execution_count": 57
        }
      ]
    },
    {
      "cell_type": "code",
      "metadata": {
        "id": "9NVjEmkW1b7m",
        "colab_type": "code",
        "colab": {}
      },
      "source": [
        "#Eliminate Bike Rides Under 90 seconds\n",
        "#Clear up enviornment and drop double count\n",
        "del(df_bikenum)\n",
        "sample_df = sample_df.drop(df.index[(df['tripduration'] < 90) & \n",
        "                          (sample_df['start_station_latitude'] == sample_df['end_station_latitude'])])"
      ],
      "execution_count": 0,
      "outputs": []
    },
    {
      "cell_type": "markdown",
      "metadata": {
        "id": "QRV00SCk6NBp",
        "colab_type": "text"
      },
      "source": [
        "###Explore Key Variables"
      ]
    },
    {
      "cell_type": "markdown",
      "metadata": {
        "id": "r7v_0HJk3XwR",
        "colab_type": "text"
      },
      "source": [
        "####Top 5 Citi Bike Stations\n",
        "\n",
        "To continue to analyze our cleaned up data, let's analyze which are the top 5 station of this sample dataset."
      ]
    },
    {
      "cell_type": "code",
      "metadata": {
        "id": "hPBN_hMr2BtT",
        "colab_type": "code",
        "colab": {}
      },
      "source": [
        "#Data for Top 5 Stations visual\n",
        "top5 = pd.DataFrame() \n",
        "top5['station']=sample_df['start_station_name'].value_counts().head().index\n",
        "top5['number_of_starts']=sample_df['start_station_name'].value_counts().head().values\n",
        "top5['station'] = top5['station'].cat.remove_unused_categories()\n",
        "top5['station'] = top5['station'].astype('object')\n",
        "#top5.sort_values(by = 'number_of_starts', ascending = False)"
      ],
      "execution_count": 0,
      "outputs": []
    },
    {
      "cell_type": "code",
      "metadata": {
        "id": "Aub8IyEK3B9i",
        "colab_type": "code",
        "colab": {
          "base_uri": "https://localhost:8080/",
          "height": 368
        },
        "outputId": "f730aa72-2498-4f98-841d-7c653fc31927"
      },
      "source": [
        "#Plot for Part 1: Top 5 Stations\n",
        "ax = sns.barplot('station', 'number_of_starts', data = top5, palette=\"GnBu_d\")\n",
        "ax.set_title('Top 5 Citi Bike Stations by Number of Starts', fontsize = 12)\n",
        "rcParams['figure.figsize'] = 12,7\n",
        "ax.set_xticklabels(ax.get_xticklabels(),rotation=40, ha = 'right')\n",
        "for index, row in top5.iterrows():\n",
        "    ax.text(index,row['number_of_starts']-4000,row['number_of_starts'], \n",
        "            color='white', ha=\"center\", fontsize = 10)\n",
        "plt.show()"
      ],
      "execution_count": 69,
      "outputs": [
        {
          "output_type": "display_data",
          "data": {
            "image/png": "[encoded data removed]",
            "text/plain": [
              "<Figure size 432x288 with 1 Axes>"
            ]
          },
          "metadata": {
            "tags": []
          }
        }
      ]
    },
    {
      "cell_type": "markdown",
      "metadata": {
        "id": "T4DwmyPl3pMX",
        "colab_type": "text"
      },
      "source": [
        "###Trip Duration by User Type\n",
        "\n",
        "Other information that could be important for our prediction model will be the how each user type interacts with Citi bike."
      ]
    },
    {
      "cell_type": "code",
      "metadata": {
        "id": "rOx0OmYt4Qi0",
        "colab_type": "code",
        "colab": {}
      },
      "source": [
        "#Calculate trip duration\n",
        "TD_user = pd.DataFrame()\n",
        "TD_user['averagetripduration'] = round(sample_df.groupby('usertype')['tripduration'].mean(),2)\n",
        "TD_user = TD_user.reset_index()\n",
        "TD_user['usertype'] = TD_user['usertype'].astype('object')"
      ],
      "execution_count": 0,
      "outputs": []
    },
    {
      "cell_type": "code",
      "metadata": {
        "id": "6pYsg3FV4pvf",
        "colab_type": "code",
        "colab": {
          "base_uri": "https://localhost:8080/",
          "height": 489
        },
        "outputId": "b1641368-51e8-430d-c6ab-b478d7b31d9f"
      },
      "source": [
        "#Average trip Duration per User Type\n",
        "ax2 = sns.barplot('usertype', 'averagetripduration', data = TD_user,palette=\"GnBu_d\")\n",
        "ax2.set_title('Average Trip Duration by User Type')\n",
        "#rcParams['figure.figsize'] = 12,7\n",
        "ax2.set_xticklabels(ax2.get_xticklabels(),rotation=40, ha = 'right')\n",
        "ax2.set_ylabel('averagetripduration (Minutes)')\n",
        "for index, row in TD_user.iterrows():\n",
        "    ax2.text(index,row['averagetripduration']-70,(str(row['averagetripduration'])+\"  Minutes\"), \n",
        "             color='white', ha=\"center\", fontsize = 10)\n",
        "plt.show()"
      ],
      "execution_count": 76,
      "outputs": [
        {
          "output_type": "display_data",
          "data": {
            "image/png": "[encoded data removed]",
            "text/plain": [
              "<Figure size 864x504 with 1 Axes>"
            ]
          },
          "metadata": {
            "tags": []
          }
        }
      ]
    },
    {
      "cell_type": "code",
      "metadata": {
        "id": "rmbapbtR5wzc",
        "colab_type": "code",
        "colab": {
          "base_uri": "https://localhost:8080/",
          "height": 480
        },
        "outputId": "98d9bd06-0e8b-4c1e-8ed9-5c3c8e7f3637"
      },
      "source": [
        "#Boxplots are more informative to visualize breakdown of data\n",
        "del(TD_user)\n",
        "df.boxplot('tripduration', by = 'usertype')\n",
        "plt.show()"
      ],
      "execution_count": 78,
      "outputs": [
        {
          "output_type": "display_data",
          "data": {
            "image/png": "[encoded data removed]",
            "text/plain": [
              "<Figure size 864x504 with 1 Axes>"
            ]
          },
          "metadata": {
            "tags": []
          }
        }
      ]
    },
    {
      "cell_type": "markdown",
      "metadata": {
        "id": "jnFAmZ3K4otO",
        "colab_type": "text"
      },
      "source": [
        "####Most Popular Trips\n",
        "\n",
        "Research also indicates that it could be wise to assess the most poopular trips for our dataset."
      ]
    },
    {
      "cell_type": "code",
      "metadata": {
        "id": "INDtomGF62uZ",
        "colab_type": "code",
        "colab": {}
      },
      "source": [
        "#Identify the 10 most popular trips\n",
        "trips_df = pd.DataFrame()\n",
        "trips_df = sample_df.groupby(['start_station_name','end_station_name']).size().reset_index(name = 'numberoftrips')\n",
        "trips_df = trips_df.sort_values('numberoftrips', ascending = False)\n",
        "trips_df[\"start_station_name\"] = trips_df[\"start_station_name\"].astype(str)\n",
        "trips_df[\"end_station_name\"] = trips_df[\"end_station_name\"].astype(str)\n",
        "trips_df[\"trip\"] = trips_df[\"start_station_name\"] + \" to \" + trips_df[\"end_station_name\"]\n",
        "trips_df = trips_df[:10]\n",
        "trips_df = trips_df.drop(['start_station_name', \"end_station_name\"], axis = 1)\n",
        "trips_df = trips_df.reset_index()\n",
        "#trips_df.head()"
      ],
      "execution_count": 0,
      "outputs": []
    },
    {
      "cell_type": "code",
      "metadata": {
        "id": "1rdudjRz7rAe",
        "colab_type": "code",
        "colab": {
          "base_uri": "https://localhost:8080/",
          "height": 468
        },
        "outputId": "f034dfe3-d72a-453d-9026-69e5a961c519"
      },
      "source": [
        "ax3 = sns.barplot('numberoftrips','trip', data = trips_df,palette=\"GnBu_d\")\n",
        "ax3.set_title('Most Popular Trips', fontsize = 20)\n",
        "ax3.set_ylabel(\"trip\",fontsize=16)\n",
        "ax3.set_xlabel(\"numberoftrips\",fontsize=16)\n",
        "for index, row in trips_df.iterrows():\n",
        "    ax3.text(row['numberoftrips']-220,index,row['numberoftrips'], \n",
        "             color='white', ha=\"center\",fontsize = 10)\n",
        "plt.show()"
      ],
      "execution_count": 83,
      "outputs": [
        {
          "output_type": "display_data",
          "data": {
            "image/png": "[encoded data removed]",
            "text/plain": [
              "<Figure size 864x504 with 1 Axes>"
            ]
          },
          "metadata": {
            "tags": []
          }
        }
      ]
    },
    {
      "cell_type": "markdown",
      "metadata": {
        "id": "5Xq7dK0F8Lr3",
        "colab_type": "text"
      },
      "source": [
        "####Rider Performance by Age and Gender\n",
        "\n",
        "Knowing how age and gender coorelates to performance will also be helpful for future modeling efforts"
      ]
    },
    {
      "cell_type": "code",
      "metadata": {
        "id": "lwNAOUad8nw5",
        "colab_type": "code",
        "colab": {}
      },
      "source": [
        "#Drop the tail end of birth years 2 standard deviations below the mean\n",
        "#df['Birth Year'].mean()-(2*df['Birth Year'].std())\n",
        "sample_df = sample_df.drop(sample_df.index[(sample_df['birth_year'] < 1956)])"
      ],
      "execution_count": 0,
      "outputs": []
    },
    {
      "cell_type": "code",
      "metadata": {
        "id": "CBmAi0fV9CXc",
        "colab_type": "code",
        "colab": {}
      },
      "source": [
        "#Combine coordinates to calculate distance \n",
        "sample_df['start_coordinates'] = list(zip(sample_df['start_station_latitude'], sample_df['start_station_longitude']))\n",
        "sample_df['end_coordinates'] = list(zip(sample_df['end_station_latitude'], sample_df['end_station_longitude']))"
      ],
      "execution_count": 0,
      "outputs": []
    },
    {
      "cell_type": "code",
      "metadata": {
        "id": "7dLq_SbV9qfL",
        "colab_type": "code",
        "colab": {}
      },
      "source": [
        "#Replace missing birth year by median based on speed and gender\n",
        "sample_df['birth_year'] = sample_df.groupby(['gender','start_station_id'])['birth_year'].transform(lambda x: x.fillna(x.median()))"
      ],
      "execution_count": 0,
      "outputs": []
    },
    {
      "cell_type": "code",
      "metadata": {
        "id": "7HmybrXA92eQ",
        "colab_type": "code",
        "colab": {}
      },
      "source": [
        "#if there are still a few nulls, drop these\n",
        "sample_df = sample_df.dropna(subset=['birth_year'])"
      ],
      "execution_count": 0,
      "outputs": []
    },
    {
      "cell_type": "code",
      "metadata": {
        "id": "PoBOGEgI-Jji",
        "colab_type": "code",
        "colab": {}
      },
      "source": [
        "#Calculate age and drop circular/roundtrips\n",
        "sample_df['age'] = 2020 - sample_df['birth_year']\n",
        "sample_df['age'] = sample_df['age'].astype(int)"
      ],
      "execution_count": 0,
      "outputs": []
    },
    {
      "cell_type": "code",
      "metadata": {
        "id": "XlXNYQlJ_xqk",
        "colab_type": "code",
        "colab": {}
      },
      "source": [
        " dist = [] \n",
        " for i in range(len(sample_df)): \n",
        "   dist.append(geopy.distance.vincenty(sample_df.iloc[i]['start_coordinates'],sample_df.iloc[i]['end_coordinates']).miles)\n",
        "if (i%1000000==0): \n",
        "  print(i)"
      ],
      "execution_count": 0,
      "outputs": []
    },
    {
      "cell_type": "code",
      "metadata": {
        "id": "18ka0s4UP-tk",
        "colab_type": "code",
        "colab": {}
      },
      "source": [
        "sample_df['distance'] = dist"
      ],
      "execution_count": 0,
      "outputs": []
    },
    {
      "cell_type": "code",
      "metadata": {
        "id": "dwRjqMVNUnUE",
        "colab_type": "code",
        "colab": {}
      },
      "source": [
        "sample_df = sample_df.drop(sample_df.index[(sample_df['distance'] == 0)])"
      ],
      "execution_count": 0,
      "outputs": []
    },
    {
      "cell_type": "code",
      "metadata": {
        "id": "BYIzsDU8-SWM",
        "colab_type": "code",
        "colab": {}
      },
      "source": [
        "#df[df['Trip Duration']<90]\n",
        "#2. Followed the same reasoning as behind Birth Year. People in similar locations tend to also work in a similar industry or location\n",
        "sample_df['distance'] = sample_df.groupby(['gender','start_station_id'])['distance'].transform(lambda x: x.fillna(x.median()))"
      ],
      "execution_count": 0,
      "outputs": []
    },
    {
      "cell_type": "code",
      "metadata": {
        "id": "OmXHIMEoVbNw",
        "colab_type": "code",
        "colab": {}
      },
      "source": [
        "sample_df['minutes'] = sample_df['tripduration']/60"
      ],
      "execution_count": 0,
      "outputs": []
    },
    {
      "cell_type": "code",
      "metadata": {
        "id": "sXud5NMDVGdz",
        "colab_type": "code",
        "colab": {}
      },
      "source": [
        "sample_df['min_mile'] = round(sample_df['minutes']/sample_df['distance'], 2)\n",
        "sample_df['mile_hour'] = round(sample_df['distance']/(sample_df['minutes']/60),2)"
      ],
      "execution_count": 0,
      "outputs": []
    },
    {
      "cell_type": "code",
      "metadata": {
        "id": "HXcd4MEEWNzW",
        "colab_type": "code",
        "colab": {
          "base_uri": "https://localhost:8080/",
          "height": 306
        },
        "outputId": "9fab7758-c7c5-49bd-9e74-a210eab7e885"
      },
      "source": [
        "#Check for Data Integrity\n",
        "round(sample_df.describe(),2)"
      ],
      "execution_count": 142,
      "outputs": [
        {
          "output_type": "execute_result",
          "data": {
            "text/html": [
              "<div>\n",
              "<style scoped>\n",
              "    .dataframe tbody tr th:only-of-type {\n",
              "        vertical-align: middle;\n",
              "    }\n",
              "\n",
              "    .dataframe tbody tr th {\n",
              "        vertical-align: top;\n",
              "    }\n",
              "\n",
              "    .dataframe thead th {\n",
              "        text-align: right;\n",
              "    }\n",
              "</style>\n",
              "<table border=\"1\" class=\"dataframe\">\n",
              "  <thead>\n",
              "    <tr style=\"text-align: right;\">\n",
              "      <th></th>\n",
              "      <th>tripduration</th>\n",
              "      <th>start_station_id</th>\n",
              "      <th>start_station_latitude</th>\n",
              "      <th>start_station_longitude</th>\n",
              "      <th>end_station_id</th>\n",
              "      <th>end_station_latitude</th>\n",
              "      <th>end_station_longitude</th>\n",
              "      <th>bikeid</th>\n",
              "      <th>birth_year</th>\n",
              "      <th>age</th>\n",
              "      <th>distance</th>\n",
              "      <th>minutes</th>\n",
              "      <th>min_mile</th>\n",
              "      <th>mile_hour</th>\n",
              "    </tr>\n",
              "  </thead>\n",
              "  <tbody>\n",
              "    <tr>\n",
              "      <th>count</th>\n",
              "      <td>933665.00</td>\n",
              "      <td>933665.00</td>\n",
              "      <td>933665.00</td>\n",
              "      <td>933665.00</td>\n",
              "      <td>933665.00</td>\n",
              "      <td>933665.00</td>\n",
              "      <td>933665.00</td>\n",
              "      <td>933665.00</td>\n",
              "      <td>933665.00</td>\n",
              "      <td>933665.00</td>\n",
              "      <td>933665.00</td>\n",
              "      <td>933665.00</td>\n",
              "      <td>933665.00</td>\n",
              "      <td>933665.00</td>\n",
              "    </tr>\n",
              "    <tr>\n",
              "      <th>mean</th>\n",
              "      <td>973.57</td>\n",
              "      <td>983.66</td>\n",
              "      <td>40.74</td>\n",
              "      <td>-73.99</td>\n",
              "      <td>973.80</td>\n",
              "      <td>40.74</td>\n",
              "      <td>-73.99</td>\n",
              "      <td>20662.90</td>\n",
              "      <td>1978.79</td>\n",
              "      <td>41.20</td>\n",
              "      <td>1.15</td>\n",
              "      <td>16.23</td>\n",
              "      <td>17.02</td>\n",
              "      <td>5.58</td>\n",
              "    </tr>\n",
              "    <tr>\n",
              "      <th>std</th>\n",
              "      <td>9965.54</td>\n",
              "      <td>1125.88</td>\n",
              "      <td>0.02</td>\n",
              "      <td>0.02</td>\n",
              "      <td>1119.53</td>\n",
              "      <td>0.02</td>\n",
              "      <td>0.02</td>\n",
              "      <td>3490.52</td>\n",
              "      <td>9.90</td>\n",
              "      <td>9.89</td>\n",
              "      <td>0.84</td>\n",
              "      <td>166.09</td>\n",
              "      <td>243.49</td>\n",
              "      <td>1.92</td>\n",
              "    </tr>\n",
              "    <tr>\n",
              "      <th>min</th>\n",
              "      <td>61.00</td>\n",
              "      <td>72.00</td>\n",
              "      <td>40.65</td>\n",
              "      <td>-74.02</td>\n",
              "      <td>72.00</td>\n",
              "      <td>40.65</td>\n",
              "      <td>-74.06</td>\n",
              "      <td>14529.00</td>\n",
              "      <td>1956.00</td>\n",
              "      <td>20.00</td>\n",
              "      <td>0.02</td>\n",
              "      <td>1.02</td>\n",
              "      <td>3.78</td>\n",
              "      <td>0.00</td>\n",
              "    </tr>\n",
              "    <tr>\n",
              "      <th>25%</th>\n",
              "      <td>386.00</td>\n",
              "      <td>332.00</td>\n",
              "      <td>40.72</td>\n",
              "      <td>-74.00</td>\n",
              "      <td>330.00</td>\n",
              "      <td>40.72</td>\n",
              "      <td>-74.00</td>\n",
              "      <td>17620.00</td>\n",
              "      <td>1971.50</td>\n",
              "      <td>33.00</td>\n",
              "      <td>0.57</td>\n",
              "      <td>6.43</td>\n",
              "      <td>8.82</td>\n",
              "      <td>4.46</td>\n",
              "    </tr>\n",
              "    <tr>\n",
              "      <th>50%</th>\n",
              "      <td>636.00</td>\n",
              "      <td>458.00</td>\n",
              "      <td>40.74</td>\n",
              "      <td>-73.99</td>\n",
              "      <td>457.00</td>\n",
              "      <td>40.74</td>\n",
              "      <td>-73.99</td>\n",
              "      <td>20803.00</td>\n",
              "      <td>1981.00</td>\n",
              "      <td>39.00</td>\n",
              "      <td>0.91</td>\n",
              "      <td>10.60</td>\n",
              "      <td>10.63</td>\n",
              "      <td>5.65</td>\n",
              "    </tr>\n",
              "    <tr>\n",
              "      <th>75%</th>\n",
              "      <td>1075.00</td>\n",
              "      <td>533.00</td>\n",
              "      <td>40.75</td>\n",
              "      <td>-73.98</td>\n",
              "      <td>532.00</td>\n",
              "      <td>40.75</td>\n",
              "      <td>-73.98</td>\n",
              "      <td>23609.00</td>\n",
              "      <td>1987.00</td>\n",
              "      <td>48.00</td>\n",
              "      <td>1.48</td>\n",
              "      <td>17.92</td>\n",
              "      <td>13.44</td>\n",
              "      <td>6.80</td>\n",
              "    </tr>\n",
              "    <tr>\n",
              "      <th>max</th>\n",
              "      <td>4504481.00</td>\n",
              "      <td>3436.00</td>\n",
              "      <td>40.80</td>\n",
              "      <td>-73.93</td>\n",
              "      <td>3435.00</td>\n",
              "      <td>40.80</td>\n",
              "      <td>-73.93</td>\n",
              "      <td>27316.00</td>\n",
              "      <td>2000.00</td>\n",
              "      <td>64.00</td>\n",
              "      <td>9.68</td>\n",
              "      <td>75074.68</td>\n",
              "      <td>155107.45</td>\n",
              "      <td>15.89</td>\n",
              "    </tr>\n",
              "  </tbody>\n",
              "</table>\n",
              "</div>"
            ],
            "text/plain": [
              "       tripduration  start_station_id  ...   min_mile  mile_hour\n",
              "count     933665.00         933665.00  ...  933665.00  933665.00\n",
              "mean         973.57            983.66  ...      17.02       5.58\n",
              "std         9965.54           1125.88  ...     243.49       1.92\n",
              "min           61.00             72.00  ...       3.78       0.00\n",
              "25%          386.00            332.00  ...       8.82       4.46\n",
              "50%          636.00            458.00  ...      10.63       5.65\n",
              "75%         1075.00            533.00  ...      13.44       6.80\n",
              "max      4504481.00           3436.00  ...  155107.45      15.89\n",
              "\n",
              "[8 rows x 14 columns]"
            ]
          },
          "metadata": {
            "tags": []
          },
          "execution_count": 142
        }
      ]
    },
    {
      "cell_type": "markdown",
      "metadata": {
        "id": "DA_6GquPXSgw",
        "colab_type": "text"
      },
      "source": [
        "Continue the data clean."
      ]
    },
    {
      "cell_type": "code",
      "metadata": {
        "id": "LzCCAiWUWtFc",
        "colab_type": "code",
        "colab": {}
      },
      "source": [
        "#Let's check for data integrity to make sure all the numbers look as expected. Only numerical data included\n",
        "sample_df = sample_df[sample_df['distance'] < 30]"
      ],
      "execution_count": 0,
      "outputs": []
    },
    {
      "cell_type": "code",
      "metadata": {
        "id": "fYzsRq9QXXe2",
        "colab_type": "code",
        "colab": {}
      },
      "source": [
        "#as well as \n",
        "sample_df = sample_df[sample_df['mile_hour']<20]\n",
        "sample_df = sample_df[sample_df['mile_hour']> (sample_df['mile_hour'].mean()-(2*sample_df['mile_hour'].std()))]"
      ],
      "execution_count": 0,
      "outputs": []
    },
    {
      "cell_type": "code",
      "metadata": {
        "id": "ekaRGDQNXnVS",
        "colab_type": "code",
        "colab": {}
      },
      "source": [
        "#drop unknown gender from sample set\n",
        "cleaned_df = sample_df.loc[sample_df['gender'].isin(['female','male'])]"
      ],
      "execution_count": 0,
      "outputs": []
    },
    {
      "cell_type": "code",
      "metadata": {
        "id": "QtVJo_FWdQKW",
        "colab_type": "code",
        "colab": {}
      },
      "source": [
        "cleaned_df = cleaned_df.drop(cleaned_df.index[(cleaned_df['tripduration'] > 10800)])"
      ],
      "execution_count": 0,
      "outputs": []
    },
    {
      "cell_type": "code",
      "metadata": {
        "id": "36Yb63zjdYAj",
        "colab_type": "code",
        "colab": {
          "base_uri": "https://localhost:8080/",
          "height": 306
        },
        "outputId": "79441037-3a01-47dd-89f4-fa853c5bbad2"
      },
      "source": [
        "round(cleaned_df.describe(),2)"
      ],
      "execution_count": 176,
      "outputs": [
        {
          "output_type": "execute_result",
          "data": {
            "text/html": [
              "<div>\n",
              "<style scoped>\n",
              "    .dataframe tbody tr th:only-of-type {\n",
              "        vertical-align: middle;\n",
              "    }\n",
              "\n",
              "    .dataframe tbody tr th {\n",
              "        vertical-align: top;\n",
              "    }\n",
              "\n",
              "    .dataframe thead th {\n",
              "        text-align: right;\n",
              "    }\n",
              "</style>\n",
              "<table border=\"1\" class=\"dataframe\">\n",
              "  <thead>\n",
              "    <tr style=\"text-align: right;\">\n",
              "      <th></th>\n",
              "      <th>tripduration</th>\n",
              "      <th>start_station_id</th>\n",
              "      <th>start_station_latitude</th>\n",
              "      <th>start_station_longitude</th>\n",
              "      <th>end_station_id</th>\n",
              "      <th>end_station_latitude</th>\n",
              "      <th>end_station_longitude</th>\n",
              "      <th>bikeid</th>\n",
              "      <th>birth_year</th>\n",
              "      <th>age</th>\n",
              "      <th>distance</th>\n",
              "      <th>minutes</th>\n",
              "      <th>min_mile</th>\n",
              "      <th>mile_hour</th>\n",
              "    </tr>\n",
              "  </thead>\n",
              "  <tbody>\n",
              "    <tr>\n",
              "      <th>count</th>\n",
              "      <td>804632.00</td>\n",
              "      <td>804632.00</td>\n",
              "      <td>804632.00</td>\n",
              "      <td>804632.00</td>\n",
              "      <td>804632.00</td>\n",
              "      <td>804632.00</td>\n",
              "      <td>804632.00</td>\n",
              "      <td>804632.00</td>\n",
              "      <td>804632.00</td>\n",
              "      <td>804632.00</td>\n",
              "      <td>804632.00</td>\n",
              "      <td>804632.00</td>\n",
              "      <td>804632.00</td>\n",
              "      <td>804632.00</td>\n",
              "    </tr>\n",
              "    <tr>\n",
              "      <th>mean</th>\n",
              "      <td>716.97</td>\n",
              "      <td>961.29</td>\n",
              "      <td>40.74</td>\n",
              "      <td>-73.99</td>\n",
              "      <td>945.43</td>\n",
              "      <td>40.74</td>\n",
              "      <td>-73.99</td>\n",
              "      <td>20734.29</td>\n",
              "      <td>1978.98</td>\n",
              "      <td>41.02</td>\n",
              "      <td>1.15</td>\n",
              "      <td>11.95</td>\n",
              "      <td>11.05</td>\n",
              "      <td>5.94</td>\n",
              "    </tr>\n",
              "    <tr>\n",
              "      <th>std</th>\n",
              "      <td>499.70</td>\n",
              "      <td>1111.24</td>\n",
              "      <td>0.02</td>\n",
              "      <td>0.02</td>\n",
              "      <td>1099.37</td>\n",
              "      <td>0.02</td>\n",
              "      <td>0.02</td>\n",
              "      <td>3487.40</td>\n",
              "      <td>10.15</td>\n",
              "      <td>10.15</td>\n",
              "      <td>0.84</td>\n",
              "      <td>8.33</td>\n",
              "      <td>3.82</td>\n",
              "      <td>1.64</td>\n",
              "    </tr>\n",
              "    <tr>\n",
              "      <th>min</th>\n",
              "      <td>61.00</td>\n",
              "      <td>72.00</td>\n",
              "      <td>40.65</td>\n",
              "      <td>-74.02</td>\n",
              "      <td>72.00</td>\n",
              "      <td>40.65</td>\n",
              "      <td>-74.05</td>\n",
              "      <td>14529.00</td>\n",
              "      <td>1956.00</td>\n",
              "      <td>20.00</td>\n",
              "      <td>0.04</td>\n",
              "      <td>1.02</td>\n",
              "      <td>3.78</td>\n",
              "      <td>1.75</td>\n",
              "    </tr>\n",
              "    <tr>\n",
              "      <th>25%</th>\n",
              "      <td>361.00</td>\n",
              "      <td>334.00</td>\n",
              "      <td>40.72</td>\n",
              "      <td>-74.00</td>\n",
              "      <td>330.00</td>\n",
              "      <td>40.72</td>\n",
              "      <td>-74.00</td>\n",
              "      <td>17691.00</td>\n",
              "      <td>1971.00</td>\n",
              "      <td>33.00</td>\n",
              "      <td>0.56</td>\n",
              "      <td>6.02</td>\n",
              "      <td>8.62</td>\n",
              "      <td>4.85</td>\n",
              "    </tr>\n",
              "    <tr>\n",
              "      <th>50%</th>\n",
              "      <td>575.00</td>\n",
              "      <td>458.00</td>\n",
              "      <td>40.74</td>\n",
              "      <td>-73.99</td>\n",
              "      <td>456.00</td>\n",
              "      <td>40.74</td>\n",
              "      <td>-73.99</td>\n",
              "      <td>20944.00</td>\n",
              "      <td>1981.00</td>\n",
              "      <td>39.00</td>\n",
              "      <td>0.90</td>\n",
              "      <td>9.58</td>\n",
              "      <td>10.23</td>\n",
              "      <td>5.87</td>\n",
              "    </tr>\n",
              "    <tr>\n",
              "      <th>75%</th>\n",
              "      <td>931.00</td>\n",
              "      <td>530.00</td>\n",
              "      <td>40.75</td>\n",
              "      <td>-73.98</td>\n",
              "      <td>528.00</td>\n",
              "      <td>40.75</td>\n",
              "      <td>-73.98</td>\n",
              "      <td>23657.00</td>\n",
              "      <td>1987.00</td>\n",
              "      <td>49.00</td>\n",
              "      <td>1.47</td>\n",
              "      <td>15.52</td>\n",
              "      <td>12.38</td>\n",
              "      <td>6.96</td>\n",
              "    </tr>\n",
              "    <tr>\n",
              "      <th>max</th>\n",
              "      <td>8672.00</td>\n",
              "      <td>3436.00</td>\n",
              "      <td>40.80</td>\n",
              "      <td>-73.93</td>\n",
              "      <td>3435.00</td>\n",
              "      <td>40.80</td>\n",
              "      <td>-73.93</td>\n",
              "      <td>27316.00</td>\n",
              "      <td>2000.00</td>\n",
              "      <td>64.00</td>\n",
              "      <td>8.19</td>\n",
              "      <td>144.53</td>\n",
              "      <td>34.38</td>\n",
              "      <td>15.89</td>\n",
              "    </tr>\n",
              "  </tbody>\n",
              "</table>\n",
              "</div>"
            ],
            "text/plain": [
              "       tripduration  start_station_id  ...   min_mile  mile_hour\n",
              "count     804632.00         804632.00  ...  804632.00  804632.00\n",
              "mean         716.97            961.29  ...      11.05       5.94\n",
              "std          499.70           1111.24  ...       3.82       1.64\n",
              "min           61.00             72.00  ...       3.78       1.75\n",
              "25%          361.00            334.00  ...       8.62       4.85\n",
              "50%          575.00            458.00  ...      10.23       5.87\n",
              "75%          931.00            530.00  ...      12.38       6.96\n",
              "max         8672.00           3436.00  ...      34.38      15.89\n",
              "\n",
              "[8 rows x 14 columns]"
            ]
          },
          "metadata": {
            "tags": []
          },
          "execution_count": 176
        }
      ]
    },
    {
      "cell_type": "code",
      "metadata": {
        "id": "pY1ZoF4PYnsr",
        "colab_type": "code",
        "colab": {
          "base_uri": "https://localhost:8080/",
          "height": 51
        },
        "outputId": "c3c7b7ca-2f81-47f9-be35-3217737bc359"
      },
      "source": [
        "cleaned_df.gender.unique()"
      ],
      "execution_count": 177,
      "outputs": [
        {
          "output_type": "execute_result",
          "data": {
            "text/plain": [
              "[female, male]\n",
              "Categories (2, object): [female, male]"
            ]
          },
          "metadata": {
            "tags": []
          },
          "execution_count": 177
        }
      ]
    },
    {
      "cell_type": "code",
      "metadata": {
        "id": "uG32n1MsYB1w",
        "colab_type": "code",
        "colab": {
          "base_uri": "https://localhost:8080/",
          "height": 349
        },
        "outputId": "ff027631-5ea0-4253-ab67-4f4f1ff5d3c6"
      },
      "source": [
        "#Rider performance by age and Gender in Min/Mile \n",
        "fig, ax4 = plt.subplots(figsize=(11,5))\n",
        "cleaned_df.groupby(['age','gender']).median()['min_mile'].unstack().plot(ax=ax4, color =\"bg\")\n",
        "ax4.legend(['Female','Male'])\n",
        "plt.ylabel('Median Speed (min/mile)')\n",
        "plt.title('Rider Performance Based on Gender and Age (Median Speed in min/mile)')\n",
        "plt.show()"
      ],
      "execution_count": 178,
      "outputs": [
        {
          "output_type": "display_data",
          "data": {
            "image/png": "[encoded data removed]",
            "text/plain": [
              "<Figure size 792x360 with 1 Axes>"
            ]
          },
          "metadata": {
            "tags": []
          }
        }
      ]
    },
    {
      "cell_type": "code",
      "metadata": {
        "id": "JyEijJnNbA3d",
        "colab_type": "code",
        "colab": {
          "base_uri": "https://localhost:8080/",
          "height": 349
        },
        "outputId": "e23f4b9c-9497-4a67-8062-98f81fd0501f"
      },
      "source": [
        "#Rider performance by age and Gender in Miles/hr\n",
        "fig1, ax5 = plt.subplots(figsize=(11,5))\n",
        "cleaned_df.groupby(['age','gender']).median()['mile_hour'].unstack().plot(ax=ax5,color =\"bg\")\n",
        "ax5.legend(['female', 'male'])\n",
        "plt.ylabel('Median Speed (miles/hr)')\n",
        "plt.title('Rider Performance Based on Gender and Age (Median Speed in miles/hr)')\n",
        "plt.show()"
      ],
      "execution_count": 179,
      "outputs": [
        {
          "output_type": "display_data",
          "data": {
            "image/png": "[encoded data removed]",
            "text/plain": [
              "<Figure size 792x360 with 1 Axes>"
            ]
          },
          "metadata": {
            "tags": []
          }
        }
      ]
    },
    {
      "cell_type": "code",
      "metadata": {
        "id": "vjwe-X69bOGb",
        "colab_type": "code",
        "colab": {
          "base_uri": "https://localhost:8080/",
          "height": 349
        },
        "outputId": "04a63db0-9382-4281-cfcb-d198ceca987d"
      },
      "source": [
        "#Rider performance by age and Gender in Averge Distance\n",
        "fig2, ax6 = plt.subplots(figsize=(11,5))\n",
        "cleaned_df.groupby(['age','gender']).mean()['distance'].unstack().plot(ax=ax6,color =\"bg\")\n",
        "ax6.legend(['female', 'male'])\n",
        "plt.ylabel('Average Distance (miles)')\n",
        "plt.title('Rider Performance Based on Gender and Age (Average Distance in Miles)')\n",
        "plt.show()"
      ],
      "execution_count": 180,
      "outputs": [
        {
          "output_type": "display_data",
          "data": {
            "image/png": "[encoded data removed]",
            "text/plain": [
              "<Figure size 792x360 with 1 Axes>"
            ]
          },
          "metadata": {
            "tags": []
          }
        }
      ]
    },
    {
      "cell_type": "markdown",
      "metadata": {
        "id": "mIre9MgQbqJW",
        "colab_type": "text"
      },
      "source": [
        "##Predictive Modeling\n",
        "\n",
        "Now that the data is cleaned an dunderstood, we can begin to build a model that predicts how long a trip will take given a starting point and destination."
      ]
    },
    {
      "cell_type": "code",
      "metadata": {
        "id": "TfjDX0WOcgbR",
        "colab_type": "code",
        "colab": {}
      },
      "source": [
        "model_df = cleaned_df"
      ],
      "execution_count": 0,
      "outputs": []
    },
    {
      "cell_type": "code",
      "metadata": {
        "id": "yOUwykDfdqIS",
        "colab_type": "code",
        "colab": {}
      },
      "source": [
        "#create a random sample \n",
        "model_df_sample = model_df.sample(frac = 0.1, random_state = 0)"
      ],
      "execution_count": 0,
      "outputs": []
    },
    {
      "cell_type": "code",
      "metadata": {
        "id": "1jbEHFdMeX7H",
        "colab_type": "code",
        "colab": {
          "base_uri": "https://localhost:8080/",
          "height": 136
        },
        "outputId": "59773e4b-1669-4f4a-c830-923970d9b25c"
      },
      "source": [
        "model_df_sample.columns.values"
      ],
      "execution_count": 190,
      "outputs": [
        {
          "output_type": "execute_result",
          "data": {
            "text/plain": [
              "array(['tripduration', 'starttime', 'stoptime', 'start_station_id',\n",
              "       'start_station_name', 'start_station_latitude',\n",
              "       'start_station_longitude', 'end_station_id', 'end_station_name',\n",
              "       'end_station_latitude', 'end_station_longitude', 'bikeid',\n",
              "       'usertype', 'birth_year', 'gender', 'start_coordinates',\n",
              "       'end_coordinates', 'age', 'distance', 'minutes', 'min_mile',\n",
              "       'mile_hour'], dtype=object)"
            ]
          },
          "metadata": {
            "tags": []
          },
          "execution_count": 190
        }
      ]
    },
    {
      "cell_type": "code",
      "metadata": {
        "id": "A2iFxGg1dzqD",
        "colab_type": "code",
        "colab": {}
      },
      "source": [
        "def drop_data(model_df):\n",
        "    model_df = model_df.drop(['tripduration','stoptime','start_station_id','start_station_latitude','start_station_longitude',\n",
        "                  'start_coordinates','end_station_id', 'end_station_latitude', 'end_station_longitude', \n",
        "                  'end_coordinates','bikeid', 'start_station_name','birth_year','end_station_name','min_mile',\n",
        "                  'mile_hour','age'], axis = 1)\n",
        "    return model_df\n",
        "\n",
        "df_basemodel = drop_data(model_df_sample)"
      ],
      "execution_count": 0,
      "outputs": []
    },
    {
      "cell_type": "code",
      "metadata": {
        "id": "MMN2fYyHfbak",
        "colab_type": "code",
        "colab": {}
      },
      "source": [
        "df_basemodel = df_basemodel.drop('starttime', axis =1)"
      ],
      "execution_count": 0,
      "outputs": []
    },
    {
      "cell_type": "code",
      "metadata": {
        "id": "ojy0hz_rfieH",
        "colab_type": "code",
        "colab": {}
      },
      "source": [
        "#Dummify categorical data and avoid dummy variable trap\n",
        "df_basemodel = pd.get_dummies(df_basemodel, drop_first = True)"
      ],
      "execution_count": 0,
      "outputs": []
    },
    {
      "cell_type": "code",
      "metadata": {
        "id": "DOJXcULtfmkP",
        "colab_type": "code",
        "colab": {
          "base_uri": "https://localhost:8080/",
          "height": 119
        },
        "outputId": "e9ad1f3f-8a9f-41cd-9d07-49839b5c7daf"
      },
      "source": [
        "#review correlation\n",
        "df_basemodel.corr().loc[:,'minutes']"
      ],
      "execution_count": 195,
      "outputs": [
        {
          "output_type": "execute_result",
          "data": {
            "text/plain": [
              "distance               0.861207\n",
              "minutes                1.000000\n",
              "usertype_Subscriber   -0.068572\n",
              "gender_male           -0.100515\n",
              "gender_unknown              NaN\n",
              "Name: minutes, dtype: float64"
            ]
          },
          "metadata": {
            "tags": []
          },
          "execution_count": 195
        }
      ]
    },
    {
      "cell_type": "code",
      "metadata": {
        "id": "EjwuGQ8Rfmhs",
        "colab_type": "code",
        "colab": {}
      },
      "source": [
        "#Train Test Split\n",
        "#Predictor variable\n",
        "X = df_basemodel.iloc[:,1:]\n",
        "#Target variable\n",
        "y = df_basemodel.iloc[:,0]\n",
        "\n",
        "X_train, X_test, y_train, y_test = train_test_split(X, y, test_size = 0.2, random_state = 0)"
      ],
      "execution_count": 0,
      "outputs": []
    },
    {
      "cell_type": "code",
      "metadata": {
        "id": "N8CfXyVigSzq",
        "colab_type": "code",
        "colab": {
          "base_uri": "https://localhost:8080/",
          "height": 34
        },
        "outputId": "3477a74b-069e-4d95-8c16-fd955a50e718"
      },
      "source": [
        "regressor = LinearRegression()\n",
        "regressor.fit(X_train, y_train)\n",
        "regressor.score(X_test,y_test)"
      ],
      "execution_count": 203,
      "outputs": [
        {
          "output_type": "execute_result",
          "data": {
            "text/plain": [
              "0.744165464813784"
            ]
          },
          "metadata": {
            "tags": []
          },
          "execution_count": 203
        }
      ]
    },
    {
      "cell_type": "code",
      "metadata": {
        "id": "1b_-bG27gb3-",
        "colab_type": "code",
        "colab": {
          "base_uri": "https://localhost:8080/",
          "height": 689
        },
        "outputId": "70b11794-2eaf-4f8d-9681-89f7ce3b636d"
      },
      "source": [
        "X_train = sm.add_constant(X_train)\n",
        "X_test = sm.add_constant(X_test)\n",
        "regressor_OLS = sm.OLS(y_train, X_train).fit()\n",
        "regressor_OLS.summary()"
      ],
      "execution_count": 206,
      "outputs": [
        {
          "output_type": "stream",
          "text": [
            "/usr/local/lib/python3.6/dist-packages/numpy/core/fromnumeric.py:2495: FutureWarning: Method .ptp is deprecated and will be removed in a future version. Use numpy.ptp instead.\n",
            "  return ptp(axis=axis, out=out, **kwargs)\n",
            "/usr/local/lib/python3.6/dist-packages/statsmodels/regression/linear_model.py:1755: RuntimeWarning: divide by zero encountered in double_scalars\n",
            "  return np.sqrt(eigvals[0]/eigvals[-1])\n",
            "/usr/local/lib/python3.6/dist-packages/statsmodels/base/model.py:1294: RuntimeWarning: invalid value encountered in true_divide\n",
            "  return self.params / self.bse\n",
            "/usr/local/lib/python3.6/dist-packages/scipy/stats/_distn_infrastructure.py:903: RuntimeWarning: invalid value encountered in greater\n",
            "  return (a < x) & (x < b)\n",
            "/usr/local/lib/python3.6/dist-packages/scipy/stats/_distn_infrastructure.py:903: RuntimeWarning: invalid value encountered in less\n",
            "  return (a < x) & (x < b)\n",
            "/usr/local/lib/python3.6/dist-packages/scipy/stats/_distn_infrastructure.py:1912: RuntimeWarning: invalid value encountered in less_equal\n",
            "  cond2 = cond0 & (x <= _a)\n"
          ],
          "name": "stderr"
        },
        {
          "output_type": "execute_result",
          "data": {
            "text/html": [
              "<table class=\"simpletable\">\n",
              "<caption>OLS Regression Results</caption>\n",
              "<tr>\n",
              "  <th>Dep. Variable:</th>        <td>distance</td>     <th>  R-squared:         </th> <td>   0.747</td> \n",
              "</tr>\n",
              "<tr>\n",
              "  <th>Model:</th>                   <td>OLS</td>       <th>  Adj. R-squared:    </th> <td>   0.747</td> \n",
              "</tr>\n",
              "<tr>\n",
              "  <th>Method:</th>             <td>Least Squares</td>  <th>  F-statistic:       </th> <td>6.324e+04</td>\n",
              "</tr>\n",
              "<tr>\n",
              "  <th>Date:</th>             <td>Sun, 08 Mar 2020</td> <th>  Prob (F-statistic):</th>  <td>  0.00</td>  \n",
              "</tr>\n",
              "<tr>\n",
              "  <th>Time:</th>                 <td>04:58:35</td>     <th>  Log-Likelihood:    </th> <td> -35579.</td> \n",
              "</tr>\n",
              "<tr>\n",
              "  <th>No. Observations:</th>      <td> 64370</td>      <th>  AIC:               </th> <td>7.117e+04</td>\n",
              "</tr>\n",
              "<tr>\n",
              "  <th>Df Residuals:</th>          <td> 64366</td>      <th>  BIC:               </th> <td>7.120e+04</td>\n",
              "</tr>\n",
              "<tr>\n",
              "  <th>Df Model:</th>              <td>     3</td>      <th>                     </th>     <td> </td>    \n",
              "</tr>\n",
              "<tr>\n",
              "  <th>Covariance Type:</th>      <td>nonrobust</td>    <th>                     </th>     <td> </td>    \n",
              "</tr>\n",
              "</table>\n",
              "<table class=\"simpletable\">\n",
              "<tr>\n",
              "           <td></td>              <th>coef</th>     <th>std err</th>      <th>t</th>      <th>P>|t|</th>  <th>[0.025</th>    <th>0.975]</th>  \n",
              "</tr>\n",
              "<tr>\n",
              "  <th>const</th>               <td>   -0.4506</td> <td>    0.028</td> <td>  -15.931</td> <td> 0.000</td> <td>   -0.506</td> <td>   -0.395</td>\n",
              "</tr>\n",
              "<tr>\n",
              "  <th>minutes</th>             <td>    0.0869</td> <td>    0.000</td> <td>  435.183</td> <td> 0.000</td> <td>    0.087</td> <td>    0.087</td>\n",
              "</tr>\n",
              "<tr>\n",
              "  <th>usertype_Subscriber</th> <td>    0.4757</td> <td>    0.028</td> <td>   17.005</td> <td> 0.000</td> <td>    0.421</td> <td>    0.530</td>\n",
              "</tr>\n",
              "<tr>\n",
              "  <th>gender_male</th>         <td>    0.1133</td> <td>    0.004</td> <td>   29.263</td> <td> 0.000</td> <td>    0.106</td> <td>    0.121</td>\n",
              "</tr>\n",
              "<tr>\n",
              "  <th>gender_unknown</th>      <td>         0</td> <td>        0</td> <td>      nan</td> <td>   nan</td> <td>        0</td> <td>        0</td>\n",
              "</tr>\n",
              "</table>\n",
              "<table class=\"simpletable\">\n",
              "<tr>\n",
              "  <th>Omnibus:</th>       <td>12592.127</td> <th>  Durbin-Watson:     </th>  <td>   2.012</td> \n",
              "</tr>\n",
              "<tr>\n",
              "  <th>Prob(Omnibus):</th>  <td> 0.000</td>   <th>  Jarque-Bera (JB):  </th> <td>376784.896</td>\n",
              "</tr>\n",
              "<tr>\n",
              "  <th>Skew:</th>           <td>-0.179</td>   <th>  Prob(JB):          </th>  <td>    0.00</td> \n",
              "</tr>\n",
              "<tr>\n",
              "  <th>Kurtosis:</th>       <td>14.847</td>   <th>  Cond. No.          </th>  <td>     inf</td> \n",
              "</tr>\n",
              "</table><br/><br/>Warnings:<br/>[1] Standard Errors assume that the covariance matrix of the errors is correctly specified.<br/>[2] The smallest eigenvalue is      0. This might indicate that there are<br/>strong multicollinearity problems or that the design matrix is singular."
            ],
            "text/plain": [
              "<class 'statsmodels.iolib.summary.Summary'>\n",
              "\"\"\"\n",
              "                            OLS Regression Results                            \n",
              "==============================================================================\n",
              "Dep. Variable:               distance   R-squared:                       0.747\n",
              "Model:                            OLS   Adj. R-squared:                  0.747\n",
              "Method:                 Least Squares   F-statistic:                 6.324e+04\n",
              "Date:                Sun, 08 Mar 2020   Prob (F-statistic):               0.00\n",
              "Time:                        04:58:35   Log-Likelihood:                -35579.\n",
              "No. Observations:               64370   AIC:                         7.117e+04\n",
              "Df Residuals:                   64366   BIC:                         7.120e+04\n",
              "Df Model:                           3                                         \n",
              "Covariance Type:            nonrobust                                         \n",
              "=======================================================================================\n",
              "                          coef    std err          t      P>|t|      [0.025      0.975]\n",
              "---------------------------------------------------------------------------------------\n",
              "const                  -0.4506      0.028    -15.931      0.000      -0.506      -0.395\n",
              "minutes                 0.0869      0.000    435.183      0.000       0.087       0.087\n",
              "usertype_Subscriber     0.4757      0.028     17.005      0.000       0.421       0.530\n",
              "gender_male             0.1133      0.004     29.263      0.000       0.106       0.121\n",
              "gender_unknown               0          0        nan        nan           0           0\n",
              "==============================================================================\n",
              "Omnibus:                    12592.127   Durbin-Watson:                   2.012\n",
              "Prob(Omnibus):                  0.000   Jarque-Bera (JB):           376784.896\n",
              "Skew:                          -0.179   Prob(JB):                         0.00\n",
              "Kurtosis:                      14.847   Cond. No.                          inf\n",
              "==============================================================================\n",
              "\n",
              "Warnings:\n",
              "[1] Standard Errors assume that the covariance matrix of the errors is correctly specified.\n",
              "[2] The smallest eigenvalue is      0. This might indicate that there are\n",
              "strong multicollinearity problems or that the design matrix is singular.\n",
              "\"\"\""
            ]
          },
          "metadata": {
            "tags": []
          },
          "execution_count": 206
        }
      ]
    },
    {
      "cell_type": "markdown",
      "metadata": {
        "id": "dARh724QgrMv",
        "colab_type": "text"
      },
      "source": [
        "Continue to refine this model by reviewing date. \n",
        "*   December - Feb. = Winter\n",
        "*   March - May = Spring\n",
        "*   June - Aug. = Summer\n",
        "*   Sept. - Nov. = Fall"
      ]
    },
    {
      "cell_type": "code",
      "metadata": {
        "id": "knHGpkCdhSdA",
        "colab_type": "code",
        "colab": {}
      },
      "source": [
        "model_2_df = cleaned_df"
      ],
      "execution_count": 0,
      "outputs": []
    },
    {
      "cell_type": "code",
      "metadata": {
        "id": "g3V943hSgxRE",
        "colab_type": "code",
        "colab": {}
      },
      "source": [
        "def get_date_info(model_2_df):\n",
        "    model_2_df['d_week'] = model_2_df['starttime'].dt.dayofweek\n",
        "    model_2_df['m_yr'] = model_2_df['starttime'].dt.month\n",
        "    model_2_df['ToD'] = model_2_df['starttime'].dt.hour\n",
        "\n",
        "    model_2_df['d_week'] = (model_2_df['d_week']<5).astype(int)\n",
        "\n",
        "    model_2_df['m_yr'] = model_2_df['m_yr'].replace(to_replace=[12,1,2], value = 0)\n",
        "    model_2_df['m_yr'] = model_2_df['m_yr'].replace(to_replace=[3,4,5], value = 1)\n",
        "    model_2_df['m_yr'] = model_2_df['m_yr'].replace(to_replace=[6,7,8], value = 2)\n",
        "    model_2_df['m_yr'] = model_2_df['m_yr'].replace(to_replace=[9,10,11], value = 3)\n",
        "    \n",
        "    model_2_df['ToD'] = pd.cut(model_2_df['ToD'], bins=[-1, 5, 9, 14, 20, 25], labels=['Night','Morning','Afternoon','Evening','Night1'])\n",
        "    model_2_df['ToD'] = model_2_df['ToD'].replace(to_replace='Night1', value = 'Night')\n",
        "    model_2_df['ToD'] = model_2_df['ToD'].cat.remove_unused_categories()\n",
        "    \n",
        "    model_2_df['m_yr'] = model_2_df['m_yr'].astype('category')\n",
        "    model_2_df['d_week'] = model_2_df['d_week'].astype('category')\n",
        "\n",
        "    return(model_2_df)"
      ],
      "execution_count": 0,
      "outputs": []
    },
    {
      "cell_type": "code",
      "metadata": {
        "id": "DKucasNvh9ii",
        "colab_type": "code",
        "colab": {}
      },
      "source": [
        "#Dataset for the second model\n",
        "df_model2 = drop_data(model_df_sample)\n",
        "df_model2 = get_date_info(df_model2)\n",
        "df_model2 = df_model2.drop('starttime', axis =1)"
      ],
      "execution_count": 0,
      "outputs": []
    },
    {
      "cell_type": "code",
      "metadata": {
        "id": "_lPNRscgia4m",
        "colab_type": "code",
        "colab": {}
      },
      "source": [
        "#Dummify categorical data and avoid dummy variable trap\n",
        "df_model2 = pd.get_dummies(df_model2, drop_first = True)"
      ],
      "execution_count": 0,
      "outputs": []
    },
    {
      "cell_type": "code",
      "metadata": {
        "id": "f2fA8wy6ifGm",
        "colab_type": "code",
        "colab": {}
      },
      "source": [
        "#Predictor variable\n",
        "X = df_model2.iloc[:,1:]\n",
        "#Target variable\n",
        "y = df_model2.iloc[:,0]\n",
        "\n",
        "X_train, X_test, y_train, y_test = train_test_split(X, y, test_size = 0.2, random_state = 0)"
      ],
      "execution_count": 0,
      "outputs": []
    },
    {
      "cell_type": "code",
      "metadata": {
        "id": "tRByZcNlikl8",
        "colab_type": "code",
        "colab": {
          "base_uri": "https://localhost:8080/",
          "height": 34
        },
        "outputId": "14e7ae7b-fb16-4036-a605-e2c67350d591"
      },
      "source": [
        "#Fit Linear Regression and check accuracy using sklearn\n",
        "regressor = LinearRegression()\n",
        "regressor.fit(X_train, y_train)\n",
        "regressor.score(X_test,y_test)"
      ],
      "execution_count": 213,
      "outputs": [
        {
          "output_type": "execute_result",
          "data": {
            "text/plain": [
              "0.7485725654554233"
            ]
          },
          "metadata": {
            "tags": []
          },
          "execution_count": 213
        }
      ]
    },
    {
      "cell_type": "code",
      "metadata": {
        "id": "j1obsqFrirT7",
        "colab_type": "code",
        "colab": {
          "base_uri": "https://localhost:8080/",
          "height": 645
        },
        "outputId": "2c68febf-483b-4120-ae4e-1510b2e32554"
      },
      "source": [
        "X_train = sm.add_constant(X_train)\n",
        "X_test = sm.add_constant(X_test)\n",
        "regressor_OLS = sm.OLS(y_train, X_train).fit()\n",
        "regressor_OLS.summary()"
      ],
      "execution_count": 215,
      "outputs": [
        {
          "output_type": "stream",
          "text": [
            "/usr/local/lib/python3.6/dist-packages/numpy/core/fromnumeric.py:2495: FutureWarning: Method .ptp is deprecated and will be removed in a future version. Use numpy.ptp instead.\n",
            "  return ptp(axis=axis, out=out, **kwargs)\n"
          ],
          "name": "stderr"
        },
        {
          "output_type": "execute_result",
          "data": {
            "text/html": [
              "<table class=\"simpletable\">\n",
              "<caption>OLS Regression Results</caption>\n",
              "<tr>\n",
              "  <th>Dep. Variable:</th>        <td>distance</td>     <th>  R-squared:         </th> <td>   0.751</td> \n",
              "</tr>\n",
              "<tr>\n",
              "  <th>Model:</th>                   <td>OLS</td>       <th>  Adj. R-squared:    </th> <td>   0.751</td> \n",
              "</tr>\n",
              "<tr>\n",
              "  <th>Method:</th>             <td>Least Squares</td>  <th>  F-statistic:       </th> <td>1.937e+04</td>\n",
              "</tr>\n",
              "<tr>\n",
              "  <th>Date:</th>             <td>Sun, 08 Mar 2020</td> <th>  Prob (F-statistic):</th>  <td>  0.00</td>  \n",
              "</tr>\n",
              "<tr>\n",
              "  <th>Time:</th>                 <td>05:08:28</td>     <th>  Log-Likelihood:    </th> <td> -35076.</td> \n",
              "</tr>\n",
              "<tr>\n",
              "  <th>No. Observations:</th>      <td> 64370</td>      <th>  AIC:               </th> <td>7.017e+04</td>\n",
              "</tr>\n",
              "<tr>\n",
              "  <th>Df Residuals:</th>          <td> 64359</td>      <th>  BIC:               </th> <td>7.027e+04</td>\n",
              "</tr>\n",
              "<tr>\n",
              "  <th>Df Model:</th>              <td>    10</td>      <th>                     </th>     <td> </td>    \n",
              "</tr>\n",
              "<tr>\n",
              "  <th>Covariance Type:</th>      <td>nonrobust</td>    <th>                     </th>     <td> </td>    \n",
              "</tr>\n",
              "</table>\n",
              "<table class=\"simpletable\">\n",
              "<tr>\n",
              "           <td></td>              <th>coef</th>     <th>std err</th>      <th>t</th>      <th>P>|t|</th>  <th>[0.025</th>    <th>0.975]</th>  \n",
              "</tr>\n",
              "<tr>\n",
              "  <th>const</th>               <td>   -0.4448</td> <td>    0.029</td> <td>  -15.282</td> <td> 0.000</td> <td>   -0.502</td> <td>   -0.388</td>\n",
              "</tr>\n",
              "<tr>\n",
              "  <th>minutes</th>             <td>    0.0871</td> <td>    0.000</td> <td>  437.160</td> <td> 0.000</td> <td>    0.087</td> <td>    0.087</td>\n",
              "</tr>\n",
              "<tr>\n",
              "  <th>usertype_Subscriber</th> <td>    0.4369</td> <td>    0.028</td> <td>   15.683</td> <td> 0.000</td> <td>    0.382</td> <td>    0.491</td>\n",
              "</tr>\n",
              "<tr>\n",
              "  <th>gender_male</th>         <td>    0.1107</td> <td>    0.004</td> <td>   28.773</td> <td> 0.000</td> <td>    0.103</td> <td>    0.118</td>\n",
              "</tr>\n",
              "<tr>\n",
              "  <th>gender_unknown</th>      <td> 8.766e-17</td> <td> 1.77e-17</td> <td>    4.942</td> <td> 0.000</td> <td> 5.29e-17</td> <td> 1.22e-16</td>\n",
              "</tr>\n",
              "<tr>\n",
              "  <th>d_week_1</th>            <td>    0.0496</td> <td>    0.004</td> <td>   11.797</td> <td> 0.000</td> <td>    0.041</td> <td>    0.058</td>\n",
              "</tr>\n",
              "<tr>\n",
              "  <th>m_yr_1</th>              <td>    0.0079</td> <td>    0.006</td> <td>    1.389</td> <td> 0.165</td> <td>   -0.003</td> <td>    0.019</td>\n",
              "</tr>\n",
              "<tr>\n",
              "  <th>m_yr_2</th>              <td>   -0.0073</td> <td>    0.006</td> <td>   -1.334</td> <td> 0.182</td> <td>   -0.018</td> <td>    0.003</td>\n",
              "</tr>\n",
              "<tr>\n",
              "  <th>m_yr_3</th>              <td>   -0.0042</td> <td>    0.006</td> <td>   -0.657</td> <td> 0.511</td> <td>   -0.017</td> <td>    0.008</td>\n",
              "</tr>\n",
              "<tr>\n",
              "  <th>ToD_Morning</th>         <td>    0.0681</td> <td>    0.006</td> <td>   10.785</td> <td> 0.000</td> <td>    0.056</td> <td>    0.080</td>\n",
              "</tr>\n",
              "<tr>\n",
              "  <th>ToD_Afternoon</th>       <td>   -0.0576</td> <td>    0.006</td> <td>   -9.128</td> <td> 0.000</td> <td>   -0.070</td> <td>   -0.045</td>\n",
              "</tr>\n",
              "<tr>\n",
              "  <th>ToD_Evening</th>         <td>   -0.0196</td> <td>    0.006</td> <td>   -3.349</td> <td> 0.001</td> <td>   -0.031</td> <td>   -0.008</td>\n",
              "</tr>\n",
              "</table>\n",
              "<table class=\"simpletable\">\n",
              "<tr>\n",
              "  <th>Omnibus:</th>       <td>12600.453</td> <th>  Durbin-Watson:     </th>  <td>   2.012</td> \n",
              "</tr>\n",
              "<tr>\n",
              "  <th>Prob(Omnibus):</th>  <td> 0.000</td>   <th>  Jarque-Bera (JB):  </th> <td>381246.716</td>\n",
              "</tr>\n",
              "<tr>\n",
              "  <th>Skew:</th>           <td>-0.171</td>   <th>  Prob(JB):          </th>  <td>    0.00</td> \n",
              "</tr>\n",
              "<tr>\n",
              "  <th>Kurtosis:</th>       <td>14.918</td>   <th>  Cond. No.          </th>  <td>1.42e+18</td> \n",
              "</tr>\n",
              "</table><br/><br/>Warnings:<br/>[1] Standard Errors assume that the covariance matrix of the errors is correctly specified.<br/>[2] The smallest eigenvalue is 6.93e-30. This might indicate that there are<br/>strong multicollinearity problems or that the design matrix is singular."
            ],
            "text/plain": [
              "<class 'statsmodels.iolib.summary.Summary'>\n",
              "\"\"\"\n",
              "                            OLS Regression Results                            \n",
              "==============================================================================\n",
              "Dep. Variable:               distance   R-squared:                       0.751\n",
              "Model:                            OLS   Adj. R-squared:                  0.751\n",
              "Method:                 Least Squares   F-statistic:                 1.937e+04\n",
              "Date:                Sun, 08 Mar 2020   Prob (F-statistic):               0.00\n",
              "Time:                        05:08:28   Log-Likelihood:                -35076.\n",
              "No. Observations:               64370   AIC:                         7.017e+04\n",
              "Df Residuals:                   64359   BIC:                         7.027e+04\n",
              "Df Model:                          10                                         \n",
              "Covariance Type:            nonrobust                                         \n",
              "=======================================================================================\n",
              "                          coef    std err          t      P>|t|      [0.025      0.975]\n",
              "---------------------------------------------------------------------------------------\n",
              "const                  -0.4448      0.029    -15.282      0.000      -0.502      -0.388\n",
              "minutes                 0.0871      0.000    437.160      0.000       0.087       0.087\n",
              "usertype_Subscriber     0.4369      0.028     15.683      0.000       0.382       0.491\n",
              "gender_male             0.1107      0.004     28.773      0.000       0.103       0.118\n",
              "gender_unknown       8.766e-17   1.77e-17      4.942      0.000    5.29e-17    1.22e-16\n",
              "d_week_1                0.0496      0.004     11.797      0.000       0.041       0.058\n",
              "m_yr_1                  0.0079      0.006      1.389      0.165      -0.003       0.019\n",
              "m_yr_2                 -0.0073      0.006     -1.334      0.182      -0.018       0.003\n",
              "m_yr_3                 -0.0042      0.006     -0.657      0.511      -0.017       0.008\n",
              "ToD_Morning             0.0681      0.006     10.785      0.000       0.056       0.080\n",
              "ToD_Afternoon          -0.0576      0.006     -9.128      0.000      -0.070      -0.045\n",
              "ToD_Evening            -0.0196      0.006     -3.349      0.001      -0.031      -0.008\n",
              "==============================================================================\n",
              "Omnibus:                    12600.453   Durbin-Watson:                   2.012\n",
              "Prob(Omnibus):                  0.000   Jarque-Bera (JB):           381246.716\n",
              "Skew:                          -0.171   Prob(JB):                         0.00\n",
              "Kurtosis:                      14.918   Cond. No.                     1.42e+18\n",
              "==============================================================================\n",
              "\n",
              "Warnings:\n",
              "[1] Standard Errors assume that the covariance matrix of the errors is correctly specified.\n",
              "[2] The smallest eigenvalue is 6.93e-30. This might indicate that there are\n",
              "strong multicollinearity problems or that the design matrix is singular.\n",
              "\"\"\""
            ]
          },
          "metadata": {
            "tags": []
          },
          "execution_count": 215
        }
      ]
    },
    {
      "cell_type": "markdown",
      "metadata": {
        "id": "aTAhxRO6i6Bs",
        "colab_type": "text"
      },
      "source": [
        "We can see some improvement in our model."
      ]
    }
  ]
}