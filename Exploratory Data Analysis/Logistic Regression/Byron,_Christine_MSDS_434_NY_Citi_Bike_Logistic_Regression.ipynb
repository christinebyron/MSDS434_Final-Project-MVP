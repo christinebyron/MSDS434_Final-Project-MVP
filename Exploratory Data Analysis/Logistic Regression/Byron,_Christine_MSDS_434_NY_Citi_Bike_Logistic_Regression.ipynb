{
  "nbformat": 4,
  "nbformat_minor": 0,
  "metadata": {
    "colab": {
      "name": "Byron, Christine_MSDS 434_NY Citi Bike_Logistic Regression.ipynb",
      "provenance": []
    },
    "kernelspec": {
      "name": "python3",
      "display_name": "Python 3"
    }
  },
  "cells": [
    {
      "cell_type": "markdown",
      "metadata": {
        "id": "MVpp30FQh_Nv",
        "colab_type": "text"
      },
      "source": [
        "#Final Assignment - NYC Citi Bike Trips"
      ]
    },
    {
      "cell_type": "markdown",
      "metadata": {
        "id": "uZgDE555ivms",
        "colab_type": "text"
      },
      "source": [
        "**Overview**\n",
        "\n",
        "\n",
        "After having analyzed our Citi Bike Usres, it was evident that there were some wins that could be delivered to those that purchase daily or three-day passes. Our goal was to futher analyze this data so that we could attempt to build an application that better supported them making the best decision for there specific use case. "
      ]
    },
    {
      "cell_type": "markdown",
      "metadata": {
        "id": "LPc43hArjDk_",
        "colab_type": "text"
      },
      "source": [
        "###Notebook Setup"
      ]
    },
    {
      "cell_type": "code",
      "metadata": {
        "id": "DQn-13ZCd4Kc",
        "colab_type": "code",
        "outputId": "b662bdcc-0d87-4e12-ebca-76189e65e17a",
        "colab": {
          "base_uri": "https://localhost:8080/",
          "height": 34
        }
      },
      "source": [
        "from google.colab import auth\n",
        "auth.authenticate_user()\n",
        "print('Authenticated')"
      ],
      "execution_count": 1,
      "outputs": [
        {
          "output_type": "stream",
          "text": [
            "Authenticated\n"
          ],
          "name": "stdout"
        }
      ]
    },
    {
      "cell_type": "code",
      "metadata": {
        "id": "2YUZSPNXh-di",
        "colab_type": "code",
        "colab": {}
      },
      "source": [
        "#Import Libraries\n",
        "import numpy as np\n",
        "import matplotlib.pyplot as plt\n",
        "import pandas as pd\n",
        "from pandas import *\n",
        "import seaborn as sns\n",
        "from matplotlib import rcParams\n",
        "import datetime as dt\n",
        "import geopy.geocoders\n",
        "from geopy.geocoders import Nominatim\n",
        "from geopy.distance import geodesic\n",
        "from geopy.distance import vincenty\n",
        "from geopy import distance\n",
        "from sklearn.model_selection import train_test_split\n",
        "from sklearn.linear_model import LinearRegression\n",
        "import statsmodels.api as sm\n",
        "from sklearn.preprocessing import StandardScaler"
      ],
      "execution_count": 0,
      "outputs": []
    },
    {
      "cell_type": "code",
      "metadata": {
        "id": "B-UXluw3xPzz",
        "colab_type": "code",
        "colab": {}
      },
      "source": [
        ""
      ],
      "execution_count": 0,
      "outputs": []
    },
    {
      "cell_type": "markdown",
      "metadata": {
        "id": "H3cyNZMNrYbY",
        "colab_type": "text"
      },
      "source": [
        "###Analyze Citi Bike - Customer Data"
      ]
    },
    {
      "cell_type": "markdown",
      "metadata": {
        "id": "JfSesqvrksWv",
        "colab_type": "text"
      },
      "source": [
        "After having cleaned an analyzed the larger Citi Bike dataset, a subset of 32,800 Customer records was generated for further exploratory research. The details below show the how this sample count was created. "
      ]
    },
    {
      "cell_type": "code",
      "metadata": {
        "id": "qkdYH11feb1j",
        "colab_type": "code",
        "colab": {}
      },
      "source": [
        "project_id = 'msds434-cohort-analysis-mvp'"
      ],
      "execution_count": 0,
      "outputs": []
    },
    {
      "cell_type": "code",
      "metadata": {
        "id": "UPKqp_sBeg9f",
        "colab_type": "code",
        "colab": {
          "base_uri": "https://localhost:8080/",
          "height": 51
        },
        "outputId": "dee31a74-e729-4621-b48e-db598bd9e314"
      },
      "source": [
        "from google.cloud import bigquery\n",
        "\n",
        "client = bigquery.Client(project='msds434-cohort-analysis-mvp')\n",
        "\n",
        "sample_count = 32800\n",
        "row_count = client.query('''\n",
        "  SELECT \n",
        "    COUNT(*) as total\n",
        "  FROM `msds434-cohort-analysis-mvp.citibikenyc_analysis.citibikenyc_customer`''').to_dataframe().total[0]\n",
        "\n",
        "df = client.query('''\n",
        "  SELECT\n",
        "    *\n",
        "  FROM\n",
        "    `msds434-cohort-analysis-mvp.citibikenyc_analysis.citibikenyc_customer`\n",
        "  WHERE RAND() < %d/%d\n",
        "''' % (sample_count, row_count)).to_dataframe()\n",
        "\n",
        "print('Full dataset has %d rows' % row_count)"
      ],
      "execution_count": 12,
      "outputs": [
        {
          "output_type": "stream",
          "text": [
            "WARNING:google.auth._default:No project ID could be determined. Consider running `gcloud config set project` or setting the GOOGLE_CLOUD_PROJECT environment variable\n"
          ],
          "name": "stderr"
        },
        {
          "output_type": "stream",
          "text": [
            "Full dataset has 32800 rows\n"
          ],
          "name": "stdout"
        }
      ]
    },
    {
      "cell_type": "code",
      "metadata": {
        "id": "EfqT2W2yft2u",
        "colab_type": "code",
        "colab": {
          "base_uri": "https://localhost:8080/",
          "height": 317
        },
        "outputId": "29393786-315b-4bf1-9912-11fa6892bec6"
      },
      "source": [
        "df.describe()"
      ],
      "execution_count": 13,
      "outputs": [
        {
          "output_type": "execute_result",
          "data": {
            "text/html": [
              "<div>\n",
              "<style scoped>\n",
              "    .dataframe tbody tr th:only-of-type {\n",
              "        vertical-align: middle;\n",
              "    }\n",
              "\n",
              "    .dataframe tbody tr th {\n",
              "        vertical-align: top;\n",
              "    }\n",
              "\n",
              "    .dataframe thead th {\n",
              "        text-align: right;\n",
              "    }\n",
              "</style>\n",
              "<table border=\"1\" class=\"dataframe\">\n",
              "  <thead>\n",
              "    <tr style=\"text-align: right;\">\n",
              "      <th></th>\n",
              "      <th>tripduration</th>\n",
              "      <th>start_station_id</th>\n",
              "      <th>start_station_latitude</th>\n",
              "      <th>start_station_longitude</th>\n",
              "      <th>end_station_id</th>\n",
              "      <th>end_station_latitude</th>\n",
              "      <th>end_station_longitude</th>\n",
              "      <th>bikeid</th>\n",
              "      <th>birth_year</th>\n",
              "      <th>distance</th>\n",
              "      <th>minutes</th>\n",
              "      <th>age</th>\n",
              "      <th>season</th>\n",
              "      <th>dayofweek</th>\n",
              "      <th>hour</th>\n",
              "    </tr>\n",
              "  </thead>\n",
              "  <tbody>\n",
              "    <tr>\n",
              "      <th>count</th>\n",
              "      <td>32800.000000</td>\n",
              "      <td>32800.000000</td>\n",
              "      <td>32800.000000</td>\n",
              "      <td>32800.000000</td>\n",
              "      <td>32800.000000</td>\n",
              "      <td>32800.000000</td>\n",
              "      <td>32800.000000</td>\n",
              "      <td>32800.000000</td>\n",
              "      <td>32800.000000</td>\n",
              "      <td>32800.000000</td>\n",
              "      <td>32800.000000</td>\n",
              "      <td>32800.000000</td>\n",
              "      <td>32800.000000</td>\n",
              "      <td>32800.000000</td>\n",
              "      <td>32800.000000</td>\n",
              "    </tr>\n",
              "    <tr>\n",
              "      <th>mean</th>\n",
              "      <td>1378.390732</td>\n",
              "      <td>1341.486799</td>\n",
              "      <td>40.738972</td>\n",
              "      <td>-73.986088</td>\n",
              "      <td>1350.192988</td>\n",
              "      <td>40.738665</td>\n",
              "      <td>-73.986317</td>\n",
              "      <td>21067.373110</td>\n",
              "      <td>1981.658811</td>\n",
              "      <td>2054.348324</td>\n",
              "      <td>22.973179</td>\n",
              "      <td>38.341189</td>\n",
              "      <td>2.999726</td>\n",
              "      <td>4.052287</td>\n",
              "      <td>14.312561</td>\n",
              "    </tr>\n",
              "    <tr>\n",
              "      <th>std</th>\n",
              "      <td>991.509014</td>\n",
              "      <td>1314.280508</td>\n",
              "      <td>0.029592</td>\n",
              "      <td>0.018048</td>\n",
              "      <td>1319.817297</td>\n",
              "      <td>0.029695</td>\n",
              "      <td>0.018045</td>\n",
              "      <td>3745.836332</td>\n",
              "      <td>10.605750</td>\n",
              "      <td>1422.985358</td>\n",
              "      <td>16.525150</td>\n",
              "      <td>10.605750</td>\n",
              "      <td>0.019907</td>\n",
              "      <td>2.316054</td>\n",
              "      <td>4.036661</td>\n",
              "    </tr>\n",
              "    <tr>\n",
              "      <th>min</th>\n",
              "      <td>91.000000</td>\n",
              "      <td>72.000000</td>\n",
              "      <td>40.646768</td>\n",
              "      <td>-74.017134</td>\n",
              "      <td>72.000000</td>\n",
              "      <td>40.646768</td>\n",
              "      <td>-74.017134</td>\n",
              "      <td>14529.000000</td>\n",
              "      <td>1941.000000</td>\n",
              "      <td>0.000000</td>\n",
              "      <td>1.516667</td>\n",
              "      <td>22.000000</td>\n",
              "      <td>2.000000</td>\n",
              "      <td>1.000000</td>\n",
              "      <td>0.000000</td>\n",
              "    </tr>\n",
              "    <tr>\n",
              "      <th>25%</th>\n",
              "      <td>813.000000</td>\n",
              "      <td>347.000000</td>\n",
              "      <td>40.715348</td>\n",
              "      <td>-74.001567</td>\n",
              "      <td>347.000000</td>\n",
              "      <td>40.714979</td>\n",
              "      <td>-74.001971</td>\n",
              "      <td>17801.000000</td>\n",
              "      <td>1975.000000</td>\n",
              "      <td>1043.594437</td>\n",
              "      <td>13.550000</td>\n",
              "      <td>30.000000</td>\n",
              "      <td>3.000000</td>\n",
              "      <td>2.000000</td>\n",
              "      <td>12.000000</td>\n",
              "    </tr>\n",
              "    <tr>\n",
              "      <th>50%</th>\n",
              "      <td>1252.000000</td>\n",
              "      <td>486.000000</td>\n",
              "      <td>40.739974</td>\n",
              "      <td>-73.987895</td>\n",
              "      <td>485.000000</td>\n",
              "      <td>40.739323</td>\n",
              "      <td>-73.988084</td>\n",
              "      <td>21047.000000</td>\n",
              "      <td>1984.000000</td>\n",
              "      <td>1773.069320</td>\n",
              "      <td>20.866667</td>\n",
              "      <td>36.000000</td>\n",
              "      <td>3.000000</td>\n",
              "      <td>4.000000</td>\n",
              "      <td>14.000000</td>\n",
              "    </tr>\n",
              "    <tr>\n",
              "      <th>75%</th>\n",
              "      <td>1649.000000</td>\n",
              "      <td>3137.000000</td>\n",
              "      <td>40.762272</td>\n",
              "      <td>-73.973747</td>\n",
              "      <td>3137.000000</td>\n",
              "      <td>40.761227</td>\n",
              "      <td>-73.973747</td>\n",
              "      <td>24728.000000</td>\n",
              "      <td>1990.000000</td>\n",
              "      <td>2768.635402</td>\n",
              "      <td>27.483333</td>\n",
              "      <td>45.000000</td>\n",
              "      <td>3.000000</td>\n",
              "      <td>6.000000</td>\n",
              "      <td>17.000000</td>\n",
              "    </tr>\n",
              "    <tr>\n",
              "      <th>max</th>\n",
              "      <td>10770.000000</td>\n",
              "      <td>3431.000000</td>\n",
              "      <td>40.804213</td>\n",
              "      <td>-73.929891</td>\n",
              "      <td>3431.000000</td>\n",
              "      <td>40.804213</td>\n",
              "      <td>-73.929891</td>\n",
              "      <td>27316.000000</td>\n",
              "      <td>1998.000000</td>\n",
              "      <td>12244.655494</td>\n",
              "      <td>179.500000</td>\n",
              "      <td>79.000000</td>\n",
              "      <td>4.000000</td>\n",
              "      <td>7.000000</td>\n",
              "      <td>23.000000</td>\n",
              "    </tr>\n",
              "  </tbody>\n",
              "</table>\n",
              "</div>"
            ],
            "text/plain": [
              "       tripduration  start_station_id  ...     dayofweek          hour\n",
              "count  32800.000000      32800.000000  ...  32800.000000  32800.000000\n",
              "mean    1378.390732       1341.486799  ...      4.052287     14.312561\n",
              "std      991.509014       1314.280508  ...      2.316054      4.036661\n",
              "min       91.000000         72.000000  ...      1.000000      0.000000\n",
              "25%      813.000000        347.000000  ...      2.000000     12.000000\n",
              "50%     1252.000000        486.000000  ...      4.000000     14.000000\n",
              "75%     1649.000000       3137.000000  ...      6.000000     17.000000\n",
              "max    10770.000000       3431.000000  ...      7.000000     23.000000\n",
              "\n",
              "[8 rows x 15 columns]"
            ]
          },
          "metadata": {
            "tags": []
          },
          "execution_count": 13
        }
      ]
    },
    {
      "cell_type": "markdown",
      "metadata": {
        "id": "M4p9YhHZ0xT2",
        "colab_type": "text"
      },
      "source": [
        "####Data Clean Up"
      ]
    },
    {
      "cell_type": "markdown",
      "metadata": {
        "id": "OuW8RmK3xYRA",
        "colab_type": "text"
      },
      "source": [
        "**Missing Data**: Confirm all missing data is removed from the dataset."
      ]
    },
    {
      "cell_type": "code",
      "metadata": {
        "id": "MCQ-QHSiw6HG",
        "colab_type": "code",
        "outputId": "0ea49bce-901f-4b54-b61e-f6583e8f6bda",
        "colab": {
          "base_uri": "https://localhost:8080/",
          "height": 700
        }
      },
      "source": [
        "sample_df = df\n",
        "#Percentage of missing data.\n",
        "def missing_data(sample_df):\n",
        "    total = sample_df.isnull().sum().sort_values(ascending=False)\n",
        "    percent = (sample_df.isnull().sum()/sample_df.isnull().count()*100).sort_values(ascending=False)\n",
        "    missing_data = pd.concat([total, percent], axis=1, keys=['Total', 'Percent'])\n",
        "    return missing_data\n",
        "missing_data(sample_df)"
      ],
      "execution_count": 14,
      "outputs": [
        {
          "output_type": "execute_result",
          "data": {
            "text/html": [
              "<div>\n",
              "<style scoped>\n",
              "    .dataframe tbody tr th:only-of-type {\n",
              "        vertical-align: middle;\n",
              "    }\n",
              "\n",
              "    .dataframe tbody tr th {\n",
              "        vertical-align: top;\n",
              "    }\n",
              "\n",
              "    .dataframe thead th {\n",
              "        text-align: right;\n",
              "    }\n",
              "</style>\n",
              "<table border=\"1\" class=\"dataframe\">\n",
              "  <thead>\n",
              "    <tr style=\"text-align: right;\">\n",
              "      <th></th>\n",
              "      <th>Total</th>\n",
              "      <th>Percent</th>\n",
              "    </tr>\n",
              "  </thead>\n",
              "  <tbody>\n",
              "    <tr>\n",
              "      <th>hour</th>\n",
              "      <td>0</td>\n",
              "      <td>0.0</td>\n",
              "    </tr>\n",
              "    <tr>\n",
              "      <th>end_station_latitude</th>\n",
              "      <td>0</td>\n",
              "      <td>0.0</td>\n",
              "    </tr>\n",
              "    <tr>\n",
              "      <th>starttime</th>\n",
              "      <td>0</td>\n",
              "      <td>0.0</td>\n",
              "    </tr>\n",
              "    <tr>\n",
              "      <th>stoptime</th>\n",
              "      <td>0</td>\n",
              "      <td>0.0</td>\n",
              "    </tr>\n",
              "    <tr>\n",
              "      <th>start_station_id</th>\n",
              "      <td>0</td>\n",
              "      <td>0.0</td>\n",
              "    </tr>\n",
              "    <tr>\n",
              "      <th>start_station_name</th>\n",
              "      <td>0</td>\n",
              "      <td>0.0</td>\n",
              "    </tr>\n",
              "    <tr>\n",
              "      <th>start_station_latitude</th>\n",
              "      <td>0</td>\n",
              "      <td>0.0</td>\n",
              "    </tr>\n",
              "    <tr>\n",
              "      <th>start_station_longitude</th>\n",
              "      <td>0</td>\n",
              "      <td>0.0</td>\n",
              "    </tr>\n",
              "    <tr>\n",
              "      <th>end_station_id</th>\n",
              "      <td>0</td>\n",
              "      <td>0.0</td>\n",
              "    </tr>\n",
              "    <tr>\n",
              "      <th>end_station_name</th>\n",
              "      <td>0</td>\n",
              "      <td>0.0</td>\n",
              "    </tr>\n",
              "    <tr>\n",
              "      <th>end_station_longitude</th>\n",
              "      <td>0</td>\n",
              "      <td>0.0</td>\n",
              "    </tr>\n",
              "    <tr>\n",
              "      <th>dayofweek</th>\n",
              "      <td>0</td>\n",
              "      <td>0.0</td>\n",
              "    </tr>\n",
              "    <tr>\n",
              "      <th>bikeid</th>\n",
              "      <td>0</td>\n",
              "      <td>0.0</td>\n",
              "    </tr>\n",
              "    <tr>\n",
              "      <th>usertype</th>\n",
              "      <td>0</td>\n",
              "      <td>0.0</td>\n",
              "    </tr>\n",
              "    <tr>\n",
              "      <th>birth_year</th>\n",
              "      <td>0</td>\n",
              "      <td>0.0</td>\n",
              "    </tr>\n",
              "    <tr>\n",
              "      <th>gender</th>\n",
              "      <td>0</td>\n",
              "      <td>0.0</td>\n",
              "    </tr>\n",
              "    <tr>\n",
              "      <th>distance</th>\n",
              "      <td>0</td>\n",
              "      <td>0.0</td>\n",
              "    </tr>\n",
              "    <tr>\n",
              "      <th>minutes</th>\n",
              "      <td>0</td>\n",
              "      <td>0.0</td>\n",
              "    </tr>\n",
              "    <tr>\n",
              "      <th>age</th>\n",
              "      <td>0</td>\n",
              "      <td>0.0</td>\n",
              "    </tr>\n",
              "    <tr>\n",
              "      <th>season</th>\n",
              "      <td>0</td>\n",
              "      <td>0.0</td>\n",
              "    </tr>\n",
              "    <tr>\n",
              "      <th>tripduration</th>\n",
              "      <td>0</td>\n",
              "      <td>0.0</td>\n",
              "    </tr>\n",
              "  </tbody>\n",
              "</table>\n",
              "</div>"
            ],
            "text/plain": [
              "                         Total  Percent\n",
              "hour                         0      0.0\n",
              "end_station_latitude         0      0.0\n",
              "starttime                    0      0.0\n",
              "stoptime                     0      0.0\n",
              "start_station_id             0      0.0\n",
              "start_station_name           0      0.0\n",
              "start_station_latitude       0      0.0\n",
              "start_station_longitude      0      0.0\n",
              "end_station_id               0      0.0\n",
              "end_station_name             0      0.0\n",
              "end_station_longitude        0      0.0\n",
              "dayofweek                    0      0.0\n",
              "bikeid                       0      0.0\n",
              "usertype                     0      0.0\n",
              "birth_year                   0      0.0\n",
              "gender                       0      0.0\n",
              "distance                     0      0.0\n",
              "minutes                      0      0.0\n",
              "age                          0      0.0\n",
              "season                       0      0.0\n",
              "tripduration                 0      0.0"
            ]
          },
          "metadata": {
            "tags": []
          },
          "execution_count": 14
        }
      ]
    },
    {
      "cell_type": "markdown",
      "metadata": {
        "id": "TEgwHqdQyaBT",
        "colab_type": "text"
      },
      "source": [
        "**Data Formatting:** In continuing to prep our Citi Bike data, establish formats will especially help will visualizaton needs. "
      ]
    },
    {
      "cell_type": "code",
      "metadata": {
        "id": "SlIZCWN-xoyL",
        "colab_type": "code",
        "outputId": "bdb26654-ec64-49f4-dcba-c13eeb744408",
        "colab": {
          "base_uri": "https://localhost:8080/",
          "height": 317
        }
      },
      "source": [
        "#Ensure data is formatted correctly to avoid errors in the visuals\n",
        "sample_df['starttime'] = to_datetime(sample_df['starttime'])\n",
        "sample_df['stoptime'] = to_datetime(sample_df['stoptime'])\n",
        "sample_df['start_station_name'] = sample_df['start_station_name'].astype('category')\n",
        "sample_df['end_station_name'] = sample_df['end_station_name'].astype('category')\n",
        "sample_df['usertype'] = sample_df['usertype'].astype('category')\n",
        "sample_df['gender'] = sample_df['gender'].astype('category')\n",
        "round(sample_df.describe(),2)"
      ],
      "execution_count": 15,
      "outputs": [
        {
          "output_type": "execute_result",
          "data": {
            "text/html": [
              "<div>\n",
              "<style scoped>\n",
              "    .dataframe tbody tr th:only-of-type {\n",
              "        vertical-align: middle;\n",
              "    }\n",
              "\n",
              "    .dataframe tbody tr th {\n",
              "        vertical-align: top;\n",
              "    }\n",
              "\n",
              "    .dataframe thead th {\n",
              "        text-align: right;\n",
              "    }\n",
              "</style>\n",
              "<table border=\"1\" class=\"dataframe\">\n",
              "  <thead>\n",
              "    <tr style=\"text-align: right;\">\n",
              "      <th></th>\n",
              "      <th>tripduration</th>\n",
              "      <th>start_station_id</th>\n",
              "      <th>start_station_latitude</th>\n",
              "      <th>start_station_longitude</th>\n",
              "      <th>end_station_id</th>\n",
              "      <th>end_station_latitude</th>\n",
              "      <th>end_station_longitude</th>\n",
              "      <th>bikeid</th>\n",
              "      <th>birth_year</th>\n",
              "      <th>distance</th>\n",
              "      <th>minutes</th>\n",
              "      <th>age</th>\n",
              "      <th>season</th>\n",
              "      <th>dayofweek</th>\n",
              "      <th>hour</th>\n",
              "    </tr>\n",
              "  </thead>\n",
              "  <tbody>\n",
              "    <tr>\n",
              "      <th>count</th>\n",
              "      <td>32800.00</td>\n",
              "      <td>32800.00</td>\n",
              "      <td>32800.00</td>\n",
              "      <td>32800.00</td>\n",
              "      <td>32800.00</td>\n",
              "      <td>32800.00</td>\n",
              "      <td>32800.00</td>\n",
              "      <td>32800.00</td>\n",
              "      <td>32800.00</td>\n",
              "      <td>32800.00</td>\n",
              "      <td>32800.00</td>\n",
              "      <td>32800.00</td>\n",
              "      <td>32800.00</td>\n",
              "      <td>32800.00</td>\n",
              "      <td>32800.00</td>\n",
              "    </tr>\n",
              "    <tr>\n",
              "      <th>mean</th>\n",
              "      <td>1378.39</td>\n",
              "      <td>1341.49</td>\n",
              "      <td>40.74</td>\n",
              "      <td>-73.99</td>\n",
              "      <td>1350.19</td>\n",
              "      <td>40.74</td>\n",
              "      <td>-73.99</td>\n",
              "      <td>21067.37</td>\n",
              "      <td>1981.66</td>\n",
              "      <td>2054.35</td>\n",
              "      <td>22.97</td>\n",
              "      <td>38.34</td>\n",
              "      <td>3.00</td>\n",
              "      <td>4.05</td>\n",
              "      <td>14.31</td>\n",
              "    </tr>\n",
              "    <tr>\n",
              "      <th>std</th>\n",
              "      <td>991.51</td>\n",
              "      <td>1314.28</td>\n",
              "      <td>0.03</td>\n",
              "      <td>0.02</td>\n",
              "      <td>1319.82</td>\n",
              "      <td>0.03</td>\n",
              "      <td>0.02</td>\n",
              "      <td>3745.84</td>\n",
              "      <td>10.61</td>\n",
              "      <td>1422.99</td>\n",
              "      <td>16.53</td>\n",
              "      <td>10.61</td>\n",
              "      <td>0.02</td>\n",
              "      <td>2.32</td>\n",
              "      <td>4.04</td>\n",
              "    </tr>\n",
              "    <tr>\n",
              "      <th>min</th>\n",
              "      <td>91.00</td>\n",
              "      <td>72.00</td>\n",
              "      <td>40.65</td>\n",
              "      <td>-74.02</td>\n",
              "      <td>72.00</td>\n",
              "      <td>40.65</td>\n",
              "      <td>-74.02</td>\n",
              "      <td>14529.00</td>\n",
              "      <td>1941.00</td>\n",
              "      <td>0.00</td>\n",
              "      <td>1.52</td>\n",
              "      <td>22.00</td>\n",
              "      <td>2.00</td>\n",
              "      <td>1.00</td>\n",
              "      <td>0.00</td>\n",
              "    </tr>\n",
              "    <tr>\n",
              "      <th>25%</th>\n",
              "      <td>813.00</td>\n",
              "      <td>347.00</td>\n",
              "      <td>40.72</td>\n",
              "      <td>-74.00</td>\n",
              "      <td>347.00</td>\n",
              "      <td>40.71</td>\n",
              "      <td>-74.00</td>\n",
              "      <td>17801.00</td>\n",
              "      <td>1975.00</td>\n",
              "      <td>1043.59</td>\n",
              "      <td>13.55</td>\n",
              "      <td>30.00</td>\n",
              "      <td>3.00</td>\n",
              "      <td>2.00</td>\n",
              "      <td>12.00</td>\n",
              "    </tr>\n",
              "    <tr>\n",
              "      <th>50%</th>\n",
              "      <td>1252.00</td>\n",
              "      <td>486.00</td>\n",
              "      <td>40.74</td>\n",
              "      <td>-73.99</td>\n",
              "      <td>485.00</td>\n",
              "      <td>40.74</td>\n",
              "      <td>-73.99</td>\n",
              "      <td>21047.00</td>\n",
              "      <td>1984.00</td>\n",
              "      <td>1773.07</td>\n",
              "      <td>20.87</td>\n",
              "      <td>36.00</td>\n",
              "      <td>3.00</td>\n",
              "      <td>4.00</td>\n",
              "      <td>14.00</td>\n",
              "    </tr>\n",
              "    <tr>\n",
              "      <th>75%</th>\n",
              "      <td>1649.00</td>\n",
              "      <td>3137.00</td>\n",
              "      <td>40.76</td>\n",
              "      <td>-73.97</td>\n",
              "      <td>3137.00</td>\n",
              "      <td>40.76</td>\n",
              "      <td>-73.97</td>\n",
              "      <td>24728.00</td>\n",
              "      <td>1990.00</td>\n",
              "      <td>2768.64</td>\n",
              "      <td>27.48</td>\n",
              "      <td>45.00</td>\n",
              "      <td>3.00</td>\n",
              "      <td>6.00</td>\n",
              "      <td>17.00</td>\n",
              "    </tr>\n",
              "    <tr>\n",
              "      <th>max</th>\n",
              "      <td>10770.00</td>\n",
              "      <td>3431.00</td>\n",
              "      <td>40.80</td>\n",
              "      <td>-73.93</td>\n",
              "      <td>3431.00</td>\n",
              "      <td>40.80</td>\n",
              "      <td>-73.93</td>\n",
              "      <td>27316.00</td>\n",
              "      <td>1998.00</td>\n",
              "      <td>12244.66</td>\n",
              "      <td>179.50</td>\n",
              "      <td>79.00</td>\n",
              "      <td>4.00</td>\n",
              "      <td>7.00</td>\n",
              "      <td>23.00</td>\n",
              "    </tr>\n",
              "  </tbody>\n",
              "</table>\n",
              "</div>"
            ],
            "text/plain": [
              "       tripduration  start_station_id  ...  dayofweek      hour\n",
              "count      32800.00          32800.00  ...   32800.00  32800.00\n",
              "mean        1378.39           1341.49  ...       4.05     14.31\n",
              "std          991.51           1314.28  ...       2.32      4.04\n",
              "min           91.00             72.00  ...       1.00      0.00\n",
              "25%          813.00            347.00  ...       2.00     12.00\n",
              "50%         1252.00            486.00  ...       4.00     14.00\n",
              "75%         1649.00           3137.00  ...       6.00     17.00\n",
              "max        10770.00           3431.00  ...       7.00     23.00\n",
              "\n",
              "[8 rows x 15 columns]"
            ]
          },
          "metadata": {
            "tags": []
          },
          "execution_count": 15
        }
      ]
    },
    {
      "cell_type": "markdown",
      "metadata": {
        "id": "QRV00SCk6NBp",
        "colab_type": "text"
      },
      "source": [
        "###Explore Key Variables"
      ]
    },
    {
      "cell_type": "markdown",
      "metadata": {
        "id": "r7v_0HJk3XwR",
        "colab_type": "text"
      },
      "source": [
        "####Top 5 Citi Bike Stations\n",
        "\n",
        "Let's review the top 5 stations for our Customer user types. "
      ]
    },
    {
      "cell_type": "code",
      "metadata": {
        "id": "hPBN_hMr2BtT",
        "colab_type": "code",
        "colab": {}
      },
      "source": [
        "#Data for Top 5 Stations visual\n",
        "top5 = pd.DataFrame() \n",
        "top5['station']=sample_df['start_station_name'].value_counts().head().index\n",
        "top5['number_of_starts']=sample_df['start_station_name'].value_counts().head().values\n",
        "top5['station'] = top5['station'].cat.remove_unused_categories()\n",
        "top5['station'] = top5['station'].astype('object')\n",
        "#top5.sort_values(by = 'number_of_starts', ascending = False)"
      ],
      "execution_count": 0,
      "outputs": []
    },
    {
      "cell_type": "code",
      "metadata": {
        "id": "Aub8IyEK3B9i",
        "colab_type": "code",
        "outputId": "7d8950d0-97d4-4888-c185-eaa0627b8df3",
        "colab": {
          "base_uri": "https://localhost:8080/",
          "height": 1000
        }
      },
      "source": [
        "#Plot for Part 1: Top 5 Stations\n",
        "ax = sns.barplot('station', 'number_of_starts', data = top5, palette=\"GnBu_d\")\n",
        "ax.set_title('Top 5 Citi Bike Stations for Customers', fontsize = 12)\n",
        "rcParams['figure.figsize'] = 12,7\n",
        "ax.set_xticklabels(ax.get_xticklabels(),rotation=40, ha = 'right')\n",
        "for index, row in top5.iterrows():\n",
        "    ax.text(index,row['number_of_starts']-4000,row['number_of_starts'], \n",
        "            color='white', ha=\"center\", fontsize = 10)\n",
        "plt.show()"
      ],
      "execution_count": 18,
      "outputs": [
        {
          "output_type": "display_data",
          "data": {
            "image/png": "[encoded data removed]",
            "text/plain": [
              "<Figure size 864x504 with 1 Axes>"
            ]
          },
          "metadata": {
            "tags": []
          }
        }
      ]
    },
    {
      "cell_type": "markdown",
      "metadata": {
        "id": "T4DwmyPl3pMX",
        "colab_type": "text"
      },
      "source": [
        "###Trip Duration by User Type\n",
        "\n",
        "Other information that could be important for our prediction model will be the how each user type interacts with Citi bike."
      ]
    },
    {
      "cell_type": "code",
      "metadata": {
        "id": "rOx0OmYt4Qi0",
        "colab_type": "code",
        "colab": {}
      },
      "source": [
        "#Calculate trip duration\n",
        "TD_user = pd.DataFrame()\n",
        "TD_user['averagminutes'] = round(sample_df.groupby('usertype')['minutes'].mean(),2)\n",
        "TD_user = TD_user.reset_index()\n",
        "TD_user['usertype'] = TD_user['usertype'].astype('object')"
      ],
      "execution_count": 0,
      "outputs": []
    },
    {
      "cell_type": "code",
      "metadata": {
        "id": "6pYsg3FV4pvf",
        "colab_type": "code",
        "outputId": "6682a0fd-ab1a-42e0-8bca-82ea236511fb",
        "colab": {
          "base_uri": "https://localhost:8080/",
          "height": 1000
        }
      },
      "source": [
        "#Average trip Duration per User Type\n",
        "ax2 = sns.barplot('usertype', 'averagminutes', data = TD_user,palette=\"GnBu_d\")\n",
        "ax2.set_title('Average Trip Duration for Customers')\n",
        "#rcParams['figure.figsize'] = 12,7\n",
        "ax2.set_xticklabels(ax2.get_xticklabels(),rotation=40, ha = 'right')\n",
        "ax2.set_ylabel('averagminutes (Minutes)')\n",
        "for index, row in TD_user.iterrows():\n",
        "    ax2.text(index,row['averagminutes']-70,(str(row['averagminutes'])), \n",
        "             color='white', ha=\"center\", fontsize = 10)\n",
        "plt.show()"
      ],
      "execution_count": 24,
      "outputs": [
        {
          "output_type": "display_data",
          "data": {
            "image/png": "[encoded data removed]",
            "text/plain": [
              "<Figure size 864x504 with 1 Axes>"
            ]
          },
          "metadata": {
            "tags": []
          }
        }
      ]
    },
    {
      "cell_type": "code",
      "metadata": {
        "id": "rmbapbtR5wzc",
        "colab_type": "code",
        "outputId": "8d39f5ae-7e95-4d9a-e3b5-9767616033f5",
        "colab": {
          "base_uri": "https://localhost:8080/",
          "height": 480
        }
      },
      "source": [
        "#Boxplots are more informative to visualize breakdown of data\n",
        "df.boxplot('minutes', by = 'usertype')\n",
        "plt.show()"
      ],
      "execution_count": 29,
      "outputs": [
        {
          "output_type": "display_data",
          "data": {
            "image/png": "[encoded data removed]",
            "text/plain": [
              "<Figure size 864x504 with 1 Axes>"
            ]
          },
          "metadata": {
            "tags": []
          }
        }
      ]
    },
    {
      "cell_type": "markdown",
      "metadata": {
        "id": "SYaBePiK0HIR",
        "colab_type": "text"
      },
      "source": [
        "Research suggest that our customers average at the 30 minute mark. This is important to note given that 30 minutes is the when different pricing models take affect. "
      ]
    },
    {
      "cell_type": "markdown",
      "metadata": {
        "id": "jnFAmZ3K4otO",
        "colab_type": "text"
      },
      "source": [
        "####Most Popular Trips\n",
        "\n",
        "Research also indicates that it could be wise to assess the most poopular trips for our dataset, so we can assess which start and end location might require a 3-day pass to avoid charges over 30-minutes. "
      ]
    },
    {
      "cell_type": "code",
      "metadata": {
        "id": "INDtomGF62uZ",
        "colab_type": "code",
        "colab": {}
      },
      "source": [
        "#Identify the 10 most popular trips\n",
        "trips_df = pd.DataFrame()\n",
        "trips_df = sample_df.groupby(['start_station_name','end_station_name']).size().reset_index(name = 'numberoftrips')\n",
        "trips_df = trips_df.sort_values('numberoftrips', ascending = False)\n",
        "trips_df[\"start_station_name\"] = trips_df[\"start_station_name\"].astype(str)\n",
        "trips_df[\"end_station_name\"] = trips_df[\"end_station_name\"].astype(str)\n",
        "trips_df[\"trip\"] = trips_df[\"start_station_name\"] + \" to \" + trips_df[\"end_station_name\"]\n",
        "trips_df = trips_df[:10]\n",
        "trips_df = trips_df.drop(['start_station_name', \"end_station_name\"], axis = 1)\n",
        "trips_df = trips_df.reset_index()\n",
        "#trips_df.head()"
      ],
      "execution_count": 0,
      "outputs": []
    },
    {
      "cell_type": "code",
      "metadata": {
        "id": "1rdudjRz7rAe",
        "colab_type": "code",
        "outputId": "02387d5c-d65a-41a7-857b-fe0e01194eff",
        "colab": {
          "base_uri": "https://localhost:8080/",
          "height": 488
        }
      },
      "source": [
        "ax3 = sns.barplot('numberoftrips','trip', data = trips_df,palette=\"GnBu_d\")\n",
        "ax3.set_title('Most Popular Trips', fontsize = 20)\n",
        "ax3.set_ylabel(\"trip\",fontsize=16)\n",
        "ax3.set_xlabel(\"numberoftrips\",fontsize=16)\n",
        "for index, row in trips_df.iterrows():\n",
        "    ax3.text(row['numberoftrips']-220,index,row['numberoftrips'], \n",
        "             color='white', ha=\"center\",fontsize = 10)\n",
        "plt.show()"
      ],
      "execution_count": 31,
      "outputs": [
        {
          "output_type": "display_data",
          "data": {
            "image/png": "[encoded data removed]",
            "text/plain": [
              "<Figure size 864x504 with 1 Axes>"
            ]
          },
          "metadata": {
            "tags": []
          }
        }
      ]
    },
    {
      "cell_type": "markdown",
      "metadata": {
        "id": "5Xq7dK0F8Lr3",
        "colab_type": "text"
      },
      "source": [
        "####Rider Performance by Age and Gender\n",
        "\n",
        "Knowing how age and gender coorelates to performance will also be helpful for future modeling efforts"
      ]
    },
    {
      "cell_type": "code",
      "metadata": {
        "id": "CBmAi0fV9CXc",
        "colab_type": "code",
        "colab": {}
      },
      "source": [
        "#Combine coordinates to calculate distance \n",
        "sample_df['start_coordinates'] = list(zip(sample_df['start_station_latitude'], sample_df['start_station_longitude']))\n",
        "sample_df['end_coordinates'] = list(zip(sample_df['end_station_latitude'], sample_df['end_station_longitude']))"
      ],
      "execution_count": 0,
      "outputs": []
    },
    {
      "cell_type": "code",
      "metadata": {
        "id": "7dLq_SbV9qfL",
        "colab_type": "code",
        "colab": {}
      },
      "source": [
        "#Replace missing birth year by median based on speed and gender\n",
        "sample_df['birth_year'] = sample_df.groupby(['gender','start_station_id'])['birth_year'].transform(lambda x: x.fillna(x.median()))"
      ],
      "execution_count": 0,
      "outputs": []
    },
    {
      "cell_type": "code",
      "metadata": {
        "id": "7HmybrXA92eQ",
        "colab_type": "code",
        "colab": {}
      },
      "source": [
        "#if there are still a few nulls, drop these\n",
        "sample_df = sample_df.dropna(subset=['birth_year'])"
      ],
      "execution_count": 0,
      "outputs": []
    },
    {
      "cell_type": "code",
      "metadata": {
        "id": "PoBOGEgI-Jji",
        "colab_type": "code",
        "colab": {}
      },
      "source": [
        "#Calculate age and drop circular/roundtrips\n",
        "sample_df['age'] = 2020 - sample_df['birth_year']\n",
        "sample_df['age'] = sample_df['age'].astype(int)"
      ],
      "execution_count": 0,
      "outputs": []
    },
    {
      "cell_type": "code",
      "metadata": {
        "id": "XlXNYQlJ_xqk",
        "colab_type": "code",
        "colab": {}
      },
      "source": [
        " dist = [] \n",
        " for i in range(len(sample_df)): \n",
        "   dist.append(geopy.distance.vincenty(sample_df.iloc[i]['start_coordinates'],sample_df.iloc[i]['end_coordinates']).miles)\n",
        "if (i%1000000==0): \n",
        "  print(i)"
      ],
      "execution_count": 0,
      "outputs": []
    },
    {
      "cell_type": "code",
      "metadata": {
        "id": "18ka0s4UP-tk",
        "colab_type": "code",
        "colab": {}
      },
      "source": [
        "sample_df['distance'] = dist"
      ],
      "execution_count": 0,
      "outputs": []
    },
    {
      "cell_type": "code",
      "metadata": {
        "id": "dwRjqMVNUnUE",
        "colab_type": "code",
        "colab": {}
      },
      "source": [
        "sample_df = sample_df.drop(sample_df.index[(sample_df['distance'] == 0)])"
      ],
      "execution_count": 0,
      "outputs": []
    },
    {
      "cell_type": "code",
      "metadata": {
        "id": "BYIzsDU8-SWM",
        "colab_type": "code",
        "colab": {}
      },
      "source": [
        "#df[df['Trip Duration']<90]\n",
        "#2. Followed the same reasoning as behind Birth Year. People in similar locations tend to also work in a similar industry or location\n",
        "sample_df['distance'] = sample_df.groupby(['gender','start_station_id'])['distance'].transform(lambda x: x.fillna(x.median()))"
      ],
      "execution_count": 0,
      "outputs": []
    },
    {
      "cell_type": "code",
      "metadata": {
        "id": "sXud5NMDVGdz",
        "colab_type": "code",
        "colab": {}
      },
      "source": [
        "sample_df['min_mile'] = round(sample_df['minutes']/sample_df['distance'], 2)\n",
        "sample_df['mile_hour'] = round(sample_df['distance']/(sample_df['minutes']/60),2)"
      ],
      "execution_count": 0,
      "outputs": []
    },
    {
      "cell_type": "code",
      "metadata": {
        "id": "HXcd4MEEWNzW",
        "colab_type": "code",
        "outputId": "e8179187-0741-4d63-803b-17d9433717bf",
        "colab": {
          "base_uri": "https://localhost:8080/",
          "height": 317
        }
      },
      "source": [
        "#Check for Data Integrity\n",
        "round(sample_df.describe(),2)"
      ],
      "execution_count": 41,
      "outputs": [
        {
          "output_type": "execute_result",
          "data": {
            "text/html": [
              "<div>\n",
              "<style scoped>\n",
              "    .dataframe tbody tr th:only-of-type {\n",
              "        vertical-align: middle;\n",
              "    }\n",
              "\n",
              "    .dataframe tbody tr th {\n",
              "        vertical-align: top;\n",
              "    }\n",
              "\n",
              "    .dataframe thead th {\n",
              "        text-align: right;\n",
              "    }\n",
              "</style>\n",
              "<table border=\"1\" class=\"dataframe\">\n",
              "  <thead>\n",
              "    <tr style=\"text-align: right;\">\n",
              "      <th></th>\n",
              "      <th>tripduration</th>\n",
              "      <th>start_station_id</th>\n",
              "      <th>start_station_latitude</th>\n",
              "      <th>start_station_longitude</th>\n",
              "      <th>end_station_id</th>\n",
              "      <th>end_station_latitude</th>\n",
              "      <th>end_station_longitude</th>\n",
              "      <th>bikeid</th>\n",
              "      <th>birth_year</th>\n",
              "      <th>distance</th>\n",
              "      <th>minutes</th>\n",
              "      <th>age</th>\n",
              "      <th>season</th>\n",
              "      <th>dayofweek</th>\n",
              "      <th>hour</th>\n",
              "      <th>min_mile</th>\n",
              "      <th>mile_hour</th>\n",
              "    </tr>\n",
              "  </thead>\n",
              "  <tbody>\n",
              "    <tr>\n",
              "      <th>count</th>\n",
              "      <td>31471.00</td>\n",
              "      <td>31471.00</td>\n",
              "      <td>31471.00</td>\n",
              "      <td>31471.00</td>\n",
              "      <td>31471.0</td>\n",
              "      <td>31471.00</td>\n",
              "      <td>31471.00</td>\n",
              "      <td>31471.00</td>\n",
              "      <td>31471.00</td>\n",
              "      <td>31471.00</td>\n",
              "      <td>31471.00</td>\n",
              "      <td>31471.00</td>\n",
              "      <td>31471.00</td>\n",
              "      <td>31471.00</td>\n",
              "      <td>31471.00</td>\n",
              "      <td>31471.00</td>\n",
              "      <td>31471.00</td>\n",
              "    </tr>\n",
              "    <tr>\n",
              "      <th>mean</th>\n",
              "      <td>1374.09</td>\n",
              "      <td>1328.93</td>\n",
              "      <td>40.74</td>\n",
              "      <td>-73.99</td>\n",
              "      <td>1338.0</td>\n",
              "      <td>40.74</td>\n",
              "      <td>-73.99</td>\n",
              "      <td>21083.09</td>\n",
              "      <td>1981.65</td>\n",
              "      <td>1.33</td>\n",
              "      <td>22.90</td>\n",
              "      <td>38.35</td>\n",
              "      <td>3.00</td>\n",
              "      <td>4.05</td>\n",
              "      <td>14.32</td>\n",
              "      <td>23.72</td>\n",
              "      <td>3.86</td>\n",
              "    </tr>\n",
              "    <tr>\n",
              "      <th>std</th>\n",
              "      <td>950.95</td>\n",
              "      <td>1311.44</td>\n",
              "      <td>0.03</td>\n",
              "      <td>0.02</td>\n",
              "      <td>1317.3</td>\n",
              "      <td>0.03</td>\n",
              "      <td>0.02</td>\n",
              "      <td>3746.73</td>\n",
              "      <td>10.57</td>\n",
              "      <td>0.86</td>\n",
              "      <td>15.85</td>\n",
              "      <td>10.57</td>\n",
              "      <td>0.02</td>\n",
              "      <td>2.31</td>\n",
              "      <td>4.03</td>\n",
              "      <td>48.45</td>\n",
              "      <td>1.79</td>\n",
              "    </tr>\n",
              "    <tr>\n",
              "      <th>min</th>\n",
              "      <td>93.00</td>\n",
              "      <td>72.00</td>\n",
              "      <td>40.65</td>\n",
              "      <td>-74.02</td>\n",
              "      <td>72.0</td>\n",
              "      <td>40.65</td>\n",
              "      <td>-74.02</td>\n",
              "      <td>14529.00</td>\n",
              "      <td>1941.00</td>\n",
              "      <td>0.02</td>\n",
              "      <td>1.55</td>\n",
              "      <td>22.00</td>\n",
              "      <td>2.00</td>\n",
              "      <td>1.00</td>\n",
              "      <td>0.00</td>\n",
              "      <td>4.67</td>\n",
              "      <td>0.02</td>\n",
              "    </tr>\n",
              "    <tr>\n",
              "      <th>25%</th>\n",
              "      <td>829.00</td>\n",
              "      <td>345.00</td>\n",
              "      <td>40.72</td>\n",
              "      <td>-74.00</td>\n",
              "      <td>346.0</td>\n",
              "      <td>40.72</td>\n",
              "      <td>-74.00</td>\n",
              "      <td>17812.00</td>\n",
              "      <td>1975.00</td>\n",
              "      <td>0.69</td>\n",
              "      <td>13.82</td>\n",
              "      <td>30.00</td>\n",
              "      <td>3.00</td>\n",
              "      <td>2.00</td>\n",
              "      <td>12.00</td>\n",
              "      <td>12.07</td>\n",
              "      <td>2.60</td>\n",
              "    </tr>\n",
              "    <tr>\n",
              "      <th>50%</th>\n",
              "      <td>1256.00</td>\n",
              "      <td>484.00</td>\n",
              "      <td>40.74</td>\n",
              "      <td>-73.99</td>\n",
              "      <td>483.0</td>\n",
              "      <td>40.74</td>\n",
              "      <td>-73.99</td>\n",
              "      <td>21071.00</td>\n",
              "      <td>1984.00</td>\n",
              "      <td>1.15</td>\n",
              "      <td>20.93</td>\n",
              "      <td>36.00</td>\n",
              "      <td>3.00</td>\n",
              "      <td>4.00</td>\n",
              "      <td>14.00</td>\n",
              "      <td>15.99</td>\n",
              "      <td>3.75</td>\n",
              "    </tr>\n",
              "    <tr>\n",
              "      <th>75%</th>\n",
              "      <td>1645.00</td>\n",
              "      <td>3132.00</td>\n",
              "      <td>40.76</td>\n",
              "      <td>-73.97</td>\n",
              "      <td>3137.0</td>\n",
              "      <td>40.76</td>\n",
              "      <td>-73.97</td>\n",
              "      <td>24772.00</td>\n",
              "      <td>1990.00</td>\n",
              "      <td>1.75</td>\n",
              "      <td>27.42</td>\n",
              "      <td>45.00</td>\n",
              "      <td>3.00</td>\n",
              "      <td>6.00</td>\n",
              "      <td>17.00</td>\n",
              "      <td>23.10</td>\n",
              "      <td>4.97</td>\n",
              "    </tr>\n",
              "    <tr>\n",
              "      <th>max</th>\n",
              "      <td>10769.00</td>\n",
              "      <td>3431.00</td>\n",
              "      <td>40.80</td>\n",
              "      <td>-73.93</td>\n",
              "      <td>3431.0</td>\n",
              "      <td>40.80</td>\n",
              "      <td>-73.93</td>\n",
              "      <td>27316.00</td>\n",
              "      <td>1998.00</td>\n",
              "      <td>7.60</td>\n",
              "      <td>179.48</td>\n",
              "      <td>79.00</td>\n",
              "      <td>4.00</td>\n",
              "      <td>7.00</td>\n",
              "      <td>23.00</td>\n",
              "      <td>3025.84</td>\n",
              "      <td>12.84</td>\n",
              "    </tr>\n",
              "  </tbody>\n",
              "</table>\n",
              "</div>"
            ],
            "text/plain": [
              "       tripduration  start_station_id  ...  min_mile  mile_hour\n",
              "count      31471.00          31471.00  ...  31471.00   31471.00\n",
              "mean        1374.09           1328.93  ...     23.72       3.86\n",
              "std          950.95           1311.44  ...     48.45       1.79\n",
              "min           93.00             72.00  ...      4.67       0.02\n",
              "25%          829.00            345.00  ...     12.07       2.60\n",
              "50%         1256.00            484.00  ...     15.99       3.75\n",
              "75%         1645.00           3132.00  ...     23.10       4.97\n",
              "max        10769.00           3431.00  ...   3025.84      12.84\n",
              "\n",
              "[8 rows x 17 columns]"
            ]
          },
          "metadata": {
            "tags": []
          },
          "execution_count": 41
        }
      ]
    },
    {
      "cell_type": "code",
      "metadata": {
        "id": "uG32n1MsYB1w",
        "colab_type": "code",
        "outputId": "0e40ac78-7b78-46e0-9f7a-21a1b0469b1b",
        "colab": {
          "base_uri": "https://localhost:8080/",
          "height": 350
        }
      },
      "source": [
        "#Rider performance by age and Gender in Min/Mile \n",
        "fig, ax4 = plt.subplots(figsize=(11,5))\n",
        "sample_df.groupby(['age','gender']).median()['min_mile'].unstack().plot(ax=ax4, color =\"bg\")\n",
        "ax4.legend(['Female','Male'])\n",
        "plt.ylabel('Median Speed (min/mile)')\n",
        "plt.title('Rider Performance Based on Gender and Age (Median Speed in min/mile)')\n",
        "plt.show()"
      ],
      "execution_count": 43,
      "outputs": [
        {
          "output_type": "display_data",
          "data": {
            "image/png": "[encoded data removed]",
            "text/plain": [
              "<Figure size 792x360 with 1 Axes>"
            ]
          },
          "metadata": {
            "tags": []
          }
        }
      ]
    },
    {
      "cell_type": "markdown",
      "metadata": {
        "id": "mIre9MgQbqJW",
        "colab_type": "text"
      },
      "source": [
        "##Predictive Modeling\n",
        "\n",
        "Now that the data is cleaned an dunderstood, we can begin to build a model that predicts how long a trip will take given a starting point and destination."
      ]
    },
    {
      "cell_type": "code",
      "metadata": {
        "id": "TfjDX0WOcgbR",
        "colab_type": "code",
        "colab": {}
      },
      "source": [
        "model_1_df = sample_df"
      ],
      "execution_count": 0,
      "outputs": []
    },
    {
      "cell_type": "code",
      "metadata": {
        "id": "yOUwykDfdqIS",
        "colab_type": "code",
        "colab": {}
      },
      "source": [
        "#create a random sample \n",
        "model_1_df = model_df.sample(frac = 0.1, random_state = 0)"
      ],
      "execution_count": 0,
      "outputs": []
    },
    {
      "cell_type": "code",
      "metadata": {
        "id": "1jbEHFdMeX7H",
        "colab_type": "code",
        "outputId": "257ac0ca-1ee1-44f2-fe0e-ee2103dbc5d6",
        "colab": {
          "base_uri": "https://localhost:8080/",
          "height": 136
        }
      },
      "source": [
        "model_1_df.columns.values"
      ],
      "execution_count": 95,
      "outputs": [
        {
          "output_type": "execute_result",
          "data": {
            "text/plain": [
              "array(['tripduration', 'starttime', 'stoptime', 'start_station_id',\n",
              "       'start_station_name', 'start_station_latitude',\n",
              "       'start_station_longitude', 'end_station_id', 'end_station_name',\n",
              "       'end_station_latitude', 'end_station_longitude', 'bikeid',\n",
              "       'usertype', 'birth_year', 'gender', 'distance', 'minutes', 'age',\n",
              "       'season', 'dayofweek', 'hour', 'start_coordinates',\n",
              "       'end_coordinates', 'min_mile', 'mile_hour'], dtype=object)"
            ]
          },
          "metadata": {
            "tags": []
          },
          "execution_count": 95
        }
      ]
    },
    {
      "cell_type": "code",
      "metadata": {
        "id": "A2iFxGg1dzqD",
        "colab_type": "code",
        "colab": {}
      },
      "source": [
        "def drop_data(model_1_df):\n",
        "    model_1_df = model_1_df.drop(['tripduration','stoptime','start_station_id','start_station_latitude','start_station_longitude',\n",
        "                  'start_coordinates','end_station_id', 'end_station_latitude', 'end_station_longitude', \n",
        "                  'end_coordinates','bikeid', 'start_station_name','birth_year','end_station_name','min_mile',\n",
        "                  'mile_hour','season', 'dayofweek', 'age', 'hour'], axis = 1)\n",
        "    return model_1_df\n",
        "\n",
        "df_basemodel = drop_data(model_1_df)"
      ],
      "execution_count": 0,
      "outputs": []
    },
    {
      "cell_type": "code",
      "metadata": {
        "id": "tFn56ZZPAlRH",
        "colab_type": "code",
        "colab": {}
      },
      "source": [
        "df_basemodel = df_basemodel.drop('starttime', axis =1)"
      ],
      "execution_count": 0,
      "outputs": []
    },
    {
      "cell_type": "code",
      "metadata": {
        "id": "ojy0hz_rfieH",
        "colab_type": "code",
        "colab": {}
      },
      "source": [
        "#Dummify categorical data and avoid dummy variable trap\n",
        "df_basemodel = pd.get_dummies(df_basemodel, drop_first = True)"
      ],
      "execution_count": 0,
      "outputs": []
    },
    {
      "cell_type": "code",
      "metadata": {
        "id": "DOJXcULtfmkP",
        "colab_type": "code",
        "outputId": "89fec1ee-7fcf-41ad-c0af-5632fed6edc5",
        "colab": {
          "base_uri": "https://localhost:8080/",
          "height": 85
        }
      },
      "source": [
        "#review correlation\n",
        "df_basemodel.corr().loc[:,'minutes']"
      ],
      "execution_count": 99,
      "outputs": [
        {
          "output_type": "execute_result",
          "data": {
            "text/plain": [
              "distance       0.365025\n",
              "minutes        1.000000\n",
              "gender_male   -0.054919\n",
              "Name: minutes, dtype: float64"
            ]
          },
          "metadata": {
            "tags": []
          },
          "execution_count": 99
        }
      ]
    },
    {
      "cell_type": "code",
      "metadata": {
        "id": "EjwuGQ8Rfmhs",
        "colab_type": "code",
        "colab": {}
      },
      "source": [
        "#Train Test Split\n",
        "#Predictor variable\n",
        "X = df_basemodel.iloc[:,1:]\n",
        "#Target variable\n",
        "y = df_basemodel.iloc[:,0]\n",
        "\n",
        "X_train, X_test, y_train, y_test = train_test_split(X, y, test_size = 0.2, random_state = 0)"
      ],
      "execution_count": 0,
      "outputs": []
    },
    {
      "cell_type": "code",
      "metadata": {
        "id": "N8CfXyVigSzq",
        "colab_type": "code",
        "outputId": "7e0be109-9046-4be2-b3a0-768fe7f00fea",
        "colab": {
          "base_uri": "https://localhost:8080/",
          "height": 34
        }
      },
      "source": [
        "regressor = LinearRegression()\n",
        "regressor.fit(X_train, y_train)\n",
        "regressor.score(X_test,y_test)"
      ],
      "execution_count": 101,
      "outputs": [
        {
          "output_type": "execute_result",
          "data": {
            "text/plain": [
              "0.049422534470254464"
            ]
          },
          "metadata": {
            "tags": []
          },
          "execution_count": 101
        }
      ]
    },
    {
      "cell_type": "code",
      "metadata": {
        "id": "1b_-bG27gb3-",
        "colab_type": "code",
        "outputId": "9285a284-7496-4e04-e008-e32a8bb1534d",
        "colab": {
          "base_uri": "https://localhost:8080/",
          "height": 519
        }
      },
      "source": [
        "X_train = sm.add_constant(X_train)\n",
        "X_test = sm.add_constant(X_test)\n",
        "regressor_OLS = sm.OLS(y_train, X_train).fit()\n",
        "regressor_OLS.summary()"
      ],
      "execution_count": 102,
      "outputs": [
        {
          "output_type": "stream",
          "text": [
            "/usr/local/lib/python3.6/dist-packages/numpy/core/fromnumeric.py:2495: FutureWarning: Method .ptp is deprecated and will be removed in a future version. Use numpy.ptp instead.\n",
            "  return ptp(axis=axis, out=out, **kwargs)\n"
          ],
          "name": "stderr"
        },
        {
          "output_type": "execute_result",
          "data": {
            "text/html": [
              "<table class=\"simpletable\">\n",
              "<caption>OLS Regression Results</caption>\n",
              "<tr>\n",
              "  <th>Dep. Variable:</th>        <td>distance</td>     <th>  R-squared:         </th> <td>   0.152</td>\n",
              "</tr>\n",
              "<tr>\n",
              "  <th>Model:</th>                   <td>OLS</td>       <th>  Adj. R-squared:    </th> <td>   0.152</td>\n",
              "</tr>\n",
              "<tr>\n",
              "  <th>Method:</th>             <td>Least Squares</td>  <th>  F-statistic:       </th> <td>   226.0</td>\n",
              "</tr>\n",
              "<tr>\n",
              "  <th>Date:</th>             <td>Wed, 11 Mar 2020</td> <th>  Prob (F-statistic):</th> <td>5.69e-91</td>\n",
              "</tr>\n",
              "<tr>\n",
              "  <th>Time:</th>                 <td>00:35:16</td>     <th>  Log-Likelihood:    </th> <td> -2958.1</td>\n",
              "</tr>\n",
              "<tr>\n",
              "  <th>No. Observations:</th>      <td>  2517</td>      <th>  AIC:               </th> <td>   5922.</td>\n",
              "</tr>\n",
              "<tr>\n",
              "  <th>Df Residuals:</th>          <td>  2514</td>      <th>  BIC:               </th> <td>   5940.</td>\n",
              "</tr>\n",
              "<tr>\n",
              "  <th>Df Model:</th>              <td>     2</td>      <th>                     </th>     <td> </td>   \n",
              "</tr>\n",
              "<tr>\n",
              "  <th>Covariance Type:</th>      <td>nonrobust</td>    <th>                     </th>     <td> </td>   \n",
              "</tr>\n",
              "</table>\n",
              "<table class=\"simpletable\">\n",
              "<tr>\n",
              "       <td></td>          <th>coef</th>     <th>std err</th>      <th>t</th>      <th>P>|t|</th>  <th>[0.025</th>    <th>0.975]</th>  \n",
              "</tr>\n",
              "<tr>\n",
              "  <th>const</th>       <td>    0.8646</td> <td>    0.034</td> <td>   25.440</td> <td> 0.000</td> <td>    0.798</td> <td>    0.931</td>\n",
              "</tr>\n",
              "<tr>\n",
              "  <th>minutes</th>     <td>    0.0196</td> <td>    0.001</td> <td>   21.255</td> <td> 0.000</td> <td>    0.018</td> <td>    0.021</td>\n",
              "</tr>\n",
              "<tr>\n",
              "  <th>gender_male</th> <td>    0.0230</td> <td>    0.032</td> <td>    0.715</td> <td> 0.474</td> <td>   -0.040</td> <td>    0.086</td>\n",
              "</tr>\n",
              "</table>\n",
              "<table class=\"simpletable\">\n",
              "<tr>\n",
              "  <th>Omnibus:</th>       <td>360.670</td> <th>  Durbin-Watson:     </th> <td>   2.021</td> \n",
              "</tr>\n",
              "<tr>\n",
              "  <th>Prob(Omnibus):</th> <td> 0.000</td>  <th>  Jarque-Bera (JB):  </th> <td>1085.999</td> \n",
              "</tr>\n",
              "<tr>\n",
              "  <th>Skew:</th>          <td> 0.741</td>  <th>  Prob(JB):          </th> <td>1.51e-236</td>\n",
              "</tr>\n",
              "<tr>\n",
              "  <th>Kurtosis:</th>      <td> 5.857</td>  <th>  Cond. No.          </th> <td>    78.3</td> \n",
              "</tr>\n",
              "</table><br/><br/>Warnings:<br/>[1] Standard Errors assume that the covariance matrix of the errors is correctly specified."
            ],
            "text/plain": [
              "<class 'statsmodels.iolib.summary.Summary'>\n",
              "\"\"\"\n",
              "                            OLS Regression Results                            \n",
              "==============================================================================\n",
              "Dep. Variable:               distance   R-squared:                       0.152\n",
              "Model:                            OLS   Adj. R-squared:                  0.152\n",
              "Method:                 Least Squares   F-statistic:                     226.0\n",
              "Date:                Wed, 11 Mar 2020   Prob (F-statistic):           5.69e-91\n",
              "Time:                        00:35:16   Log-Likelihood:                -2958.1\n",
              "No. Observations:                2517   AIC:                             5922.\n",
              "Df Residuals:                    2514   BIC:                             5940.\n",
              "Df Model:                           2                                         \n",
              "Covariance Type:            nonrobust                                         \n",
              "===============================================================================\n",
              "                  coef    std err          t      P>|t|      [0.025      0.975]\n",
              "-------------------------------------------------------------------------------\n",
              "const           0.8646      0.034     25.440      0.000       0.798       0.931\n",
              "minutes         0.0196      0.001     21.255      0.000       0.018       0.021\n",
              "gender_male     0.0230      0.032      0.715      0.474      -0.040       0.086\n",
              "==============================================================================\n",
              "Omnibus:                      360.670   Durbin-Watson:                   2.021\n",
              "Prob(Omnibus):                  0.000   Jarque-Bera (JB):             1085.999\n",
              "Skew:                           0.741   Prob(JB):                    1.51e-236\n",
              "Kurtosis:                       5.857   Cond. No.                         78.3\n",
              "==============================================================================\n",
              "\n",
              "Warnings:\n",
              "[1] Standard Errors assume that the covariance matrix of the errors is correctly specified.\n",
              "\"\"\""
            ]
          },
          "metadata": {
            "tags": []
          },
          "execution_count": 102
        }
      ]
    },
    {
      "cell_type": "markdown",
      "metadata": {
        "id": "dARh724QgrMv",
        "colab_type": "text"
      },
      "source": [
        "Continue to refine this model by reviewing date. \n",
        "*   December - Feb. = Winter\n",
        "*   March - May = Spring\n",
        "*   June - Aug. = Summer\n",
        "*   Sept. - Nov. = Fall"
      ]
    },
    {
      "cell_type": "code",
      "metadata": {
        "id": "knHGpkCdhSdA",
        "colab_type": "code",
        "colab": {}
      },
      "source": [
        "model_2_df = sample_df"
      ],
      "execution_count": 0,
      "outputs": []
    },
    {
      "cell_type": "code",
      "metadata": {
        "id": "g3V943hSgxRE",
        "colab_type": "code",
        "colab": {}
      },
      "source": [
        "def get_date_info(model_2_df):\n",
        "    model_2_df['d_week'] = model_2_df['starttime'].dt.dayofweek\n",
        "    model_2_df['m_yr'] = model_2_df['starttime'].dt.month\n",
        "    model_2_df['ToD'] = model_2_df['starttime'].dt.hour\n",
        "\n",
        "    model_2_df['d_week'] = (model_2_df['d_week']<5).astype(int)\n",
        "\n",
        "    model_2_df['m_yr'] = model_2_df['m_yr'].replace(to_replace=[12,1,2], value = 0)\n",
        "    model_2_df['m_yr'] = model_2_df['m_yr'].replace(to_replace=[3,4,5], value = 1)\n",
        "    model_2_df['m_yr'] = model_2_df['m_yr'].replace(to_replace=[6,7,8], value = 2)\n",
        "    model_2_df['m_yr'] = model_2_df['m_yr'].replace(to_replace=[9,10,11], value = 3)\n",
        "    \n",
        "    model_2_df['ToD'] = pd.cut(model_2_df['ToD'], bins=[-1, 5, 9, 14, 20, 25], labels=['Night','Morning','Afternoon','Evening','Night1'])\n",
        "    model_2_df['ToD'] = model_2_df['ToD'].replace(to_replace='Night1', value = 'Night')\n",
        "    model_2_df['ToD'] = model_2_df['ToD'].cat.remove_unused_categories()\n",
        "    \n",
        "    model_2_df['m_yr'] = model_2_df['m_yr'].astype('category')\n",
        "    model_2_df['d_week'] = model_2_df['d_week'].astype('category')\n",
        "\n",
        "    return(model_2_df)"
      ],
      "execution_count": 0,
      "outputs": []
    },
    {
      "cell_type": "code",
      "metadata": {
        "id": "DKucasNvh9ii",
        "colab_type": "code",
        "colab": {}
      },
      "source": [
        "#Dataset for the second model\n",
        "df_model2 = drop_data(model_2_df)\n",
        "df_model2 = get_date_info(df_model2)\n",
        "df_model2 = df_model2.drop('starttime', axis =1)"
      ],
      "execution_count": 0,
      "outputs": []
    },
    {
      "cell_type": "code",
      "metadata": {
        "id": "_lPNRscgia4m",
        "colab_type": "code",
        "colab": {}
      },
      "source": [
        "#Dummify categorical data and avoid dummy variable trap\n",
        "df_model2 = pd.get_dummies(df_model2, drop_first = True)"
      ],
      "execution_count": 0,
      "outputs": []
    },
    {
      "cell_type": "code",
      "metadata": {
        "id": "TnkNL0mHBaco",
        "colab_type": "code",
        "colab": {
          "base_uri": "https://localhost:8080/",
          "height": 187
        },
        "outputId": "73d4e616-bd60-4535-d593-a8065f02c912"
      },
      "source": [
        "#review correlation\n",
        "df_model2.corr().loc[:,'minutes']"
      ],
      "execution_count": 140,
      "outputs": [
        {
          "output_type": "execute_result",
          "data": {
            "text/plain": [
              "distance         0.433833\n",
              "minutes          1.000000\n",
              "gender_male     -0.063686\n",
              "d_week_1        -0.035577\n",
              "m_yr_2           0.007511\n",
              "m_yr_3          -0.008013\n",
              "ToD_Morning      0.004801\n",
              "ToD_Afternoon    0.067966\n",
              "ToD_Evening     -0.039123\n",
              "Name: minutes, dtype: float64"
            ]
          },
          "metadata": {
            "tags": []
          },
          "execution_count": 140
        }
      ]
    },
    {
      "cell_type": "code",
      "metadata": {
        "id": "f2fA8wy6ifGm",
        "colab_type": "code",
        "colab": {}
      },
      "source": [
        "#Predictor variable\n",
        "X = df_model2.iloc[:,1:]\n",
        "#Target variable\n",
        "y = df_model2.iloc[:,0]\n",
        "\n",
        "X_train, X_test, y_train, y_test = train_test_split(X, y, test_size = 0.2, random_state = 0)"
      ],
      "execution_count": 0,
      "outputs": []
    },
    {
      "cell_type": "code",
      "metadata": {
        "id": "tRByZcNlikl8",
        "colab_type": "code",
        "outputId": "9094e685-afc8-41a5-f692-2b2094bcd23e",
        "colab": {
          "base_uri": "https://localhost:8080/",
          "height": 34
        }
      },
      "source": [
        "#Fit Linear Regression and check accuracy using sklearn\n",
        "regressor = LinearRegression()\n",
        "regressor.fit(X_train, y_train)\n",
        "regressor.score(X_test,y_test)"
      ],
      "execution_count": 142,
      "outputs": [
        {
          "output_type": "execute_result",
          "data": {
            "text/plain": [
              "0.1427404229297814"
            ]
          },
          "metadata": {
            "tags": []
          },
          "execution_count": 142
        }
      ]
    },
    {
      "cell_type": "code",
      "metadata": {
        "id": "j1obsqFrirT7",
        "colab_type": "code",
        "outputId": "e384f60e-597e-4c4e-972f-c0e6d1b4ec30",
        "colab": {
          "base_uri": "https://localhost:8080/",
          "height": 679
        }
      },
      "source": [
        "X_train = sm.add_constant(X_train)\n",
        "X_test = sm.add_constant(X_test)\n",
        "regressor_OLS = sm.OLS(y_train, X_train).fit()\n",
        "regressor_OLS.summary()"
      ],
      "execution_count": 143,
      "outputs": [
        {
          "output_type": "stream",
          "text": [
            "/usr/local/lib/python3.6/dist-packages/numpy/core/fromnumeric.py:2495: FutureWarning: Method .ptp is deprecated and will be removed in a future version. Use numpy.ptp instead.\n",
            "  return ptp(axis=axis, out=out, **kwargs)\n"
          ],
          "name": "stderr"
        },
        {
          "output_type": "execute_result",
          "data": {
            "text/html": [
              "<table class=\"simpletable\">\n",
              "<caption>OLS Regression Results</caption>\n",
              "<tr>\n",
              "  <th>Dep. Variable:</th>        <td>distance</td>     <th>  R-squared:         </th> <td>   0.203</td> \n",
              "</tr>\n",
              "<tr>\n",
              "  <th>Model:</th>                   <td>OLS</td>       <th>  Adj. R-squared:    </th> <td>   0.202</td> \n",
              "</tr>\n",
              "<tr>\n",
              "  <th>Method:</th>             <td>Least Squares</td>  <th>  F-statistic:       </th> <td>   799.9</td> \n",
              "</tr>\n",
              "<tr>\n",
              "  <th>Date:</th>             <td>Wed, 11 Mar 2020</td> <th>  Prob (F-statistic):</th>  <td>  0.00</td>  \n",
              "</tr>\n",
              "<tr>\n",
              "  <th>Time:</th>                 <td>00:52:35</td>     <th>  Log-Likelihood:    </th> <td> -29210.</td> \n",
              "</tr>\n",
              "<tr>\n",
              "  <th>No. Observations:</th>      <td> 25176</td>      <th>  AIC:               </th> <td>5.844e+04</td>\n",
              "</tr>\n",
              "<tr>\n",
              "  <th>Df Residuals:</th>          <td> 25167</td>      <th>  BIC:               </th> <td>5.851e+04</td>\n",
              "</tr>\n",
              "<tr>\n",
              "  <th>Df Model:</th>              <td>     8</td>      <th>                     </th>     <td> </td>    \n",
              "</tr>\n",
              "<tr>\n",
              "  <th>Covariance Type:</th>      <td>nonrobust</td>    <th>                     </th>     <td> </td>    \n",
              "</tr>\n",
              "</table>\n",
              "<table class=\"simpletable\">\n",
              "<tr>\n",
              "        <td></td>           <th>coef</th>     <th>std err</th>      <th>t</th>      <th>P>|t|</th>  <th>[0.025</th>    <th>0.975]</th>  \n",
              "</tr>\n",
              "<tr>\n",
              "  <th>const</th>         <td>   -3.5790</td> <td>    0.774</td> <td>   -4.623</td> <td> 0.000</td> <td>   -5.096</td> <td>   -2.062</td>\n",
              "</tr>\n",
              "<tr>\n",
              "  <th>minutes</th>       <td>    0.0248</td> <td>    0.000</td> <td>   79.111</td> <td> 0.000</td> <td>    0.024</td> <td>    0.025</td>\n",
              "</tr>\n",
              "<tr>\n",
              "  <th>gender_male</th>   <td>    0.0530</td> <td>    0.010</td> <td>    5.304</td> <td> 0.000</td> <td>    0.033</td> <td>    0.073</td>\n",
              "</tr>\n",
              "<tr>\n",
              "  <th>d_week_1</th>      <td>   -0.0283</td> <td>    0.010</td> <td>   -2.887</td> <td> 0.004</td> <td>   -0.047</td> <td>   -0.009</td>\n",
              "</tr>\n",
              "<tr>\n",
              "  <th>m_yr_2</th>        <td>    4.2986</td> <td>    0.773</td> <td>    5.557</td> <td> 0.000</td> <td>    2.783</td> <td>    5.815</td>\n",
              "</tr>\n",
              "<tr>\n",
              "  <th>m_yr_3</th>        <td>    4.3070</td> <td>    0.773</td> <td>    5.568</td> <td> 0.000</td> <td>    2.791</td> <td>    5.823</td>\n",
              "</tr>\n",
              "<tr>\n",
              "  <th>ToD_Morning</th>   <td>    0.1907</td> <td>    0.025</td> <td>    7.579</td> <td> 0.000</td> <td>    0.141</td> <td>    0.240</td>\n",
              "</tr>\n",
              "<tr>\n",
              "  <th>ToD_Afternoon</th> <td>   -0.0074</td> <td>    0.019</td> <td>   -0.389</td> <td> 0.697</td> <td>   -0.045</td> <td>    0.030</td>\n",
              "</tr>\n",
              "<tr>\n",
              "  <th>ToD_Evening</th>   <td>    0.0313</td> <td>    0.019</td> <td>    1.658</td> <td> 0.097</td> <td>   -0.006</td> <td>    0.068</td>\n",
              "</tr>\n",
              "</table>\n",
              "<table class=\"simpletable\">\n",
              "<tr>\n",
              "  <th>Omnibus:</th>       <td>3637.141</td> <th>  Durbin-Watson:     </th> <td>   2.002</td> \n",
              "</tr>\n",
              "<tr>\n",
              "  <th>Prob(Omnibus):</th>  <td> 0.000</td>  <th>  Jarque-Bera (JB):  </th> <td>16723.492</td>\n",
              "</tr>\n",
              "<tr>\n",
              "  <th>Skew:</th>           <td> 0.637</td>  <th>  Prob(JB):          </th> <td>    0.00</td> \n",
              "</tr>\n",
              "<tr>\n",
              "  <th>Kurtosis:</th>       <td> 6.784</td>  <th>  Cond. No.          </th> <td>7.63e+03</td> \n",
              "</tr>\n",
              "</table><br/><br/>Warnings:<br/>[1] Standard Errors assume that the covariance matrix of the errors is correctly specified.<br/>[2] The condition number is large, 7.63e+03. This might indicate that there are<br/>strong multicollinearity or other numerical problems."
            ],
            "text/plain": [
              "<class 'statsmodels.iolib.summary.Summary'>\n",
              "\"\"\"\n",
              "                            OLS Regression Results                            \n",
              "==============================================================================\n",
              "Dep. Variable:               distance   R-squared:                       0.203\n",
              "Model:                            OLS   Adj. R-squared:                  0.202\n",
              "Method:                 Least Squares   F-statistic:                     799.9\n",
              "Date:                Wed, 11 Mar 2020   Prob (F-statistic):               0.00\n",
              "Time:                        00:52:35   Log-Likelihood:                -29210.\n",
              "No. Observations:               25176   AIC:                         5.844e+04\n",
              "Df Residuals:                   25167   BIC:                         5.851e+04\n",
              "Df Model:                           8                                         \n",
              "Covariance Type:            nonrobust                                         \n",
              "=================================================================================\n",
              "                    coef    std err          t      P>|t|      [0.025      0.975]\n",
              "---------------------------------------------------------------------------------\n",
              "const            -3.5790      0.774     -4.623      0.000      -5.096      -2.062\n",
              "minutes           0.0248      0.000     79.111      0.000       0.024       0.025\n",
              "gender_male       0.0530      0.010      5.304      0.000       0.033       0.073\n",
              "d_week_1         -0.0283      0.010     -2.887      0.004      -0.047      -0.009\n",
              "m_yr_2            4.2986      0.773      5.557      0.000       2.783       5.815\n",
              "m_yr_3            4.3070      0.773      5.568      0.000       2.791       5.823\n",
              "ToD_Morning       0.1907      0.025      7.579      0.000       0.141       0.240\n",
              "ToD_Afternoon    -0.0074      0.019     -0.389      0.697      -0.045       0.030\n",
              "ToD_Evening       0.0313      0.019      1.658      0.097      -0.006       0.068\n",
              "==============================================================================\n",
              "Omnibus:                     3637.141   Durbin-Watson:                   2.002\n",
              "Prob(Omnibus):                  0.000   Jarque-Bera (JB):            16723.492\n",
              "Skew:                           0.637   Prob(JB):                         0.00\n",
              "Kurtosis:                       6.784   Cond. No.                     7.63e+03\n",
              "==============================================================================\n",
              "\n",
              "Warnings:\n",
              "[1] Standard Errors assume that the covariance matrix of the errors is correctly specified.\n",
              "[2] The condition number is large, 7.63e+03. This might indicate that there are\n",
              "strong multicollinearity or other numerical problems.\n",
              "\"\"\""
            ]
          },
          "metadata": {
            "tags": []
          },
          "execution_count": 143
        }
      ]
    },
    {
      "cell_type": "markdown",
      "metadata": {
        "id": "Ow2Vwde0DIs0",
        "colab_type": "text"
      },
      "source": [
        "Let's start to look at Start and End Locations"
      ]
    },
    {
      "cell_type": "code",
      "metadata": {
        "id": "wnQzkNDQDH_e",
        "colab_type": "code",
        "colab": {}
      },
      "source": [
        "model_3_df = sample_df"
      ],
      "execution_count": 0,
      "outputs": []
    },
    {
      "cell_type": "code",
      "metadata": {
        "id": "eajgzC_eDeAX",
        "colab_type": "code",
        "colab": {}
      },
      "source": [
        "def drop_data(model_1_df):\n",
        "    model_1_df = model_1_df.drop(['tripduration','stoptime','distance','start_station_latitude','start_station_longitude',\n",
        "                  'start_coordinates','end_station_latitude', 'end_station_longitude', \n",
        "                  'end_coordinates','bikeid', 'start_station_name','birth_year','end_station_name','min_mile',\n",
        "                  'mile_hour','season', 'dayofweek', 'age', 'hour'], axis = 1)\n",
        "    return model_1_df\n",
        "\n",
        "df_basemodel = drop_data(model_3_df)"
      ],
      "execution_count": 0,
      "outputs": []
    },
    {
      "cell_type": "code",
      "metadata": {
        "id": "Omo7_IwiDxIr",
        "colab_type": "code",
        "colab": {}
      },
      "source": [
        "def get_date_info(model_3_df):\n",
        "    model_3_df['d_week'] = model_3_df['starttime'].dt.dayofweek\n",
        "\n",
        "    model_3_df['d_week'] = (model_3_df['d_week']<5).astype(int)\n",
        "\n",
        "    return(model_3_df)"
      ],
      "execution_count": 0,
      "outputs": []
    },
    {
      "cell_type": "code",
      "metadata": {
        "id": "CPvheaHQEEzi",
        "colab_type": "code",
        "colab": {}
      },
      "source": [
        "#Dataset for the second model\n",
        "df_model3 = drop_data(model_3_df)\n",
        "df_model3 = get_date_info(df_model3)\n",
        "df_model3 = df_model3.drop('starttime', axis =1)"
      ],
      "execution_count": 0,
      "outputs": []
    },
    {
      "cell_type": "code",
      "metadata": {
        "id": "ea7UzGCuEk5b",
        "colab_type": "code",
        "colab": {}
      },
      "source": [
        "#Dummify categorical data and avoid dummy variable trap\n",
        "df_model3 = pd.get_dummies(df_model3, drop_first = True)"
      ],
      "execution_count": 0,
      "outputs": []
    },
    {
      "cell_type": "code",
      "metadata": {
        "id": "d4RWEDoyErMs",
        "colab_type": "code",
        "colab": {
          "base_uri": "https://localhost:8080/",
          "height": 119
        },
        "outputId": "1f5c9c9f-25b1-40ba-e917-d561a2ea5f98"
      },
      "source": [
        "#review correlation\n",
        "df_model3.corr().loc[:,'minutes']"
      ],
      "execution_count": 173,
      "outputs": [
        {
          "output_type": "execute_result",
          "data": {
            "text/plain": [
              "start_station_id    0.037891\n",
              "end_station_id      0.048748\n",
              "minutes             1.000000\n",
              "d_week             -0.035577\n",
              "gender_male        -0.063686\n",
              "Name: minutes, dtype: float64"
            ]
          },
          "metadata": {
            "tags": []
          },
          "execution_count": 173
        }
      ]
    },
    {
      "cell_type": "code",
      "metadata": {
        "id": "ins6a06YE06A",
        "colab_type": "code",
        "colab": {}
      },
      "source": [
        "#Predictor variable\n",
        "X = df_model3.iloc[:,1:]\n",
        "#Target variable\n",
        "y = df_model3.iloc[:,0]\n",
        "\n",
        "X_train, X_test, y_train, y_test = train_test_split(X, y, test_size = 0.2, random_state = 0)"
      ],
      "execution_count": 0,
      "outputs": []
    },
    {
      "cell_type": "code",
      "metadata": {
        "id": "oDZPURjuE5Yf",
        "colab_type": "code",
        "colab": {
          "base_uri": "https://localhost:8080/",
          "height": 34
        },
        "outputId": "34279d3b-b13a-41b8-a358-c14ee334ed11"
      },
      "source": [
        "#Fit Linear Regression and check accuracy using sklearn\n",
        "regressor = LinearRegression()\n",
        "regressor.fit(X_train, y_train)\n",
        "regressor.score(X_test,y_test)"
      ],
      "execution_count": 175,
      "outputs": [
        {
          "output_type": "execute_result",
          "data": {
            "text/plain": [
              "0.11443490403480305"
            ]
          },
          "metadata": {
            "tags": []
          },
          "execution_count": 175
        }
      ]
    },
    {
      "cell_type": "code",
      "metadata": {
        "id": "begku-tnE6lQ",
        "colab_type": "code",
        "colab": {
          "base_uri": "https://localhost:8080/",
          "height": 595
        },
        "outputId": "da3519c9-eea6-4115-f73f-d7ab910f2afd"
      },
      "source": [
        "X_train = sm.add_constant(X_train)\n",
        "X_test = sm.add_constant(X_test)\n",
        "regressor_OLS = sm.OLS(y_train, X_train).fit()\n",
        "regressor_OLS.summary()"
      ],
      "execution_count": 176,
      "outputs": [
        {
          "output_type": "stream",
          "text": [
            "/usr/local/lib/python3.6/dist-packages/numpy/core/fromnumeric.py:2495: FutureWarning: Method .ptp is deprecated and will be removed in a future version. Use numpy.ptp instead.\n",
            "  return ptp(axis=axis, out=out, **kwargs)\n"
          ],
          "name": "stderr"
        },
        {
          "output_type": "execute_result",
          "data": {
            "text/html": [
              "<table class=\"simpletable\">\n",
              "<caption>OLS Regression Results</caption>\n",
              "<tr>\n",
              "  <th>Dep. Variable:</th>    <td>start_station_id</td> <th>  R-squared:         </th>  <td>   0.112</td>  \n",
              "</tr>\n",
              "<tr>\n",
              "  <th>Model:</th>                   <td>OLS</td>       <th>  Adj. R-squared:    </th>  <td>   0.112</td>  \n",
              "</tr>\n",
              "<tr>\n",
              "  <th>Method:</th>             <td>Least Squares</td>  <th>  F-statistic:       </th>  <td>   793.0</td>  \n",
              "</tr>\n",
              "<tr>\n",
              "  <th>Date:</th>             <td>Wed, 11 Mar 2020</td> <th>  Prob (F-statistic):</th>   <td>  0.00</td>   \n",
              "</tr>\n",
              "<tr>\n",
              "  <th>Time:</th>                 <td>00:56:32</td>     <th>  Log-Likelihood:    </th> <td>-2.1493e+05</td>\n",
              "</tr>\n",
              "<tr>\n",
              "  <th>No. Observations:</th>      <td> 25176</td>      <th>  AIC:               </th>  <td>4.299e+05</td> \n",
              "</tr>\n",
              "<tr>\n",
              "  <th>Df Residuals:</th>          <td> 25171</td>      <th>  BIC:               </th>  <td>4.299e+05</td> \n",
              "</tr>\n",
              "<tr>\n",
              "  <th>Df Model:</th>              <td>     4</td>      <th>                     </th>      <td> </td>     \n",
              "</tr>\n",
              "<tr>\n",
              "  <th>Covariance Type:</th>      <td>nonrobust</td>    <th>                     </th>      <td> </td>     \n",
              "</tr>\n",
              "</table>\n",
              "<table class=\"simpletable\">\n",
              "<tr>\n",
              "         <td></td>           <th>coef</th>     <th>std err</th>      <th>t</th>      <th>P>|t|</th>  <th>[0.025</th>    <th>0.975]</th>  \n",
              "</tr>\n",
              "<tr>\n",
              "  <th>const</th>          <td>  904.9974</td> <td>   20.631</td> <td>   43.866</td> <td> 0.000</td> <td>  864.559</td> <td>  945.436</td>\n",
              "</tr>\n",
              "<tr>\n",
              "  <th>end_station_id</th> <td>    0.3293</td> <td>    0.006</td> <td>   55.652</td> <td> 0.000</td> <td>    0.318</td> <td>    0.341</td>\n",
              "</tr>\n",
              "<tr>\n",
              "  <th>minutes</th>        <td>    1.6039</td> <td>    0.500</td> <td>    3.208</td> <td> 0.001</td> <td>    0.624</td> <td>    2.584</td>\n",
              "</tr>\n",
              "<tr>\n",
              "  <th>d_week</th>         <td>  -60.5457</td> <td>   15.624</td> <td>   -3.875</td> <td> 0.000</td> <td>  -91.171</td> <td>  -29.921</td>\n",
              "</tr>\n",
              "<tr>\n",
              "  <th>gender_male</th>    <td>  -40.4832</td> <td>   15.953</td> <td>   -2.538</td> <td> 0.011</td> <td>  -71.752</td> <td>   -9.215</td>\n",
              "</tr>\n",
              "</table>\n",
              "<table class=\"simpletable\">\n",
              "<tr>\n",
              "  <th>Omnibus:</th>       <td>7472.970</td> <th>  Durbin-Watson:     </th> <td>   1.994</td>\n",
              "</tr>\n",
              "<tr>\n",
              "  <th>Prob(Omnibus):</th>  <td> 0.000</td>  <th>  Jarque-Bera (JB):  </th> <td>2602.240</td>\n",
              "</tr>\n",
              "<tr>\n",
              "  <th>Skew:</th>           <td> 0.603</td>  <th>  Prob(JB):          </th> <td>    0.00</td>\n",
              "</tr>\n",
              "<tr>\n",
              "  <th>Kurtosis:</th>       <td> 1.988</td>  <th>  Cond. No.          </th> <td>5.70e+03</td>\n",
              "</tr>\n",
              "</table><br/><br/>Warnings:<br/>[1] Standard Errors assume that the covariance matrix of the errors is correctly specified.<br/>[2] The condition number is large, 5.7e+03. This might indicate that there are<br/>strong multicollinearity or other numerical problems."
            ],
            "text/plain": [
              "<class 'statsmodels.iolib.summary.Summary'>\n",
              "\"\"\"\n",
              "                            OLS Regression Results                            \n",
              "==============================================================================\n",
              "Dep. Variable:       start_station_id   R-squared:                       0.112\n",
              "Model:                            OLS   Adj. R-squared:                  0.112\n",
              "Method:                 Least Squares   F-statistic:                     793.0\n",
              "Date:                Wed, 11 Mar 2020   Prob (F-statistic):               0.00\n",
              "Time:                        00:56:32   Log-Likelihood:            -2.1493e+05\n",
              "No. Observations:               25176   AIC:                         4.299e+05\n",
              "Df Residuals:                   25171   BIC:                         4.299e+05\n",
              "Df Model:                           4                                         \n",
              "Covariance Type:            nonrobust                                         \n",
              "==================================================================================\n",
              "                     coef    std err          t      P>|t|      [0.025      0.975]\n",
              "----------------------------------------------------------------------------------\n",
              "const            904.9974     20.631     43.866      0.000     864.559     945.436\n",
              "end_station_id     0.3293      0.006     55.652      0.000       0.318       0.341\n",
              "minutes            1.6039      0.500      3.208      0.001       0.624       2.584\n",
              "d_week           -60.5457     15.624     -3.875      0.000     -91.171     -29.921\n",
              "gender_male      -40.4832     15.953     -2.538      0.011     -71.752      -9.215\n",
              "==============================================================================\n",
              "Omnibus:                     7472.970   Durbin-Watson:                   1.994\n",
              "Prob(Omnibus):                  0.000   Jarque-Bera (JB):             2602.240\n",
              "Skew:                           0.603   Prob(JB):                         0.00\n",
              "Kurtosis:                       1.988   Cond. No.                     5.70e+03\n",
              "==============================================================================\n",
              "\n",
              "Warnings:\n",
              "[1] Standard Errors assume that the covariance matrix of the errors is correctly specified.\n",
              "[2] The condition number is large, 5.7e+03. This might indicate that there are\n",
              "strong multicollinearity or other numerical problems.\n",
              "\"\"\""
            ]
          },
          "metadata": {
            "tags": []
          },
          "execution_count": 176
        }
      ]
    },
    {
      "cell_type": "markdown",
      "metadata": {
        "id": "RCZrMFhFCBDh",
        "colab_type": "text"
      },
      "source": [
        "Let's continue to explore this logistic regression using AutoML Tables"
      ]
    }
  ]
}