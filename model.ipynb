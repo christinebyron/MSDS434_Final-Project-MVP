{
  "nbformat": 4,
  "nbformat_minor": 0,
  "metadata": {
    "colab": {
      "name": "model.ipynb",
      "provenance": [],
      "collapsed_sections": []
    },
    "kernelspec": {
      "name": "python3",
      "display_name": "Python 3"
    }
  },
  "cells": [
    {
      "cell_type": "markdown",
      "metadata": {
        "id": "TmGD971slbXl",
        "colab_type": "text"
      },
      "source": [
        "#Data Set Up"
      ]
    },
    {
      "cell_type": "code",
      "metadata": {
        "id": "egG6LeU9l-Q5",
        "colab_type": "code",
        "colab": {}
      },
      "source": [
        "import pandas as pd\n",
        "from sklearn.linear_model import LogisticRegression"
      ],
      "execution_count": 0,
      "outputs": []
    },
    {
      "cell_type": "code",
      "metadata": {
        "id": "dYMyR8KzmC3B",
        "colab_type": "code",
        "colab": {}
      },
      "source": [
        "# Create DataFrame object\n",
        "train = train = pd.read_csv('citibikenyc_customer_data.csv')"
      ],
      "execution_count": 0,
      "outputs": []
    },
    {
      "cell_type": "code",
      "metadata": {
        "id": "9nZSDpk0mIdL",
        "colab_type": "code",
        "colab": {
          "base_uri": "https://localhost:8080/",
          "height": 428
        },
        "outputId": "4af88293-3885-4869-eef3-3dd0269acdc8"
      },
      "source": [
        "# Display beginning of Dataframe\n",
        "train.head()"
      ],
      "execution_count": 6,
      "outputs": [
        {
          "output_type": "execute_result",
          "data": {
            "text/html": [
              "<div>\n",
              "<style scoped>\n",
              "    .dataframe tbody tr th:only-of-type {\n",
              "        vertical-align: middle;\n",
              "    }\n",
              "\n",
              "    .dataframe tbody tr th {\n",
              "        vertical-align: top;\n",
              "    }\n",
              "\n",
              "    .dataframe thead th {\n",
              "        text-align: right;\n",
              "    }\n",
              "</style>\n",
              "<table border=\"1\" class=\"dataframe\">\n",
              "  <thead>\n",
              "    <tr style=\"text-align: right;\">\n",
              "      <th></th>\n",
              "      <th>0</th>\n",
              "      <th>1</th>\n",
              "      <th>2</th>\n",
              "      <th>3</th>\n",
              "      <th>4</th>\n",
              "      <th>5</th>\n",
              "      <th>6</th>\n",
              "      <th>7</th>\n",
              "      <th>8</th>\n",
              "      <th>9</th>\n",
              "      <th>10</th>\n",
              "      <th>11</th>\n",
              "      <th>12</th>\n",
              "      <th>13</th>\n",
              "      <th>14</th>\n",
              "      <th>15</th>\n",
              "      <th>16</th>\n",
              "      <th>17</th>\n",
              "      <th>18</th>\n",
              "      <th>19</th>\n",
              "      <th>20</th>\n",
              "      <th>21</th>\n",
              "    </tr>\n",
              "  </thead>\n",
              "  <tbody>\n",
              "    <tr>\n",
              "      <th>0</th>\n",
              "      <td>tripduration</td>\n",
              "      <td>starttime</td>\n",
              "      <td>stoptime</td>\n",
              "      <td>start_station_id</td>\n",
              "      <td>start_station_name</td>\n",
              "      <td>start_station_latitude</td>\n",
              "      <td>start_station_longitude</td>\n",
              "      <td>end_station_id</td>\n",
              "      <td>end_station_name</td>\n",
              "      <td>end_station_latitude</td>\n",
              "      <td>end_station_longitude</td>\n",
              "      <td>bikeid</td>\n",
              "      <td>usertype</td>\n",
              "      <td>birth_year</td>\n",
              "      <td>gender</td>\n",
              "      <td>distance</td>\n",
              "      <td>minutes</td>\n",
              "      <td>age</td>\n",
              "      <td>season</td>\n",
              "      <td>dayofweek</td>\n",
              "      <td>hour</td>\n",
              "      <td>over30min</td>\n",
              "    </tr>\n",
              "    <tr>\n",
              "      <th>1</th>\n",
              "      <td>2188</td>\n",
              "      <td>2016-09-23 19:09:47 UTC</td>\n",
              "      <td>2016-09-23 19:46:16 UTC</td>\n",
              "      <td>2008</td>\n",
              "      <td>Little West St &amp; 1 Pl</td>\n",
              "      <td>40.70569254</td>\n",
              "      <td>-74.01677685</td>\n",
              "      <td>347</td>\n",
              "      <td>Greenwich St &amp; W Houston St</td>\n",
              "      <td>40.728846</td>\n",
              "      <td>-74.008591</td>\n",
              "      <td>22233</td>\n",
              "      <td>Customer</td>\n",
              "      <td>1956</td>\n",
              "      <td>1</td>\n",
              "      <td>2665.383572</td>\n",
              "      <td>36.46666667</td>\n",
              "      <td>64</td>\n",
              "      <td>3</td>\n",
              "      <td>6</td>\n",
              "      <td>19</td>\n",
              "      <td>yes</td>\n",
              "    </tr>\n",
              "    <tr>\n",
              "      <th>2</th>\n",
              "      <td>1526</td>\n",
              "      <td>2016-09-05 22:26:35 UTC</td>\n",
              "      <td>2016-09-05 22:52:01 UTC</td>\n",
              "      <td>296</td>\n",
              "      <td>Division St &amp; Bowery</td>\n",
              "      <td>40.71413089</td>\n",
              "      <td>-73.9970468</td>\n",
              "      <td>236</td>\n",
              "      <td>St Marks Pl &amp; 2 Ave</td>\n",
              "      <td>40.7284186</td>\n",
              "      <td>-73.98713956</td>\n",
              "      <td>16939</td>\n",
              "      <td>Customer</td>\n",
              "      <td>1956</td>\n",
              "      <td>1</td>\n",
              "      <td>1794.752389</td>\n",
              "      <td>25.43333333</td>\n",
              "      <td>64</td>\n",
              "      <td>3</td>\n",
              "      <td>2</td>\n",
              "      <td>22</td>\n",
              "      <td>no</td>\n",
              "    </tr>\n",
              "    <tr>\n",
              "      <th>3</th>\n",
              "      <td>1382</td>\n",
              "      <td>2016-09-17 17:52:26 UTC</td>\n",
              "      <td>2016-09-17 18:15:28 UTC</td>\n",
              "      <td>252</td>\n",
              "      <td>MacDougal St &amp; Washington Sq</td>\n",
              "      <td>40.73226398</td>\n",
              "      <td>-73.99852205</td>\n",
              "      <td>484</td>\n",
              "      <td>W 44 St &amp; 5 Ave</td>\n",
              "      <td>40.75500254</td>\n",
              "      <td>-73.98014437</td>\n",
              "      <td>23844</td>\n",
              "      <td>Customer</td>\n",
              "      <td>1955</td>\n",
              "      <td>0</td>\n",
              "      <td>2964.78189</td>\n",
              "      <td>23.03333333</td>\n",
              "      <td>65</td>\n",
              "      <td>3</td>\n",
              "      <td>7</td>\n",
              "      <td>17</td>\n",
              "      <td>no</td>\n",
              "    </tr>\n",
              "    <tr>\n",
              "      <th>4</th>\n",
              "      <td>1551</td>\n",
              "      <td>2016-09-04 09:52:06 UTC</td>\n",
              "      <td>2016-09-04 10:17:57 UTC</td>\n",
              "      <td>3236</td>\n",
              "      <td>W 42 St &amp; Dyer Ave</td>\n",
              "      <td>40.75898481</td>\n",
              "      <td>-73.99379969</td>\n",
              "      <td>3231</td>\n",
              "      <td>E 67 St &amp; Park Ave</td>\n",
              "      <td>40.7678008</td>\n",
              "      <td>-73.96592081</td>\n",
              "      <td>25714</td>\n",
              "      <td>Customer</td>\n",
              "      <td>1953</td>\n",
              "      <td>1</td>\n",
              "      <td>2544.398151</td>\n",
              "      <td>25.85</td>\n",
              "      <td>67</td>\n",
              "      <td>3</td>\n",
              "      <td>1</td>\n",
              "      <td>9</td>\n",
              "      <td>no</td>\n",
              "    </tr>\n",
              "  </tbody>\n",
              "</table>\n",
              "</div>"
            ],
            "text/plain": [
              "             0                        1   ...    20         21\n",
              "0  tripduration                starttime  ...  hour  over30min\n",
              "1          2188  2016-09-23 19:09:47 UTC  ...    19        yes\n",
              "2          1526  2016-09-05 22:26:35 UTC  ...    22         no\n",
              "3          1382  2016-09-17 17:52:26 UTC  ...    17         no\n",
              "4          1551  2016-09-04 09:52:06 UTC  ...     9         no\n",
              "\n",
              "[5 rows x 22 columns]"
            ]
          },
          "metadata": {
            "tags": []
          },
          "execution_count": 6
        }
      ]
    },
    {
      "cell_type": "markdown",
      "metadata": {
        "id": "x2sQBNhomPxb",
        "colab_type": "text"
      },
      "source": [
        "#Create Model"
      ]
    },
    {
      "cell_type": "code",
      "metadata": {
        "id": "jM3_m42BmbEE",
        "colab_type": "code",
        "colab": {}
      },
      "source": [
        "# features and target\n",
        "target = 'over30min'\n",
        "features = ['start_station_id', 'end_station_id', 'gender', 'dayofweek']"
      ],
      "execution_count": 0,
      "outputs": []
    },
    {
      "cell_type": "code",
      "metadata": {
        "id": "0go_j4RvnHAA",
        "colab_type": "code",
        "colab": {}
      },
      "source": [
        "# X matrix, y vector\n",
        "X = train[features]\n",
        "y = train[target]"
      ],
      "execution_count": 0,
      "outputs": []
    },
    {
      "cell_type": "code",
      "metadata": {
        "id": "aup4_3FToVZu",
        "colab_type": "code",
        "colab": {
          "base_uri": "https://localhost:8080/",
          "height": 34
        },
        "outputId": "d77b1dcc-210f-4e82-f739-c8e76328137c"
      },
      "source": [
        "# model \n",
        "model = LogisticRegression()\n",
        "model.fit(X, y)\n",
        "model.score(X,y)"
      ],
      "execution_count": 13,
      "outputs": [
        {
          "output_type": "execute_result",
          "data": {
            "text/plain": [
              "0.845625"
            ]
          },
          "metadata": {
            "tags": []
          },
          "execution_count": 13
        }
      ]
    },
    {
      "cell_type": "code",
      "metadata": {
        "id": "6HbtC3amsfyX",
        "colab_type": "code",
        "colab": {
          "base_uri": "https://localhost:8080/",
          "height": 479
        },
        "outputId": "b7d39237-5f18-491d-d840-4d3479d5c6bd"
      },
      "source": [
        "train.head()"
      ],
      "execution_count": 14,
      "outputs": [
        {
          "output_type": "execute_result",
          "data": {
            "text/html": [
              "<div>\n",
              "<style scoped>\n",
              "    .dataframe tbody tr th:only-of-type {\n",
              "        vertical-align: middle;\n",
              "    }\n",
              "\n",
              "    .dataframe tbody tr th {\n",
              "        vertical-align: top;\n",
              "    }\n",
              "\n",
              "    .dataframe thead th {\n",
              "        text-align: right;\n",
              "    }\n",
              "</style>\n",
              "<table border=\"1\" class=\"dataframe\">\n",
              "  <thead>\n",
              "    <tr style=\"text-align: right;\">\n",
              "      <th></th>\n",
              "      <th>tripduration</th>\n",
              "      <th>starttime</th>\n",
              "      <th>stoptime</th>\n",
              "      <th>start_station_id</th>\n",
              "      <th>start_station_name</th>\n",
              "      <th>start_station_latitude</th>\n",
              "      <th>start_station_longitude</th>\n",
              "      <th>end_station_id</th>\n",
              "      <th>end_station_name</th>\n",
              "      <th>end_station_latitude</th>\n",
              "      <th>end_station_longitude</th>\n",
              "      <th>bikeid</th>\n",
              "      <th>usertype</th>\n",
              "      <th>birth_year</th>\n",
              "      <th>gender</th>\n",
              "      <th>distance</th>\n",
              "      <th>minutes</th>\n",
              "      <th>age</th>\n",
              "      <th>season</th>\n",
              "      <th>dayofweek</th>\n",
              "      <th>hour</th>\n",
              "      <th>over30min</th>\n",
              "    </tr>\n",
              "  </thead>\n",
              "  <tbody>\n",
              "    <tr>\n",
              "      <th>1</th>\n",
              "      <td>2188</td>\n",
              "      <td>2016-09-23 19:09:47 UTC</td>\n",
              "      <td>2016-09-23 19:46:16 UTC</td>\n",
              "      <td>2008</td>\n",
              "      <td>Little West St &amp; 1 Pl</td>\n",
              "      <td>40.70569254</td>\n",
              "      <td>-74.01677685</td>\n",
              "      <td>347</td>\n",
              "      <td>Greenwich St &amp; W Houston St</td>\n",
              "      <td>40.728846</td>\n",
              "      <td>-74.008591</td>\n",
              "      <td>22233</td>\n",
              "      <td>Customer</td>\n",
              "      <td>1956</td>\n",
              "      <td>1</td>\n",
              "      <td>2665.383572</td>\n",
              "      <td>36.46666667</td>\n",
              "      <td>64</td>\n",
              "      <td>3</td>\n",
              "      <td>6</td>\n",
              "      <td>19</td>\n",
              "      <td>yes</td>\n",
              "    </tr>\n",
              "    <tr>\n",
              "      <th>2</th>\n",
              "      <td>1526</td>\n",
              "      <td>2016-09-05 22:26:35 UTC</td>\n",
              "      <td>2016-09-05 22:52:01 UTC</td>\n",
              "      <td>296</td>\n",
              "      <td>Division St &amp; Bowery</td>\n",
              "      <td>40.71413089</td>\n",
              "      <td>-73.9970468</td>\n",
              "      <td>236</td>\n",
              "      <td>St Marks Pl &amp; 2 Ave</td>\n",
              "      <td>40.7284186</td>\n",
              "      <td>-73.98713956</td>\n",
              "      <td>16939</td>\n",
              "      <td>Customer</td>\n",
              "      <td>1956</td>\n",
              "      <td>1</td>\n",
              "      <td>1794.752389</td>\n",
              "      <td>25.43333333</td>\n",
              "      <td>64</td>\n",
              "      <td>3</td>\n",
              "      <td>2</td>\n",
              "      <td>22</td>\n",
              "      <td>no</td>\n",
              "    </tr>\n",
              "    <tr>\n",
              "      <th>3</th>\n",
              "      <td>1382</td>\n",
              "      <td>2016-09-17 17:52:26 UTC</td>\n",
              "      <td>2016-09-17 18:15:28 UTC</td>\n",
              "      <td>252</td>\n",
              "      <td>MacDougal St &amp; Washington Sq</td>\n",
              "      <td>40.73226398</td>\n",
              "      <td>-73.99852205</td>\n",
              "      <td>484</td>\n",
              "      <td>W 44 St &amp; 5 Ave</td>\n",
              "      <td>40.75500254</td>\n",
              "      <td>-73.98014437</td>\n",
              "      <td>23844</td>\n",
              "      <td>Customer</td>\n",
              "      <td>1955</td>\n",
              "      <td>0</td>\n",
              "      <td>2964.78189</td>\n",
              "      <td>23.03333333</td>\n",
              "      <td>65</td>\n",
              "      <td>3</td>\n",
              "      <td>7</td>\n",
              "      <td>17</td>\n",
              "      <td>no</td>\n",
              "    </tr>\n",
              "    <tr>\n",
              "      <th>4</th>\n",
              "      <td>1551</td>\n",
              "      <td>2016-09-04 09:52:06 UTC</td>\n",
              "      <td>2016-09-04 10:17:57 UTC</td>\n",
              "      <td>3236</td>\n",
              "      <td>W 42 St &amp; Dyer Ave</td>\n",
              "      <td>40.75898481</td>\n",
              "      <td>-73.99379969</td>\n",
              "      <td>3231</td>\n",
              "      <td>E 67 St &amp; Park Ave</td>\n",
              "      <td>40.7678008</td>\n",
              "      <td>-73.96592081</td>\n",
              "      <td>25714</td>\n",
              "      <td>Customer</td>\n",
              "      <td>1953</td>\n",
              "      <td>1</td>\n",
              "      <td>2544.398151</td>\n",
              "      <td>25.85</td>\n",
              "      <td>67</td>\n",
              "      <td>3</td>\n",
              "      <td>1</td>\n",
              "      <td>9</td>\n",
              "      <td>no</td>\n",
              "    </tr>\n",
              "    <tr>\n",
              "      <th>5</th>\n",
              "      <td>3073</td>\n",
              "      <td>2016-09-10 10:38:18 UTC</td>\n",
              "      <td>2016-09-10 11:29:32 UTC</td>\n",
              "      <td>525</td>\n",
              "      <td>W 34 St &amp; 11 Ave</td>\n",
              "      <td>40.75594159</td>\n",
              "      <td>-74.0021163</td>\n",
              "      <td>410</td>\n",
              "      <td>Suffolk St &amp; Stanton St</td>\n",
              "      <td>40.72066442</td>\n",
              "      <td>-73.98517977</td>\n",
              "      <td>21257</td>\n",
              "      <td>Customer</td>\n",
              "      <td>1949</td>\n",
              "      <td>1</td>\n",
              "      <td>4174.126832</td>\n",
              "      <td>51.21666667</td>\n",
              "      <td>71</td>\n",
              "      <td>3</td>\n",
              "      <td>7</td>\n",
              "      <td>10</td>\n",
              "      <td>yes</td>\n",
              "    </tr>\n",
              "  </tbody>\n",
              "</table>\n",
              "</div>"
            ],
            "text/plain": [
              "0 tripduration                starttime  ... hour over30min\n",
              "1         2188  2016-09-23 19:09:47 UTC  ...   19       yes\n",
              "2         1526  2016-09-05 22:26:35 UTC  ...   22        no\n",
              "3         1382  2016-09-17 17:52:26 UTC  ...   17        no\n",
              "4         1551  2016-09-04 09:52:06 UTC  ...    9        no\n",
              "5         3073  2016-09-10 10:38:18 UTC  ...   10       yes\n",
              "\n",
              "[5 rows x 22 columns]"
            ]
          },
          "metadata": {
            "tags": []
          },
          "execution_count": 14
        }
      ]
    },
    {
      "cell_type": "markdown",
      "metadata": {
        "id": "Wv6y5qeLsiDb",
        "colab_type": "text"
      },
      "source": [
        "# Pickle Model"
      ]
    },
    {
      "cell_type": "code",
      "metadata": {
        "id": "fkp0erUGsl7n",
        "colab_type": "code",
        "colab": {}
      },
      "source": [
        "import pickle\n",
        "pickle.dump(model, open('model.pkl', 'wb'))"
      ],
      "execution_count": 0,
      "outputs": []
    }
  ]
}