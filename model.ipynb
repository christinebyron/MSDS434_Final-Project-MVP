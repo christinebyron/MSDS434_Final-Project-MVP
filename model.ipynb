{
  "nbformat": 4,
  "nbformat_minor": 0,
  "metadata": {
    "colab": {
      "name": "model.ipynb",
      "provenance": [],
      "collapsed_sections": []
    },
    "kernelspec": {
      "name": "python3",
      "display_name": "Python 3"
    }
  },
  "cells": [
    {
      "cell_type": "markdown",
      "metadata": {
        "id": "JAdX2GNSlVRV",
        "colab_type": "text"
      },
      "source": [
        "#System Setup"
      ]
    },
    {
      "cell_type": "code",
      "metadata": {
        "id": "eNiSA-06lRJn",
        "colab_type": "code",
        "colab": {}
      },
      "source": [
        "!pip install --upgrade -q gspread"
      ],
      "execution_count": 0,
      "outputs": []
    },
    {
      "cell_type": "code",
      "metadata": {
        "id": "-IEsBiUflSlC",
        "colab_type": "code",
        "colab": {}
      },
      "source": [
        "from google.colab import auth\n",
        "auth.authenticate_user()\n",
        "\n",
        "import gspread\n",
        "from oauth2client.client import GoogleCredentials\n",
        "\n",
        "gc = gspread.authorize(GoogleCredentials.get_application_default())"
      ],
      "execution_count": 0,
      "outputs": []
    },
    {
      "cell_type": "markdown",
      "metadata": {
        "id": "TmGD971slbXl",
        "colab_type": "text"
      },
      "source": [
        "#Data Set Up"
      ]
    },
    {
      "cell_type": "code",
      "metadata": {
        "id": "_AgAvx7mlY0i",
        "colab_type": "code",
        "colab": {}
      },
      "source": [
        "# Download data from Google Drive\n",
        "wks = gc.open_by_url('https://docs.google.com/spreadsheets/d/1IpPsg0TLELx_f32W8Fgj8cZVeVicwr9pIYIZweCleAA/edit?usp=sharing').get_worksheet(0)\n",
        "recipients = wks.get_all_values()"
      ],
      "execution_count": 0,
      "outputs": []
    },
    {
      "cell_type": "code",
      "metadata": {
        "id": "egG6LeU9l-Q5",
        "colab_type": "code",
        "colab": {}
      },
      "source": [
        "import pandas as pd\n",
        "from sklearn.linear_model import LogisticRegression"
      ],
      "execution_count": 0,
      "outputs": []
    },
    {
      "cell_type": "code",
      "metadata": {
        "id": "dYMyR8KzmC3B",
        "colab_type": "code",
        "colab": {}
      },
      "source": [
        "# Create DataFrame object\n",
        "dataframe = pd.DataFrame.from_records(recipients)"
      ],
      "execution_count": 0,
      "outputs": []
    },
    {
      "cell_type": "code",
      "metadata": {
        "id": "9nZSDpk0mIdL",
        "colab_type": "code",
        "colab": {}
      },
      "source": [
        "# Display beginning of Dataframe\n",
        "dataframe.head()"
      ],
      "execution_count": 0,
      "outputs": []
    },
    {
      "cell_type": "code",
      "metadata": {
        "id": "QYLt-ql9n3h4",
        "colab_type": "code",
        "colab": {}
      },
      "source": [
        "print(dataframe.shape)"
      ],
      "execution_count": 0,
      "outputs": []
    },
    {
      "cell_type": "code",
      "metadata": {
        "id": "SoEpzbgOoENf",
        "colab_type": "code",
        "colab": {}
      },
      "source": [
        "# need to update dataframe to have column headers\n",
        "dataframe.columns = dataframe.iloc[0]\n",
        "dataframe = dataframe[1:]\n",
        "\n",
        "# Validate Dataframe columns\n",
        "list(dataframe.columns.values)"
      ],
      "execution_count": 0,
      "outputs": []
    },
    {
      "cell_type": "code",
      "metadata": {
        "id": "cTl3CXkuoLYg",
        "colab_type": "code",
        "colab": {}
      },
      "source": [
        "# Descriptive statistics of Essentials Dataframe\n",
        "dataframe.describe()"
      ],
      "execution_count": 0,
      "outputs": []
    },
    {
      "cell_type": "markdown",
      "metadata": {
        "id": "x2sQBNhomPxb",
        "colab_type": "text"
      },
      "source": [
        "#Create Model"
      ]
    },
    {
      "cell_type": "code",
      "metadata": {
        "id": "Md5nL73vmS--",
        "colab_type": "code",
        "colab": {}
      },
      "source": [
        "# create train df\n",
        "train = dataframe"
      ],
      "execution_count": 0,
      "outputs": []
    },
    {
      "cell_type": "code",
      "metadata": {
        "id": "jM3_m42BmbEE",
        "colab_type": "code",
        "colab": {}
      },
      "source": [
        "# features and target\n",
        "target = 'over30min'\n",
        "features = ['start_station_id', 'end_station_id', 'gender', 'dayofweek']"
      ],
      "execution_count": 0,
      "outputs": []
    },
    {
      "cell_type": "code",
      "metadata": {
        "id": "0go_j4RvnHAA",
        "colab_type": "code",
        "colab": {}
      },
      "source": [
        "# X matrix, y vector\n",
        "X = train[features]\n",
        "y = train[target]"
      ],
      "execution_count": 0,
      "outputs": []
    },
    {
      "cell_type": "code",
      "metadata": {
        "id": "aup4_3FToVZu",
        "colab_type": "code",
        "colab": {}
      },
      "source": [
        "# model \n",
        "model = LogisticRegression()\n",
        "model.fit(X, y)\n",
        "model.score(X,y)"
      ],
      "execution_count": 0,
      "outputs": []
    },
    {
      "cell_type": "code",
      "metadata": {
        "id": "6HbtC3amsfyX",
        "colab_type": "code",
        "colab": {}
      },
      "source": [
        "train.head()"
      ],
      "execution_count": 0,
      "outputs": []
    },
    {
      "cell_type": "markdown",
      "metadata": {
        "id": "Wv6y5qeLsiDb",
        "colab_type": "text"
      },
      "source": [
        "# Pickle Mode"
      ]
    },
    {
      "cell_type": "code",
      "metadata": {
        "id": "fkp0erUGsl7n",
        "colab_type": "code",
        "colab": {}
      },
      "source": [
        "import pickle\n",
        "pickle.dump(model, open('model.pkl', 'wb'))"
      ],
      "execution_count": 0,
      "outputs": []
    },
    {
      "cell_type": "markdown",
      "metadata": {
        "id": "2QGuAuH0s-Tc",
        "colab_type": "text"
      },
      "source": [
        "#Test Flask in Production"
      ]
    },
    {
      "cell_type": "code",
      "metadata": {
        "id": "FHfunOVPtBdG",
        "colab_type": "code",
        "colab": {}
      },
      "source": [
        "import requests\n",
        "import json"
      ],
      "execution_count": 0,
      "outputs": []
    },
    {
      "cell_type": "code",
      "metadata": {
        "id": "k6KKhV-VtDjY",
        "colab_type": "code",
        "colab": {}
      },
      "source": [
        "# local url\n",
        "url = 'http://127.0.0.1:5000/'\n",
        "\n",
        "# test data\n",
        "data = {  'start_station_id': 250\n",
        "             , 'end_station_id': 110\n",
        "             , 'gender': 1\n",
        "             , 'dayofweek': 5}\n",
        "\n",
        "data = json.dumps(data)\n",
        "data"
      ],
      "execution_count": 0,
      "outputs": []
    },
    {
      "cell_type": "code",
      "metadata": {
        "id": "3VggxeQ_tY4W",
        "colab_type": "code",
        "colab": {}
      },
      "source": [
        "r_survey = requests.post(url, data)\n",
        "print(r_survey)"
      ],
      "execution_count": 0,
      "outputs": []
    },
    {
      "cell_type": "code",
      "metadata": {
        "id": "HPhWxEs6zSMQ",
        "colab_type": "code",
        "colab": {}
      },
      "source": [
        "send_request = requests.post(url, data)\n",
        "print(send_request)"
      ],
      "execution_count": 0,
      "outputs": []
    },
    {
      "cell_type": "code",
      "metadata": {
        "id": "WJqSm8tYzo8E",
        "colab_type": "code",
        "colab": {}
      },
      "source": [
        "print(send_request.json())"
      ],
      "execution_count": 0,
      "outputs": []
    },
    {
      "cell_type": "markdown",
      "metadata": {
        "id": "I6RFZ2hPzpkC",
        "colab_type": "text"
      },
      "source": [
        "#Test App in Heroku"
      ]
    },
    {
      "cell_type": "code",
      "metadata": {
        "id": "nt6p1yb-1OpC",
        "colab_type": "code",
        "colab": {}
      },
      "source": [
        "# heroku url\n",
        "heroku_url = 'https://msds434-citibikenyc.herokuapp.com/' \n",
        "\n",
        "# test data\n",
        "data = {'start_station_id': 250\n",
        "      , 'end_station_id': 110\n",
        "      , 'gender': 1\n",
        "      , 'dayofweek': 5}\n",
        "\n",
        "data = json.dumps(data)\n",
        "data"
      ],
      "execution_count": 0,
      "outputs": []
    },
    {
      "cell_type": "code",
      "metadata": {
        "id": "58Abfz322e8J",
        "colab_type": "code",
        "colab": {}
      },
      "source": [
        "# check response code\n",
        "r_survey = requests.post(heroku_url, data)\n",
        "print(r_survey)"
      ],
      "execution_count": 0,
      "outputs": []
    },
    {
      "cell_type": "code",
      "metadata": {
        "id": "UihOkHhk2giq",
        "colab_type": "code",
        "colab": {}
      },
      "source": [
        "# get prediction\n",
        "print(send_request.json())"
      ],
      "execution_count": 0,
      "outputs": []
    }
  ]
}