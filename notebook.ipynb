{
  "nbformat": 4,
  "nbformat_minor": 0,
  "metadata": {
    "colab": {
      "name": "notebook.ipynb",
      "provenance": []
    },
    "kernelspec": {
      "name": "python3",
      "display_name": "Python 3"
    }
  },
  "cells": [
    {
      "cell_type": "code",
      "metadata": {
        "id": "mWKh4PachItc",
        "colab_type": "code",
        "colab": {}
      },
      "source": [
        "from myrepolib import repomod"
      ],
      "execution_count": 0,
      "outputs": []
    }
  ]
}